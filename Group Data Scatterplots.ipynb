{
 "cells": [
  {
   "cell_type": "code",
   "execution_count": 1,
   "metadata": {},
   "outputs": [],
   "source": [
    "%load_ext autoreload\n",
    "#%load_ext memory_profiler\n",
    "%autoreload 2"
   ]
  },
  {
   "cell_type": "code",
   "execution_count": 2,
   "metadata": {
    "collapsed": true
   },
   "outputs": [],
   "source": [
    "from suppression import *"
   ]
  },
  {
   "cell_type": "code",
   "execution_count": 3,
   "metadata": {
    "collapsed": true
   },
   "outputs": [],
   "source": [
    "df = load_psychophys('supp_data_means.txt')\n",
    "task = 'OS'\n",
    "df = df[df['Task']==task]"
   ]
  },
  {
   "cell_type": "code",
   "execution_count": 4,
   "metadata": {},
   "outputs": [
    {
     "data": {
      "text/plain": [
       "Index(['Task', 'Presentation', 'Orientation', 'Eye', 'Population', 'Trace',\n",
       "       'Bin', 'ThreshElev', 'ThreshElev_SE', 'RelMaskContrast',\n",
       "       'logThreshElev'],\n",
       "      dtype='object')"
      ]
     },
     "execution_count": 4,
     "metadata": {},
     "output_type": "execute_result"
    }
   ],
   "source": [
    "df.columns"
   ]
  },
  {
   "cell_type": "code",
   "execution_count": 5,
   "metadata": {},
   "outputs": [
    {
     "data": {
      "text/html": [
       "<div>\n",
       "<style>\n",
       "    .dataframe thead tr:only-child th {\n",
       "        text-align: right;\n",
       "    }\n",
       "\n",
       "    .dataframe thead th {\n",
       "        text-align: left;\n",
       "    }\n",
       "\n",
       "    .dataframe tbody tr th {\n",
       "        vertical-align: top;\n",
       "    }\n",
       "</style>\n",
       "<table border=\"1\" class=\"dataframe\">\n",
       "  <thead>\n",
       "    <tr style=\"text-align: right;\">\n",
       "      <th></th>\n",
       "      <th>Task</th>\n",
       "      <th>Presentation</th>\n",
       "      <th>Orientation</th>\n",
       "      <th>Eye</th>\n",
       "      <th>Population</th>\n",
       "      <th>Trace</th>\n",
       "      <th>Bin</th>\n",
       "      <th>ThreshElev</th>\n",
       "      <th>ThreshElev_SE</th>\n",
       "      <th>RelMaskContrast</th>\n",
       "      <th>logThreshElev</th>\n",
       "    </tr>\n",
       "  </thead>\n",
       "  <tbody>\n",
       "    <tr>\n",
       "      <th>134</th>\n",
       "      <td>OS</td>\n",
       "      <td>nMono</td>\n",
       "      <td>Iso</td>\n",
       "      <td>De</td>\n",
       "      <td>Amblyope</td>\n",
       "      <td>Amblyope-De</td>\n",
       "      <td>1</td>\n",
       "      <td>0.756</td>\n",
       "      <td>0.142</td>\n",
       "      <td>5.000</td>\n",
       "      <td>-0.121478</td>\n",
       "    </tr>\n",
       "    <tr>\n",
       "      <th>135</th>\n",
       "      <td>OS</td>\n",
       "      <td>nMono</td>\n",
       "      <td>Iso</td>\n",
       "      <td>De</td>\n",
       "      <td>Amblyope</td>\n",
       "      <td>Amblyope-De</td>\n",
       "      <td>2</td>\n",
       "      <td>1.456</td>\n",
       "      <td>0.176</td>\n",
       "      <td>9.600</td>\n",
       "      <td>0.163161</td>\n",
       "    </tr>\n",
       "    <tr>\n",
       "      <th>136</th>\n",
       "      <td>OS</td>\n",
       "      <td>nMono</td>\n",
       "      <td>Iso</td>\n",
       "      <td>De</td>\n",
       "      <td>Amblyope</td>\n",
       "      <td>Amblyope-De</td>\n",
       "      <td>3</td>\n",
       "      <td>2.269</td>\n",
       "      <td>0.267</td>\n",
       "      <td>14.545</td>\n",
       "      <td>0.355834</td>\n",
       "    </tr>\n",
       "    <tr>\n",
       "      <th>137</th>\n",
       "      <td>OS</td>\n",
       "      <td>nMono</td>\n",
       "      <td>Iso</td>\n",
       "      <td>De</td>\n",
       "      <td>Amblyope</td>\n",
       "      <td>Amblyope-De</td>\n",
       "      <td>4</td>\n",
       "      <td>2.962</td>\n",
       "      <td>0.323</td>\n",
       "      <td>26.500</td>\n",
       "      <td>0.471585</td>\n",
       "    </tr>\n",
       "    <tr>\n",
       "      <th>138</th>\n",
       "      <td>OS</td>\n",
       "      <td>nMono</td>\n",
       "      <td>Iso</td>\n",
       "      <td>De</td>\n",
       "      <td>Amblyope</td>\n",
       "      <td>Amblyope-De</td>\n",
       "      <td>5</td>\n",
       "      <td>3.655</td>\n",
       "      <td>0.326</td>\n",
       "      <td>38.900</td>\n",
       "      <td>0.562887</td>\n",
       "    </tr>\n",
       "  </tbody>\n",
       "</table>\n",
       "</div>"
      ],
      "text/plain": [
       "    Task Presentation Orientation Eye Population        Trace  Bin  \\\n",
       "134   OS        nMono         Iso  De   Amblyope  Amblyope-De    1   \n",
       "135   OS        nMono         Iso  De   Amblyope  Amblyope-De    2   \n",
       "136   OS        nMono         Iso  De   Amblyope  Amblyope-De    3   \n",
       "137   OS        nMono         Iso  De   Amblyope  Amblyope-De    4   \n",
       "138   OS        nMono         Iso  De   Amblyope  Amblyope-De    5   \n",
       "\n",
       "     ThreshElev  ThreshElev_SE  RelMaskContrast  logThreshElev  \n",
       "134       0.756          0.142            5.000      -0.121478  \n",
       "135       1.456          0.176            9.600       0.163161  \n",
       "136       2.269          0.267           14.545       0.355834  \n",
       "137       2.962          0.323           26.500       0.471585  \n",
       "138       3.655          0.326           38.900       0.562887  "
      ]
     },
     "execution_count": 5,
     "metadata": {},
     "output_type": "execute_result"
    }
   ],
   "source": [
    "df[df.Trace==\"Amblyope-De\"].head()"
   ]
  },
  {
   "cell_type": "markdown",
   "metadata": {},
   "source": [
    "## Various plots ##"
   ]
  },
  {
   "cell_type": "code",
   "execution_count": 6,
   "metadata": {},
   "outputs": [
    {
     "name": "stdout",
     "output_type": "stream",
     "text": [
      "Plotting OS.Cross\n",
      "Plotting OS.Iso\n",
      "Plots saved at plots/collab-201710/OS_scatters_group.pdf\n"
     ]
    }
   ],
   "source": [
    "#%%prun -s cumulative -q -l 10 -T prun0\n",
    "#%mprun -T mprof0 -f group_facet_plot\n",
    "group_facet_plots(df, scaterror_plot, 'plots/collab-201710/{}_scatters_group.pdf'.format(task),\n",
    "                  ['Task','Orientation'], #each combo of this gets its own page\n",
    "                  row='Orientation', col='Presentation', # facet rows and columns\n",
    "                  x=\"RelMaskContrast\", y=\"ThreshElev\", # x, y\n",
    "                  hue='Trace',yerr='ThreshElev_SE') #coloring of points, error column"
   ]
  },
  {
   "cell_type": "code",
   "execution_count": null,
   "metadata": {
    "collapsed": true
   },
   "outputs": [],
   "source": []
  }
 ],
 "metadata": {
  "anaconda-cloud": {},
  "kernelspec": {
   "display_name": "Python 3",
   "language": "python",
   "name": "python3"
  },
  "language_info": {
   "codemirror_mode": {
    "name": "ipython",
    "version": 3
   },
   "file_extension": ".py",
   "mimetype": "text/x-python",
   "name": "python",
   "nbconvert_exporter": "python",
   "pygments_lexer": "ipython3",
   "version": "3.6.2"
  }
 },
 "nbformat": 4,
 "nbformat_minor": 1
}
