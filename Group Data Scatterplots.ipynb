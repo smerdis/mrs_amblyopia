{
 "cells": [
  {
   "cell_type": "code",
   "execution_count": 1,
   "metadata": {
    "collapsed": true
   },
   "outputs": [],
   "source": [
    "%load_ext autoreload\n",
    "#%load_ext memory_profiler\n",
    "%autoreload 2"
   ]
  },
  {
   "cell_type": "code",
   "execution_count": 2,
   "metadata": {
    "collapsed": true
   },
   "outputs": [],
   "source": [
    "import utils\n",
    "import suppression as s\n",
    "\n",
    "import seaborn as sns\n",
    "import matplotlib.pyplot as plt"
   ]
  },
  {
   "cell_type": "code",
   "execution_count": 3,
   "metadata": {
    "collapsed": true
   },
   "outputs": [],
   "source": [
    "df = utils.load_psychophys('supp_data_means.txt')\n",
    "task = 'SS'\n",
    "df = df[df['Task']==task]"
   ]
  },
  {
   "cell_type": "code",
   "execution_count": 4,
   "metadata": {},
   "outputs": [
    {
     "data": {
      "text/plain": [
       "Index(['Task', 'Presentation', 'Orientation', 'Eye', 'Population', 'Trace',\n",
       "       'Bin', 'ThreshElev', 'ThreshElev_SE', 'RelMaskContrast',\n",
       "       'logThreshElev', 'logRelMaskContrast'],\n",
       "      dtype='object')"
      ]
     },
     "execution_count": 4,
     "metadata": {},
     "output_type": "execute_result"
    }
   ],
   "source": [
    "df.columns"
   ]
  },
  {
   "cell_type": "code",
   "execution_count": 5,
   "metadata": {},
   "outputs": [
    {
     "data": {
      "text/html": [
       "<div>\n",
       "<style>\n",
       "    .dataframe thead tr:only-child th {\n",
       "        text-align: right;\n",
       "    }\n",
       "\n",
       "    .dataframe thead th {\n",
       "        text-align: left;\n",
       "    }\n",
       "\n",
       "    .dataframe tbody tr th {\n",
       "        vertical-align: top;\n",
       "    }\n",
       "</style>\n",
       "<table border=\"1\" class=\"dataframe\">\n",
       "  <thead>\n",
       "    <tr style=\"text-align: right;\">\n",
       "      <th></th>\n",
       "      <th>Task</th>\n",
       "      <th>Presentation</th>\n",
       "      <th>Orientation</th>\n",
       "      <th>Eye</th>\n",
       "      <th>Population</th>\n",
       "      <th>Trace</th>\n",
       "      <th>Bin</th>\n",
       "      <th>ThreshElev</th>\n",
       "      <th>ThreshElev_SE</th>\n",
       "      <th>RelMaskContrast</th>\n",
       "      <th>logThreshElev</th>\n",
       "      <th>logRelMaskContrast</th>\n",
       "    </tr>\n",
       "  </thead>\n",
       "  <tbody>\n",
       "    <tr>\n",
       "      <th>22</th>\n",
       "      <td>SS</td>\n",
       "      <td>nMono</td>\n",
       "      <td>Iso</td>\n",
       "      <td>De</td>\n",
       "      <td>Amblyope</td>\n",
       "      <td>Amblyope-De</td>\n",
       "      <td>1</td>\n",
       "      <td>0.739</td>\n",
       "      <td>0.098</td>\n",
       "      <td>5.000</td>\n",
       "      <td>-0.131356</td>\n",
       "      <td>0.698970</td>\n",
       "    </tr>\n",
       "    <tr>\n",
       "      <th>23</th>\n",
       "      <td>SS</td>\n",
       "      <td>nMono</td>\n",
       "      <td>Iso</td>\n",
       "      <td>De</td>\n",
       "      <td>Amblyope</td>\n",
       "      <td>Amblyope-De</td>\n",
       "      <td>2</td>\n",
       "      <td>0.781</td>\n",
       "      <td>0.064</td>\n",
       "      <td>9.500</td>\n",
       "      <td>-0.107349</td>\n",
       "      <td>0.977724</td>\n",
       "    </tr>\n",
       "    <tr>\n",
       "      <th>24</th>\n",
       "      <td>SS</td>\n",
       "      <td>nMono</td>\n",
       "      <td>Iso</td>\n",
       "      <td>De</td>\n",
       "      <td>Amblyope</td>\n",
       "      <td>Amblyope-De</td>\n",
       "      <td>3</td>\n",
       "      <td>0.759</td>\n",
       "      <td>0.078</td>\n",
       "      <td>16.300</td>\n",
       "      <td>-0.119758</td>\n",
       "      <td>1.212188</td>\n",
       "    </tr>\n",
       "    <tr>\n",
       "      <th>25</th>\n",
       "      <td>SS</td>\n",
       "      <td>nMono</td>\n",
       "      <td>Iso</td>\n",
       "      <td>De</td>\n",
       "      <td>Amblyope</td>\n",
       "      <td>Amblyope-De</td>\n",
       "      <td>4</td>\n",
       "      <td>1.232</td>\n",
       "      <td>0.142</td>\n",
       "      <td>30.000</td>\n",
       "      <td>0.090611</td>\n",
       "      <td>1.477121</td>\n",
       "    </tr>\n",
       "    <tr>\n",
       "      <th>26</th>\n",
       "      <td>SS</td>\n",
       "      <td>nMono</td>\n",
       "      <td>Iso</td>\n",
       "      <td>De</td>\n",
       "      <td>Amblyope</td>\n",
       "      <td>Amblyope-De</td>\n",
       "      <td>5</td>\n",
       "      <td>1.624</td>\n",
       "      <td>0.159</td>\n",
       "      <td>45.333</td>\n",
       "      <td>0.210586</td>\n",
       "      <td>1.656414</td>\n",
       "    </tr>\n",
       "  </tbody>\n",
       "</table>\n",
       "</div>"
      ],
      "text/plain": [
       "   Task Presentation Orientation Eye Population        Trace  Bin  ThreshElev  \\\n",
       "22   SS        nMono         Iso  De   Amblyope  Amblyope-De    1       0.739   \n",
       "23   SS        nMono         Iso  De   Amblyope  Amblyope-De    2       0.781   \n",
       "24   SS        nMono         Iso  De   Amblyope  Amblyope-De    3       0.759   \n",
       "25   SS        nMono         Iso  De   Amblyope  Amblyope-De    4       1.232   \n",
       "26   SS        nMono         Iso  De   Amblyope  Amblyope-De    5       1.624   \n",
       "\n",
       "    ThreshElev_SE  RelMaskContrast  logThreshElev  logRelMaskContrast  \n",
       "22          0.098            5.000      -0.131356            0.698970  \n",
       "23          0.064            9.500      -0.107349            0.977724  \n",
       "24          0.078           16.300      -0.119758            1.212188  \n",
       "25          0.142           30.000       0.090611            1.477121  \n",
       "26          0.159           45.333       0.210586            1.656414  "
      ]
     },
     "execution_count": 5,
     "metadata": {},
     "output_type": "execute_result"
    }
   ],
   "source": [
    "df[df.Trace==\"Amblyope-De\"].head()"
   ]
  },
  {
   "cell_type": "markdown",
   "metadata": {},
   "source": [
    "## Various plots ##"
   ]
  },
  {
   "cell_type": "code",
   "execution_count": 6,
   "metadata": {
    "collapsed": true
   },
   "outputs": [],
   "source": [
    "plot_dir = \"plots/redo-201810\""
   ]
  },
  {
   "cell_type": "code",
   "execution_count": 7,
   "metadata": {},
   "outputs": [
    {
     "name": "stdout",
     "output_type": "stream",
     "text": [
      "('SS', 'Cross', 'nDicho')\n",
      "('SS', 'Cross', 'nMono')\n",
      "('SS', 'Iso', 'nDicho')\n",
      "('SS', 'Iso', 'nMono')\n"
     ]
    }
   ],
   "source": [
    "#%%prun -s cumulative -q -l 10 -T prun0\n",
    "#%mprun -T mprof0 -f group_facet_plot\n",
    "\n",
    "colors = [\"#3274a1\",\"#3274a1\",\"#e1812c\",\"#e1812c\"]\n",
    "with sns.color_palette(colors):\n",
    "    with s.PdfPages(f\"{plot_dir}/{task}_scatters_group.pdf\") as pdf:\n",
    "            pops = df.groupby([\"Task\", \"Orientation\", \"Presentation\"])\n",
    "            for pop, pop_gr in pops:\n",
    "                print(pop)\n",
    "                g = s.group_scatter_plot(x=\"RelMaskContrast\", y=\"ThreshElev\", data=pop_gr, yerr='ThreshElev_SE')\n",
    "                pdf.savefig(g)\n",
    "            plt.close('all')"
   ]
  },
  {
   "cell_type": "code",
   "execution_count": null,
   "metadata": {
    "collapsed": true
   },
   "outputs": [],
   "source": []
  }
 ],
 "metadata": {
  "anaconda-cloud": {},
  "kernelspec": {
   "display_name": "Python 3",
   "language": "python",
   "name": "python3"
  },
  "language_info": {
   "codemirror_mode": {
    "name": "ipython",
    "version": 3
   },
   "file_extension": ".py",
   "mimetype": "text/x-python",
   "name": "python",
   "nbconvert_exporter": "python",
   "pygments_lexer": "ipython3",
   "version": "3.6.2"
  },
  "varInspector": {
   "cols": {
    "lenName": 16,
    "lenType": 16,
    "lenVar": 40
   },
   "kernels_config": {
    "python": {
     "delete_cmd_postfix": "",
     "delete_cmd_prefix": "del ",
     "library": "var_list.py",
     "varRefreshCmd": "print(var_dic_list())"
    },
    "r": {
     "delete_cmd_postfix": ") ",
     "delete_cmd_prefix": "rm(",
     "library": "var_list.r",
     "varRefreshCmd": "cat(var_dic_list()) "
    }
   },
   "types_to_exclude": [
    "module",
    "function",
    "builtin_function_or_method",
    "instance",
    "_Feature"
   ],
   "window_display": false
  }
 },
 "nbformat": 4,
 "nbformat_minor": 1
}
