{
 "cells": [
  {
   "cell_type": "markdown",
   "metadata": {},
   "source": [
    "# The purpose of this notebook\n",
    "\n",
    "In discussion with Michael, I mentioned that we support our use of a linear model of the suppression data by showing that it has better mean and median R^2 than a linear fit to the log-logged data. However, both box plots of fits showed a group of curves (each being one eye of one patient viewing the target under a certain surround/presentation condition etc) that were very badly fit by either model, like near zero and enough to be outliers on a boxplot. So, we thought maybe we'd remove them and see if that changes the results. That's what I'm attempting to do here; The immediately previous notebook, whose graphs are in redo-201901, are the comparison (these are in redo-2901902-exclude_bad_fits)"
   ]
  },
  {
   "cell_type": "code",
   "execution_count": null,
   "metadata": {
    "ExecuteTime": {
     "end_time": "2020-04-30T21:30:11.857456Z",
     "start_time": "2020-04-30T21:30:11.659674Z"
    }
   },
   "outputs": [],
   "source": [
    "%load_ext autoreload\n",
    "%autoreload 2"
   ]
  },
  {
   "cell_type": "code",
   "execution_count": null,
   "metadata": {
    "ExecuteTime": {
     "end_time": "2020-04-30T21:30:14.230602Z",
     "start_time": "2020-04-30T21:30:11.866245Z"
    }
   },
   "outputs": [],
   "source": [
    "%matplotlib inline"
   ]
  },
  {
   "cell_type": "code",
   "execution_count": null,
   "metadata": {
    "ExecuteTime": {
     "end_time": "2020-04-30T21:30:17.777483Z",
     "start_time": "2020-04-30T21:30:14.238100Z"
    }
   },
   "outputs": [],
   "source": [
    "import string\n",
    "\n",
    "import numpy as np\n",
    "np.set_printoptions(precision=3)\n",
    "\n",
    "import pandas as pd\n",
    "import scipy.stats as st\n",
    "import statsmodels.stats.multitest as mt\n",
    "\n",
    "import matplotlib.pyplot as plt\n",
    "import matplotlib.ticker as tick\n",
    "import seaborn as sns\n",
    "\n",
    "from scipy import stats\n",
    "\n",
    "import suppression as s\n",
    "import utils"
   ]
  },
  {
   "cell_type": "code",
   "execution_count": null,
   "metadata": {
    "ExecuteTime": {
     "end_time": "2020-04-30T21:30:17.934857Z",
     "start_time": "2020-04-30T21:30:17.790592Z"
    }
   },
   "outputs": [],
   "source": [
    "pd.__version__"
   ]
  },
  {
   "cell_type": "code",
   "execution_count": null,
   "metadata": {
    "ExecuteTime": {
     "end_time": "2020-04-30T21:30:18.114099Z",
     "start_time": "2020-04-30T21:30:17.941309Z"
    }
   },
   "outputs": [],
   "source": [
    "sns.__version__"
   ]
  },
  {
   "cell_type": "code",
   "execution_count": null,
   "metadata": {
    "ExecuteTime": {
     "end_time": "2020-04-30T21:30:18.227142Z",
     "start_time": "2020-04-30T21:30:18.123955Z"
    }
   },
   "outputs": [],
   "source": [
    "sns"
   ]
  },
  {
   "cell_type": "code",
   "execution_count": null,
   "metadata": {
    "ExecuteTime": {
     "end_time": "2020-04-30T21:30:18.347747Z",
     "start_time": "2020-04-30T21:30:18.237639Z"
    }
   },
   "outputs": [],
   "source": [
    "gaba_fn = 'gaba_data_2019.txt'\n",
    "supp_fn = 'supp_data_individual_20170427.txt'"
   ]
  },
  {
   "cell_type": "code",
   "execution_count": null,
   "metadata": {
    "ExecuteTime": {
     "end_time": "2020-04-30T21:30:19.075252Z",
     "start_time": "2020-04-30T21:30:18.394711Z"
    }
   },
   "outputs": [],
   "source": [
    "sdf = utils.load_psychophys(supp_fn)\n",
    "gaba_col = 'mean_occ_all' #'motor' # or 'occ_binoc', 'mean_occ_all', 'motor'\n",
    "gdf = utils.load_gaba(gaba_fn, gaba_col)\n",
    "sdf.head()"
   ]
  },
  {
   "cell_type": "code",
   "execution_count": null,
   "metadata": {
    "ExecuteTime": {
     "end_time": "2020-04-30T21:30:19.327513Z",
     "start_time": "2020-04-30T21:30:19.086821Z"
    }
   },
   "outputs": [],
   "source": [
    "gdf.Population = gdf.Population.astype('category')\n",
    "gdf.Population.cat.categories # 0 AMB 1 CON\n",
    "gdf.Population = gdf.Population.cat.rename_categories(['Persons with Amblyopia', 'Normally-sighted persons'])"
   ]
  },
  {
   "cell_type": "code",
   "execution_count": null,
   "metadata": {
    "ExecuteTime": {
     "end_time": "2020-04-30T21:30:19.590041Z",
     "start_time": "2020-04-30T21:30:19.332105Z"
    }
   },
   "outputs": [],
   "source": [
    "demos = pd.read_csv('demos.csv', lineterminator=\"\\r\")\n",
    "# 1 = amb, 0 = control\n",
    "subs_to_swap_eyes = demos[demos.swapNDE_EY==1].initials.unique() # subjects whose NDE/DE assignment is wrong in sdf\n",
    "print(subs_to_swap_eyes)\n",
    "demos"
   ]
  },
  {
   "cell_type": "code",
   "execution_count": null,
   "metadata": {
    "ExecuteTime": {
     "end_time": "2020-04-30T21:30:19.764588Z",
     "start_time": "2020-04-30T21:30:19.594493Z"
    }
   },
   "outputs": [],
   "source": [
    "demos[demos.initials=='nl']"
   ]
  },
  {
   "cell_type": "markdown",
   "metadata": {},
   "source": [
    "### Set variables used for graphing"
   ]
  },
  {
   "cell_type": "code",
   "execution_count": null,
   "metadata": {
    "ExecuteTime": {
     "end_time": "2020-04-30T21:30:19.850222Z",
     "start_time": "2020-04-30T21:30:19.776944Z"
    }
   },
   "outputs": [],
   "source": [
    "colors_amb = [\"#3274a1\",\"#72b4e1\"]\n",
    "colors_con = [\"#e1812c\", \"#ffc68c\"]\n",
    "colors4 = colors_amb + colors_con\n",
    "traces4 = ['Amblyope-De', 'Amblyope-Nde', 'Control-De', 'Control-Nde']\n",
    "traces_graph4 = [f\"Persons with\\nAmblyopia, DE\", f\"Persons with\\nAmblyopia, NDE\", \\\n",
    "                 f\"Normally-sighted\\npersons, DE\", f\"Normally-sighted\\npersons, NDE\"]\n",
    "plot_dir = f\"plots/redo-202001-{gaba_col}-fixeyes\""
   ]
  },
  {
   "cell_type": "markdown",
   "metadata": {},
   "source": [
    "## Analyze tasks separately (before subsetting to include common subjects)##"
   ]
  },
  {
   "cell_type": "code",
   "execution_count": null,
   "metadata": {
    "ExecuteTime": {
     "end_time": "2020-04-30T21:30:20.071378Z",
     "start_time": "2020-04-30T21:30:19.940352Z"
    },
    "scrolled": true
   },
   "outputs": [],
   "source": [
    "pp_subjs = np.unique(sdf.Subject)\n",
    "n_pp_subjs = len(pp_subjs)\n",
    "gaba_subjs = np.unique(gdf.subjName)\n",
    "n_gaba_subjs = len(gaba_subjs)\n",
    "print(f\"Psychophysics subjects (n={n_pp_subjs}):\\n\", pp_subjs)\n",
    "print(f\"GABA subjects (n={n_gaba_subjs}):\\n\", gaba_subjs)"
   ]
  },
  {
   "cell_type": "markdown",
   "metadata": {},
   "source": [
    "# GABA only analyses"
   ]
  },
  {
   "cell_type": "markdown",
   "metadata": {},
   "source": [
    "### GABA t-test, CON v AMB"
   ]
  },
  {
   "cell_type": "code",
   "execution_count": null,
   "metadata": {
    "ExecuteTime": {
     "end_time": "2020-04-30T21:30:20.225350Z",
     "start_time": "2020-04-30T21:30:20.075980Z"
    }
   },
   "outputs": [],
   "source": [
    "gdf"
   ]
  },
  {
   "cell_type": "markdown",
   "metadata": {},
   "source": [
    "#### Remove AM and TT based on discussions with Kelly 12/2019."
   ]
  },
  {
   "cell_type": "code",
   "execution_count": null,
   "metadata": {
    "ExecuteTime": {
     "end_time": "2020-04-30T21:30:20.892633Z",
     "start_time": "2020-04-30T21:30:20.228837Z"
    }
   },
   "outputs": [],
   "source": [
    "gdf_reduced = gdf[(gdf.subjName != 'am') & (gdf.subjName !='tt')]\n",
    "pop_group_reduced = gdf_reduced.groupby(\"Population\")\n",
    "pop_group_reduced.describe()"
   ]
  },
  {
   "cell_type": "code",
   "execution_count": null,
   "metadata": {
    "ExecuteTime": {
     "end_time": "2020-04-30T21:30:21.250099Z",
     "start_time": "2020-04-30T21:30:20.925432Z"
    }
   },
   "outputs": [],
   "source": [
    "#print(*pop_group_reduced['GABA'])\n",
    "gaba_per_group = [col for col_name, col in pop_group_reduced['GABA']]\n",
    "(tstat, pval) = st.ttest_ind(*gaba_per_group, nan_policy='omit')\n",
    "print(tstat, pval)"
   ]
  },
  {
   "cell_type": "code",
   "execution_count": null,
   "metadata": {
    "ExecuteTime": {
     "end_time": "2020-04-30T21:30:21.581267Z",
     "start_time": "2020-04-30T21:30:21.273422Z"
    }
   },
   "outputs": [],
   "source": [
    "pop_group = gdf.groupby(\"Population\")\n",
    "pop_group.describe(percentiles=[.5])"
   ]
  },
  {
   "cell_type": "code",
   "execution_count": null,
   "metadata": {
    "ExecuteTime": {
     "end_time": "2020-04-30T21:30:21.744687Z",
     "start_time": "2020-04-30T21:30:21.591262Z"
    }
   },
   "outputs": [],
   "source": [
    "gaba_per_group = [col for col_name, col in pop_group['GABA']]\n",
    "(tstat, pval) = st.ttest_ind(*gaba_per_group, nan_policy='omit')\n",
    "print(tstat, pval)"
   ]
  },
  {
   "cell_type": "markdown",
   "metadata": {},
   "source": [
    "**Thus we find no significant difference in GABA levels between CON and AMB regardless of whether AM and TT are included. At this point we may as well proceed with gdf_reduced only.**"
   ]
  },
  {
   "cell_type": "markdown",
   "metadata": {},
   "source": [
    "### GABA violin plot, all subjects"
   ]
  },
  {
   "cell_type": "code",
   "execution_count": null,
   "metadata": {
    "ExecuteTime": {
     "end_time": "2020-04-30T21:30:21.895753Z",
     "start_time": "2020-04-30T21:30:21.749732Z"
    }
   },
   "outputs": [],
   "source": [
    "gdf = gdf_reduced.copy()\n",
    "gaba_df_immutable = gdf_reduced.copy()\n",
    "gaba_df_immutable.groupby(\"Population\").describe() # Shoud be 14 PWA due to AM, TT exclusion"
   ]
  },
  {
   "cell_type": "code",
   "execution_count": null,
   "metadata": {
    "ExecuteTime": {
     "end_time": "2020-04-30T21:30:22.628678Z",
     "start_time": "2020-04-30T21:30:21.907055Z"
    },
    "code_folding": []
   },
   "outputs": [],
   "source": [
    "with s.PdfPages(f\"{plot_dir}/gaba_diffs_n{n_gaba_subjs}_{gaba_col}.pdf\") as pdf:\n",
    "    #with sns.plotting_context(context=None, font_scale=1.3):\n",
    "    sns.set_context(context=\"paper\", font_scale=1.3)\n",
    "    fig = plt.figure(figsize=(8,8))  # create a figure object\n",
    "    ax = fig.add_subplot(1, 1, 1)\n",
    "    ax = sns.violinplot(y='GABA',x='Presentation',hue='Population',data=gaba_df_immutable,split=True,inner='stick',ax=ax,legend=False)\n",
    "    ax.legend()\n",
    "    ax.xaxis.set_visible(False)\n",
    "    ax.set_ylabel('GABA:Creatine ratio')\n",
    "    sns.despine(left=True, bottom=True, right=True)\n",
    "    #ax.set_yticklabels([])\n",
    "    plt.show(ax.figure)\n",
    "    pdf.savefig(ax.figure)\n",
    "    plt.close(ax.figure)\n",
    "    plt.close('all')"
   ]
  },
  {
   "cell_type": "markdown",
   "metadata": {},
   "source": [
    "### Note: the subject with the lowest GABA:Cr ('tt', .162) is not in the psychophysics data"
   ]
  },
  {
   "cell_type": "markdown",
   "metadata": {},
   "source": [
    "# Select one psychophysical task's data #"
   ]
  },
  {
   "cell_type": "code",
   "execution_count": null,
   "metadata": {
    "ExecuteTime": {
     "end_time": "2020-04-30T21:30:22.717381Z",
     "start_time": "2020-04-30T21:30:22.631423Z"
    }
   },
   "outputs": [],
   "source": [
    "task = 'SS' # 'SS'\n",
    "sdf = sdf[sdf['Task']==task]\n",
    "df_to_model = sdf.copy() # make a deep copy"
   ]
  },
  {
   "cell_type": "code",
   "execution_count": null,
   "metadata": {
    "ExecuteTime": {
     "end_time": "2020-04-30T21:30:22.861028Z",
     "start_time": "2020-04-30T21:30:22.731393Z"
    }
   },
   "outputs": [],
   "source": [
    "df_to_model.head()"
   ]
  },
  {
   "cell_type": "code",
   "execution_count": null,
   "metadata": {
    "ExecuteTime": {
     "end_time": "2020-04-30T21:30:22.940807Z",
     "start_time": "2020-04-30T21:30:22.873557Z"
    }
   },
   "outputs": [],
   "source": [
    "n_pp_subjs_thistask = len(np.unique(df_to_model.Subject))\n",
    "amb_subjs = np.unique(df_to_model[df_to_model[\"Population\"]==\"Amblyope\"][\"Subject\"])\n",
    "print(amb_subjs)\n",
    "n_amb_subjs_thistask = len(amb_subjs)\n",
    "print(f\"There are {n_pp_subjs_thistask} subjects for Task {task}, of which {n_amb_subjs_thistask} are Amblyopes.\")"
   ]
  },
  {
   "cell_type": "markdown",
   "metadata": {},
   "source": [
    "### Verifying baselines based on KB feedback about fig R2"
   ]
  },
  {
   "cell_type": "code",
   "execution_count": null,
   "metadata": {
    "ExecuteTime": {
     "end_time": "2020-04-30T21:30:23.013010Z",
     "start_time": "2020-04-30T21:30:22.945095Z"
    }
   },
   "outputs": [],
   "source": [
    "onecond = df_to_model[(df_to_model['Presentation']=='nMono') & (df_to_model['Orientation']=='Iso')]"
   ]
  },
  {
   "cell_type": "code",
   "execution_count": null,
   "metadata": {
    "ExecuteTime": {
     "end_time": "2020-04-30T21:30:23.078538Z",
     "start_time": "2020-04-30T21:30:23.015663Z"
    }
   },
   "outputs": [],
   "source": [
    "cnde_subs = onecond[onecond['Trace']=='Control-Nde'].Subject.unique()"
   ]
  },
  {
   "cell_type": "code",
   "execution_count": null,
   "metadata": {
    "ExecuteTime": {
     "end_time": "2020-04-30T21:30:23.164321Z",
     "start_time": "2020-04-30T21:30:23.083018Z"
    }
   },
   "outputs": [],
   "source": [
    "cde_subs = onecond[onecond['Trace']=='Control-De'].Subject.unique()"
   ]
  },
  {
   "cell_type": "code",
   "execution_count": null,
   "metadata": {
    "ExecuteTime": {
     "end_time": "2020-04-30T21:30:23.293386Z",
     "start_time": "2020-04-30T21:30:23.168974Z"
    }
   },
   "outputs": [],
   "source": [
    "np.setdiff1d(cnde_subs, cde_subs)"
   ]
  },
  {
   "cell_type": "code",
   "execution_count": null,
   "metadata": {
    "ExecuteTime": {
     "end_time": "2020-04-30T21:30:23.520417Z",
     "start_time": "2020-04-30T21:30:23.298343Z"
    }
   },
   "outputs": [],
   "source": [
    "onecond.groupby(['Task','Orientation','Presentation','Population', 'Eye','Trace'])['BaselineThresh'].describe()"
   ]
  },
  {
   "cell_type": "code",
   "execution_count": null,
   "metadata": {
    "ExecuteTime": {
     "end_time": "2020-04-30T21:30:23.592186Z",
     "start_time": "2020-04-30T21:30:23.523947Z"
    }
   },
   "outputs": [],
   "source": [
    "thresh_noswap = onecond.groupby(['Task','Orientation','Presentation','Population', 'Eye','Trace',\"Subject\"])['BaselineThresh'].mean().reset_index()"
   ]
  },
  {
   "cell_type": "code",
   "execution_count": null,
   "metadata": {
    "ExecuteTime": {
     "end_time": "2020-04-30T21:30:23.681023Z",
     "start_time": "2020-04-30T21:30:23.595701Z"
    }
   },
   "outputs": [],
   "source": [
    "thresh_noswap.head()"
   ]
  },
  {
   "cell_type": "code",
   "execution_count": null,
   "metadata": {
    "ExecuteTime": {
     "end_time": "2020-04-30T21:30:23.767468Z",
     "start_time": "2020-04-30T21:30:23.683248Z"
    }
   },
   "outputs": [],
   "source": [
    "eye_counts = thresh_noswap['Subject'].value_counts().reset_index()"
   ]
  },
  {
   "cell_type": "code",
   "execution_count": null,
   "metadata": {
    "ExecuteTime": {
     "end_time": "2020-04-30T21:30:23.848270Z",
     "start_time": "2020-04-30T21:30:23.774934Z"
    }
   },
   "outputs": [],
   "source": [
    "eye_counts"
   ]
  },
  {
   "cell_type": "code",
   "execution_count": null,
   "metadata": {
    "ExecuteTime": {
     "end_time": "2020-04-30T21:30:23.929677Z",
     "start_time": "2020-04-30T21:30:23.859459Z"
    }
   },
   "outputs": [],
   "source": [
    "nounpaired = (eye_counts[eye_counts.Subject==2])['index'].unique()"
   ]
  },
  {
   "cell_type": "code",
   "execution_count": null,
   "metadata": {
    "ExecuteTime": {
     "end_time": "2020-04-30T21:30:23.989899Z",
     "start_time": "2020-04-30T21:30:23.932186Z"
    }
   },
   "outputs": [],
   "source": [
    "nounpaired"
   ]
  },
  {
   "cell_type": "code",
   "execution_count": null,
   "metadata": {
    "ExecuteTime": {
     "end_time": "2020-04-30T21:30:24.061846Z",
     "start_time": "2020-04-30T21:30:23.996570Z"
    }
   },
   "outputs": [],
   "source": [
    "thresh_noswap_nounpaired = thresh_noswap[thresh_noswap['Subject'].isin(nounpaired)]"
   ]
  },
  {
   "cell_type": "code",
   "execution_count": null,
   "metadata": {
    "ExecuteTime": {
     "end_time": "2020-04-30T21:30:24.134766Z",
     "start_time": "2020-04-30T21:30:24.064493Z"
    }
   },
   "outputs": [],
   "source": [
    "thresh_noswap.groupby(['Trace']).mean().reset_index()"
   ]
  },
  {
   "cell_type": "code",
   "execution_count": null,
   "metadata": {
    "ExecuteTime": {
     "end_time": "2020-04-30T21:30:24.297549Z",
     "start_time": "2020-04-30T21:30:24.146328Z"
    }
   },
   "outputs": [],
   "source": [
    "thresh_noswap_nounpaired.groupby(['Trace']).describe()"
   ]
  },
  {
   "cell_type": "code",
   "execution_count": null,
   "metadata": {
    "ExecuteTime": {
     "end_time": "2020-04-30T21:30:24.696152Z",
     "start_time": "2020-04-30T21:30:24.301194Z"
    }
   },
   "outputs": [],
   "source": [
    "sns.barplot(data=thresh_noswap, x=\"Trace\", y=\"BaselineThresh\")"
   ]
  },
  {
   "cell_type": "code",
   "execution_count": null,
   "metadata": {
    "ExecuteTime": {
     "end_time": "2020-04-30T21:30:25.097546Z",
     "start_time": "2020-04-30T21:30:24.699352Z"
    }
   },
   "outputs": [],
   "source": [
    "sns.swarmplot(data=onecond, x=\"Population\", y=\"BaselineThresh\", hue=\"Eye\")"
   ]
  },
  {
   "cell_type": "markdown",
   "metadata": {},
   "source": [
    "### This is where the NDE/DE should be switched based on KB findings (only affects Controls, luckily)\n",
    "\n",
    "But as the above plot shows, there are many more in Control-Nde than Control-De"
   ]
  },
  {
   "cell_type": "code",
   "execution_count": null,
   "metadata": {
    "ExecuteTime": {
     "end_time": "2020-04-30T21:30:25.609353Z",
     "start_time": "2020-04-30T21:30:25.100619Z"
    }
   },
   "outputs": [],
   "source": [
    "def swap_eyevars(df, subs=subs_to_swap_eyes):\n",
    "    #print(df, df['Subject'], len(df), sep='\\n')\n",
    "    if df['Subject'] in subs: # fix here\n",
    "        print(df['Subject'], \"SWAP!\")\n",
    "        if df['Eye'] == \"De\":\n",
    "            df['Eye'] = \"Nde\"\n",
    "            df['Trace'] = df['Trace'].replace('-De', '-Nde')\n",
    "        else:\n",
    "            df['Eye'] = \"De\"\n",
    "            df['Trace'] = df['Trace'].replace('-Nde', '-De')\n",
    "    return df\n",
    "\n",
    "def fix_eyes(df):\n",
    "    disp_cols = ['Subject','Eye','Trace','BaselineThresh']\n",
    "    rows_to_change = df_to_model[df_to_model.Subject.isin(subs_to_swap_eyes)]\n",
    "    print(rows_to_change[disp_cols])\n",
    "    assert(np.all(rows_to_change.Population == 'Control')) # should only affect controls\n",
    "    assert(np.all(rows_to_change.Trace.isin(['Control-De','Control-Nde']))) # these should be swapped along w/ Eye\n",
    "    fixed = df.apply(swap_eyevars, axis=1)\n",
    "    print(fixed[disp_cols])\n",
    "    return fixed\n",
    "\n",
    "df_to_model_fixeyes = fix_eyes(df_to_model)"
   ]
  },
  {
   "cell_type": "markdown",
   "metadata": {},
   "source": [
    "### Toggle which version of the data to use, \"fixed\" eyes or not"
   ]
  },
  {
   "cell_type": "code",
   "execution_count": null,
   "metadata": {
    "ExecuteTime": {
     "end_time": "2020-04-30T21:30:25.676044Z",
     "start_time": "2020-04-30T21:30:25.614267Z"
    }
   },
   "outputs": [],
   "source": [
    "df_to_model = df_to_model_fixeyes"
   ]
  },
  {
   "cell_type": "markdown",
   "metadata": {},
   "source": [
    "### GABA vs baseline contrast threshold, before excluding bad fits"
   ]
  },
  {
   "cell_type": "code",
   "execution_count": null,
   "metadata": {
    "ExecuteTime": {
     "end_time": "2020-04-30T21:30:25.748220Z",
     "start_time": "2020-04-30T21:30:25.679957Z"
    }
   },
   "outputs": [],
   "source": [
    "baseline_gaba_plot_df = df_to_model.join(gdf.set_index(['subjName'])['GABA'], on=['Subject'])"
   ]
  },
  {
   "cell_type": "code",
   "execution_count": null,
   "metadata": {
    "ExecuteTime": {
     "end_time": "2020-04-30T21:30:25.819128Z",
     "start_time": "2020-04-30T21:30:25.750600Z"
    }
   },
   "outputs": [],
   "source": [
    "simple_bg_df = baseline_gaba_plot_df.groupby(['Task','Orientation','Presentation','Population','Subject','Eye','Trace'])[['GABA','BaselineThresh']].agg(np.mean).reset_index()"
   ]
  },
  {
   "cell_type": "code",
   "execution_count": null,
   "metadata": {
    "ExecuteTime": {
     "end_time": "2020-04-30T21:30:25.898557Z",
     "start_time": "2020-04-30T21:30:25.825167Z"
    }
   },
   "outputs": [],
   "source": [
    "simple_bg_df = simple_bg_df.rename(columns={\"BaselineThresh\":\"value\"})\n",
    "simple_bg_df['measure'] = \"BaselineThresh\"\n",
    "simple_bg_df.head()"
   ]
  },
  {
   "cell_type": "code",
   "execution_count": null,
   "metadata": {
    "ExecuteTime": {
     "end_time": "2020-04-30T21:30:25.959851Z",
     "start_time": "2020-04-30T21:30:25.902352Z"
    }
   },
   "outputs": [],
   "source": [
    "len(simple_bg_df.Subject.unique())"
   ]
  },
  {
   "cell_type": "code",
   "execution_count": null,
   "metadata": {
    "ExecuteTime": {
     "end_time": "2020-04-30T21:30:26.034363Z",
     "start_time": "2020-04-30T21:30:25.963595Z"
    }
   },
   "outputs": [],
   "source": [
    "simple_bg_df.Trace = simple_bg_df.Trace.astype('category')\n",
    "simple_bg_df.Trace.cat.reorder_categories(traces4, inplace=True)\n",
    "simple_bg_df.Trace.cat.rename_categories(traces_graph4, inplace=True)"
   ]
  },
  {
   "cell_type": "code",
   "execution_count": null,
   "metadata": {
    "ExecuteTime": {
     "end_time": "2020-04-30T21:30:26.297665Z",
     "start_time": "2020-04-30T21:30:26.045744Z"
    }
   },
   "outputs": [],
   "source": [
    "simple_bg_df.groupby(['Task','Orientation','Presentation','Population', 'Eye', 'measure'])['value'].describe()"
   ]
  },
  {
   "cell_type": "code",
   "execution_count": null,
   "metadata": {
    "ExecuteTime": {
     "end_time": "2020-04-30T21:30:37.927169Z",
     "start_time": "2020-04-30T21:30:26.300780Z"
    }
   },
   "outputs": [],
   "source": [
    "bg_groups = simple_bg_df.groupby(['Task','Orientation','Presentation','measure'])\n",
    "with s.PdfPages(f\"{plot_dir}/gaba_vs_{task}_{gaba_col}_baselines_noexc.pdf\") as pdf:\n",
    "    sns.set_context(context=\"paper\", font_scale=1.3)\n",
    "    for gv, gr in bg_groups:\n",
    "        print(gv)\n",
    "        g = s.gaba_vs_psychophys_plot(gv, gr,\n",
    "                    legend_box=[0.9, 0.60, 0.1, 0.15], log=True, ylim=(1, 30),\n",
    "                    col=\"Population\", hue=\"Trace\",\n",
    "                    palette=colors4,\n",
    "                    n_boot=5000, legend_img=False, markers=['o','s','o','s'])\n",
    "        #g.fig.suptitle(f\"{gv}\", fontsize=10, y=0.999)\n",
    "        g.set_titles(\"\")\n",
    "        g.fig.subplots_adjust(left=.08, wspace=.1, right=.82)\n",
    "        pdf.savefig(g.fig)\n",
    "        plt.close('all')"
   ]
  },
  {
   "cell_type": "markdown",
   "metadata": {},
   "source": [
    "# Preparation for Modeling"
   ]
  },
  {
   "cell_type": "code",
   "execution_count": null,
   "metadata": {
    "ExecuteTime": {
     "end_time": "2020-04-30T21:30:38.015507Z",
     "start_time": "2020-04-30T21:30:37.931252Z"
    }
   },
   "outputs": [],
   "source": [
    "df_to_model.head() # note the first rows, they will tell if fixed - ai/Nde/6.9 -> ai/De/6.9 "
   ]
  },
  {
   "cell_type": "markdown",
   "metadata": {},
   "source": [
    "### Begin grouping data into conditions to model Subject's ThreshElev as a function of logRelContrast #"
   ]
  },
  {
   "cell_type": "code",
   "execution_count": null,
   "metadata": {
    "ExecuteTime": {
     "end_time": "2020-04-30T21:30:38.189990Z",
     "start_time": "2020-04-30T21:30:38.019503Z"
    }
   },
   "outputs": [],
   "source": [
    "pp_gvars = ['Task','Orientation','Presentation','Population','Subject','Eye','Trace'] # One condition\n",
    "pp_gvars_base = pp_gvars + ['BaselineThresh']\n",
    "\n",
    "groups_with_baseline = df_to_model.groupby(pp_gvars_base)\n",
    "\n",
    "# Check if there are any conditions with only two data points\n",
    "for gv, gr in groups_with_baseline:\n",
    "    if len(gr)<=2:\n",
    "        print(gv, gr)"
   ]
  },
  {
   "cell_type": "markdown",
   "metadata": {},
   "source": [
    "### BaselineThresh analysis before we exclude bad fits; since this is observed not modeled its ok"
   ]
  },
  {
   "cell_type": "code",
   "execution_count": null,
   "metadata": {
    "ExecuteTime": {
     "end_time": "2020-04-30T21:30:38.264956Z",
     "start_time": "2020-04-30T21:30:38.193387Z"
    }
   },
   "outputs": [],
   "source": [
    "print(pp_gvars_base)\n",
    "pp_gvars_base_agg = [v for v in pp_gvars if v != 'Subject']"
   ]
  },
  {
   "cell_type": "code",
   "execution_count": null,
   "metadata": {
    "ExecuteTime": {
     "end_time": "2020-04-30T21:30:38.319949Z",
     "start_time": "2020-04-30T21:30:38.267983Z"
    }
   },
   "outputs": [],
   "source": [
    "pp_gvars_base_agg"
   ]
  },
  {
   "cell_type": "code",
   "execution_count": null,
   "metadata": {
    "ExecuteTime": {
     "end_time": "2020-04-30T21:30:38.419466Z",
     "start_time": "2020-04-30T21:30:38.323346Z"
    }
   },
   "outputs": [],
   "source": [
    "for gv, g in df_to_model.groupby(pp_gvars_base_agg):\n",
    "    print(gv, len(np.unique(g['BaselineThresh'])))"
   ]
  },
  {
   "cell_type": "code",
   "execution_count": null,
   "metadata": {
    "ExecuteTime": {
     "end_time": "2020-04-30T21:30:38.555765Z",
     "start_time": "2020-04-30T21:30:38.422709Z"
    }
   },
   "outputs": [],
   "source": [
    "thresh_swap = df_to_model.groupby(['Task', 'Orientation', 'Presentation', 'Population', 'Subject','Eye', 'Trace'])['BaselineThresh'].mean().reset_index()\n",
    "thresh_swap = thresh_swap[(thresh_swap.Orientation==\"Iso\")&(thresh_swap.Presentation=='nDicho')]\n",
    "thresh_swap.head()"
   ]
  },
  {
   "cell_type": "code",
   "execution_count": null,
   "metadata": {
    "ExecuteTime": {
     "end_time": "2020-04-30T21:30:38.646599Z",
     "start_time": "2020-04-30T21:30:38.559243Z"
    }
   },
   "outputs": [],
   "source": [
    "eye_counts_swap = thresh_swap.Subject.value_counts()\n",
    "subs_no_unpaired = eye_counts[eye_counts_swap.reset_index()['Subject']==2]['index'].unique()\n",
    "print(subs_no_unpaired, len(subs_no_unpaired))"
   ]
  },
  {
   "cell_type": "code",
   "execution_count": null,
   "metadata": {
    "ExecuteTime": {
     "end_time": "2020-04-30T21:30:38.711350Z",
     "start_time": "2020-04-30T21:30:38.650879Z"
    }
   },
   "outputs": [],
   "source": [
    "thresh_swap_nounpaired = thresh_swap[thresh_swap.Subject.isin(subs_no_unpaired)]"
   ]
  },
  {
   "cell_type": "code",
   "execution_count": null,
   "metadata": {
    "ExecuteTime": {
     "end_time": "2020-04-30T21:30:38.801530Z",
     "start_time": "2020-04-30T21:30:38.722744Z"
    }
   },
   "outputs": [],
   "source": [
    "pd.Series.value_counts(thresh_swap_nounpaired.Subject)"
   ]
  },
  {
   "cell_type": "code",
   "execution_count": null,
   "metadata": {
    "ExecuteTime": {
     "end_time": "2020-04-30T21:30:38.959245Z",
     "start_time": "2020-04-30T21:30:38.807178Z"
    }
   },
   "outputs": [],
   "source": [
    "thresh_swap_nounpaired.groupby(['Trace']).describe()"
   ]
  },
  {
   "cell_type": "markdown",
   "metadata": {},
   "source": [
    "#### Calculate differences, ratios etc for each subject"
   ]
  },
  {
   "cell_type": "code",
   "execution_count": null,
   "metadata": {
    "ExecuteTime": {
     "end_time": "2020-04-30T21:30:39.219907Z",
     "start_time": "2020-04-30T21:30:38.962453Z"
    }
   },
   "outputs": [],
   "source": [
    "baseline_df_withinsubject = thresh_swap_nounpaired.groupby(['Task', 'Orientation', 'Presentation', 'Population',\n",
    "                                        'Subject']).apply(utils.get_interocular_baseline_diff, 'BaselineThresh')\n",
    "baseline_df_withinsubject[(baseline_df_withinsubject.Population==\"Amblyope\") & (baseline_df_withinsubject.Eye==\"De\")]"
   ]
  },
  {
   "cell_type": "code",
   "execution_count": null,
   "metadata": {
    "ExecuteTime": {
     "end_time": "2020-04-30T21:30:39.276029Z",
     "start_time": "2020-04-30T21:30:39.222915Z"
    }
   },
   "outputs": [],
   "source": [
    "ade_threshs = baseline_df_withinsubject[(baseline_df_withinsubject.Population==\"Amblyope\") & (baseline_df_withinsubject.Eye==\"De\")]"
   ]
  },
  {
   "cell_type": "code",
   "execution_count": null,
   "metadata": {
    "ExecuteTime": {
     "end_time": "2020-04-30T21:30:39.359710Z",
     "start_time": "2020-04-30T21:30:39.283381Z"
    }
   },
   "outputs": [],
   "source": [
    "baseline_df_reduced = baseline_df_withinsubject.groupby(pp_gvars_base_agg).apply(utils.describe_baselines).reset_index()"
   ]
  },
  {
   "cell_type": "code",
   "execution_count": null,
   "metadata": {
    "ExecuteTime": {
     "end_time": "2020-04-30T21:30:39.456697Z",
     "start_time": "2020-04-30T21:30:39.371849Z"
    }
   },
   "outputs": [],
   "source": [
    "baseline_df_reduced.head()"
   ]
  },
  {
   "cell_type": "markdown",
   "metadata": {},
   "source": [
    "### Seaborn plots of baselines and ratios, just to see"
   ]
  },
  {
   "cell_type": "code",
   "execution_count": null,
   "metadata": {
    "ExecuteTime": {
     "end_time": "2020-04-30T21:30:39.821538Z",
     "start_time": "2020-04-30T21:30:39.463360Z"
    }
   },
   "outputs": [],
   "source": [
    "sns.barplot(data=baseline_df_withinsubject, x=\"Trace\", y=\"BaselineThresh\", palette=colors4)"
   ]
  },
  {
   "cell_type": "code",
   "execution_count": null,
   "metadata": {
    "ExecuteTime": {
     "end_time": "2020-04-30T21:30:40.192693Z",
     "start_time": "2020-04-30T21:30:39.824276Z"
    }
   },
   "outputs": [],
   "source": [
    "sns.barplot(data=baseline_df_withinsubject, x=\"Trace\", y=\"BaselineDiff\", palette=colors4)"
   ]
  },
  {
   "cell_type": "code",
   "execution_count": null,
   "metadata": {
    "ExecuteTime": {
     "end_time": "2020-04-30T21:30:40.600999Z",
     "start_time": "2020-04-30T21:30:40.199096Z"
    }
   },
   "outputs": [],
   "source": [
    "sns.barplot(data=baseline_df_withinsubject, x=\"Trace\", y=\"BaselineRatio\", palette=colors4)"
   ]
  },
  {
   "cell_type": "markdown",
   "metadata": {},
   "source": [
    "### Begin within subject error bars, suggested by MAS 3/25"
   ]
  },
  {
   "cell_type": "code",
   "execution_count": null,
   "metadata": {
    "ExecuteTime": {
     "end_time": "2020-04-30T21:30:40.706583Z",
     "start_time": "2020-04-30T21:30:40.604083Z"
    }
   },
   "outputs": [],
   "source": [
    "baseline_df_withinsubject # our starting data frame"
   ]
  },
  {
   "cell_type": "code",
   "execution_count": null,
   "metadata": {
    "ExecuteTime": {
     "end_time": "2020-04-30T21:30:40.775640Z",
     "start_time": "2020-04-30T21:30:40.709958Z"
    }
   },
   "outputs": [],
   "source": [
    "baseline_df_withinsubject.groupby(\"Trace\").mean()"
   ]
  },
  {
   "cell_type": "markdown",
   "metadata": {},
   "source": [
    "Strategy could then be to normalize everyone within a trace (group) to the mean and then measure error?"
   ]
  },
  {
   "cell_type": "markdown",
   "metadata": {},
   "source": [
    "### old pre-4/28 stuff follows"
   ]
  },
  {
   "cell_type": "code",
   "execution_count": null,
   "metadata": {
    "ExecuteTime": {
     "end_time": "2020-04-30T21:30:40.890336Z",
     "start_time": "2020-04-30T21:30:40.799152Z"
    }
   },
   "outputs": [],
   "source": [
    "baseline_df_withinsubject_diffs = baseline_df_withinsubject.groupby(['Population','Subject'])['BaselineDiff','BaselineRatio'].mean().reset_index()\n",
    "baseline_df_withinsubject_diffs"
   ]
  },
  {
   "cell_type": "markdown",
   "metadata": {},
   "source": [
    "###  What if we exclude subject 'ah' who looks like a real outlier?"
   ]
  },
  {
   "cell_type": "code",
   "execution_count": null,
   "metadata": {
    "ExecuteTime": {
     "end_time": "2020-04-30T21:30:40.953439Z",
     "start_time": "2020-04-30T21:30:40.901390Z"
    }
   },
   "outputs": [],
   "source": [
    "adiff = baseline_df_withinsubject_diffs[(baseline_df_withinsubject_diffs.Population=='Amblyope') &\n",
    "                                        (baseline_df_withinsubject_diffs.Subject!=\"ah\")]\n",
    "cdiff = baseline_df_withinsubject_diffs[baseline_df_withinsubject_diffs.Population=='Control']"
   ]
  },
  {
   "cell_type": "code",
   "execution_count": null,
   "metadata": {
    "ExecuteTime": {
     "end_time": "2020-04-30T21:30:41.026725Z",
     "start_time": "2020-04-30T21:30:40.956376Z"
    }
   },
   "outputs": [],
   "source": [
    "print(\"diffs: NDE-DE\")\n",
    "print(st.ttest_1samp(adiff['BaselineDiff'], popmean=0), len(adiff['BaselineDiff']))\n",
    "print(st.ttest_1samp(cdiff['BaselineDiff'], popmean=0), len(cdiff['BaselineDiff']))\n",
    "print(st.ttest_ind(adiff['BaselineDiff'], cdiff['BaselineDiff']))\n",
    "print(\"\\nratios: NDE/DE\")\n",
    "print(st.ttest_1samp(adiff['BaselineRatio'], popmean=1))\n",
    "print(st.ttest_1samp(cdiff['BaselineRatio'], popmean=1))\n",
    "print(st.ttest_ind(adiff['BaselineRatio'], cdiff['BaselineRatio']))"
   ]
  },
  {
   "cell_type": "markdown",
   "metadata": {},
   "source": [
    "### Ok based on conversation with Michael, 'ah' is excluded now"
   ]
  },
  {
   "cell_type": "code",
   "execution_count": null,
   "metadata": {
    "ExecuteTime": {
     "end_time": "2020-04-30T21:30:41.087945Z",
     "start_time": "2020-04-30T21:30:41.034233Z"
    }
   },
   "outputs": [],
   "source": [
    "baseline_df_withinsubject_diffs = baseline_df_withinsubject_diffs[baseline_df_withinsubject_diffs.Subject != 'ah']\n",
    "df_to_model = df_to_model[df_to_model.Subject!='ah']"
   ]
  },
  {
   "cell_type": "code",
   "execution_count": null,
   "metadata": {
    "ExecuteTime": {
     "end_time": "2020-04-30T21:30:41.170241Z",
     "start_time": "2020-04-30T21:30:41.090596Z"
    }
   },
   "outputs": [],
   "source": [
    "baseline_df_withinsubject_diffs"
   ]
  },
  {
   "cell_type": "code",
   "execution_count": null,
   "metadata": {
    "ExecuteTime": {
     "end_time": "2020-04-30T21:30:41.599382Z",
     "start_time": "2020-04-30T21:30:41.173524Z"
    }
   },
   "outputs": [],
   "source": [
    "baseline_df_withinsubject_diffs.Population = baseline_df_withinsubject_diffs.Population.astype('category').cat.rename_categories(['Persons with Amblyopia', 'Normally-sighted persons'])\n",
    "g = sns.boxplot(data=baseline_df_withinsubject_diffs, x='Population', y='BaselineDiff', hue='Population')\n",
    "g.legend().remove()\n",
    "#g.legend().set_title('')\n",
    "g.set_xlabel('')\n",
    "g.set_ylabel('Interocular difference (NDE-DE) in baseline\\ncontrast discrimination thresholds (C%)')"
   ]
  },
  {
   "cell_type": "code",
   "execution_count": null,
   "metadata": {
    "ExecuteTime": {
     "end_time": "2020-04-30T21:30:41.883757Z",
     "start_time": "2020-04-30T21:30:41.602807Z"
    }
   },
   "outputs": [],
   "source": [
    "g = sns.boxplot(data=baseline_df_withinsubject_diffs, x='Population', y='BaselineRatio', hue='Population')\n",
    "g.legend().remove()\n",
    "g.set_xlabel('')\n",
    "g.set_ylabel('Interocular ratio (NDE:DE) of baseline\\ncontrast discrimination thresholds (C%)')\n",
    "#g.set_yscale('log')\n",
    "#g.set_ylim(0.5, 3)\n",
    "#g.get_yaxis().set_major_locator(tick.LogLocator(subs=range(1, 10)))\n",
    "g.get_yaxis().set_major_formatter(tick.ScalarFormatter())\n"
   ]
  },
  {
   "cell_type": "code",
   "execution_count": null,
   "metadata": {
    "ExecuteTime": {
     "end_time": "2020-04-30T21:30:42.016122Z",
     "start_time": "2020-04-30T21:30:41.887296Z"
    }
   },
   "outputs": [],
   "source": [
    "baseline_df_withinsubject_diffs.groupby(['Population']).describe()"
   ]
  },
  {
   "cell_type": "markdown",
   "metadata": {},
   "source": [
    "### Make bar chart"
   ]
  },
  {
   "cell_type": "code",
   "execution_count": null,
   "metadata": {
    "ExecuteTime": {
     "end_time": "2020-04-30T21:30:42.091023Z",
     "start_time": "2020-04-30T21:30:42.019123Z"
    }
   },
   "outputs": [],
   "source": [
    "baseline_df_reduced"
   ]
  },
  {
   "cell_type": "code",
   "execution_count": null,
   "metadata": {
    "ExecuteTime": {
     "end_time": "2020-04-30T21:30:42.179874Z",
     "start_time": "2020-04-30T21:30:42.094269Z"
    }
   },
   "outputs": [],
   "source": [
    "baseline_plot_df = utils.make_baseline_df_to_plot(baseline_df_reduced, 'mean')"
   ]
  },
  {
   "cell_type": "code",
   "execution_count": null,
   "metadata": {
    "ExecuteTime": {
     "end_time": "2020-04-30T21:30:42.258143Z",
     "start_time": "2020-04-30T21:30:42.187484Z"
    }
   },
   "outputs": [],
   "source": [
    "baseline_plot_df.head()"
   ]
  },
  {
   "cell_type": "code",
   "execution_count": null,
   "metadata": {
    "ExecuteTime": {
     "end_time": "2020-04-30T21:30:42.720438Z",
     "start_time": "2020-04-30T21:30:42.260906Z"
    }
   },
   "outputs": [],
   "source": [
    "with s.PdfPages(f\"{plot_dir}/{task}_baseline_diffs_group.pdf\") as pdf:\n",
    "    sns.set_context(context=\"paper\", font_scale=1.3)\n",
    "    fig = plt.figure(figsize=(8,6))  # create a figure object\n",
    "    ax = fig.add_subplot(1, 1, 1)\n",
    "    x_pos = np.arange(len(baseline_plot_df['Population']))\n",
    "    plt.bar(x_pos, baseline_plot_df['mean'], data=baseline_plot_df, yerr='SEM', color=colors4)\n",
    "    ax.set_xticks(x_pos)\n",
    "    ax.set_xticklabels(traces_graph4)\n",
    "    ax.set_ylabel('Baseline Contrast Discrimination Threshold (C%)')\n",
    "    ax.set_yscale('log')\n",
    "    ax.set_ylim(1, 8)\n",
    "    ax.get_yaxis().set_major_locator(tick.LogLocator(subs=range(1, 10)))\n",
    "    ax.get_yaxis().set_major_formatter(tick.ScalarFormatter())\n",
    "    sns.despine(left=True, bottom=True, right=True, top=True)\n",
    "    plt.show(ax.figure)\n",
    "    pdf.savefig(ax.figure)\n",
    "    plt.close(ax.figure)\n",
    "    plt.close('all')"
   ]
  },
  {
   "cell_type": "markdown",
   "metadata": {},
   "source": [
    "## Actual fitting of model to contrast sensitivity curves\n",
    "### Linear model using statsmodels"
   ]
  },
  {
   "cell_type": "code",
   "execution_count": null,
   "metadata": {
    "ExecuteTime": {
     "end_time": "2020-04-30T21:30:46.327462Z",
     "start_time": "2020-04-30T21:30:42.726121Z"
    }
   },
   "outputs": [],
   "source": [
    "lin_results = groups_with_baseline.apply(utils.linear_fit_params, 'RelMaskContrast', 'ThreshElev').reset_index()"
   ]
  },
  {
   "cell_type": "code",
   "execution_count": null,
   "metadata": {
    "ExecuteTime": {
     "end_time": "2020-04-30T21:30:46.409605Z",
     "start_time": "2020-04-30T21:30:46.330385Z"
    }
   },
   "outputs": [],
   "source": [
    "lin_results.head(n=16)"
   ]
  },
  {
   "cell_type": "code",
   "execution_count": null,
   "metadata": {
    "ExecuteTime": {
     "end_time": "2020-04-30T21:30:46.826724Z",
     "start_time": "2020-04-30T21:30:46.414052Z"
    }
   },
   "outputs": [],
   "source": [
    "sns.distplot(lin_results.rsquared, kde=False, rug=True)"
   ]
  },
  {
   "cell_type": "code",
   "execution_count": null,
   "metadata": {
    "ExecuteTime": {
     "end_time": "2020-04-30T21:30:46.894198Z",
     "start_time": "2020-04-30T21:30:46.833828Z"
    }
   },
   "outputs": [],
   "source": [
    "np.count_nonzero(lin_results.rsquared>.999999)"
   ]
  },
  {
   "cell_type": "code",
   "execution_count": null,
   "metadata": {
    "ExecuteTime": {
     "end_time": "2020-04-30T21:30:46.986586Z",
     "start_time": "2020-04-30T21:30:46.903785Z"
    }
   },
   "outputs": [],
   "source": [
    "lin_results.rsquared.mean()"
   ]
  },
  {
   "cell_type": "code",
   "execution_count": null,
   "metadata": {
    "ExecuteTime": {
     "end_time": "2020-04-30T21:30:47.401959Z",
     "start_time": "2020-04-30T21:30:46.990646Z"
    }
   },
   "outputs": [],
   "source": [
    "lin_results.boxplot(column='rsquared', by=['Orientation', 'Presentation'], grid=False, figsize=(16, 4))"
   ]
  },
  {
   "cell_type": "code",
   "execution_count": null,
   "metadata": {
    "ExecuteTime": {
     "end_time": "2020-04-30T21:30:47.905512Z",
     "start_time": "2020-04-30T21:30:47.405752Z"
    }
   },
   "outputs": [],
   "source": [
    "lin_results.boxplot(column='rsquared', by=['Orientation', 'Population', 'Presentation'], grid=False, figsize=(16, 4))"
   ]
  },
  {
   "cell_type": "markdown",
   "metadata": {},
   "source": [
    "### Fit the log-logged data to see if that's better"
   ]
  },
  {
   "cell_type": "code",
   "execution_count": null,
   "metadata": {
    "ExecuteTime": {
     "end_time": "2020-04-30T21:30:52.004006Z",
     "start_time": "2020-04-30T21:30:47.910160Z"
    }
   },
   "outputs": [],
   "source": [
    "log_results = groups_with_baseline.apply(utils.linear_fit_params, 'logRelMaskContrast', 'logThreshElev').reset_index()\n",
    "\n",
    "log_results.rsquared.mean()"
   ]
  },
  {
   "cell_type": "code",
   "execution_count": null,
   "metadata": {
    "ExecuteTime": {
     "end_time": "2020-04-30T21:30:52.529178Z",
     "start_time": "2020-04-30T21:30:52.008092Z"
    }
   },
   "outputs": [],
   "source": [
    "log_results.boxplot(column='rsquared', by=['Orientation', 'Population', 'Presentation'], grid=False, figsize=(16, 4))"
   ]
  },
  {
   "cell_type": "markdown",
   "metadata": {},
   "source": [
    "## Conclusion: linear fits are overall better."
   ]
  },
  {
   "cell_type": "markdown",
   "metadata": {},
   "source": [
    "## Identify subjects with negative slope (for Jian)"
   ]
  },
  {
   "cell_type": "code",
   "execution_count": null,
   "metadata": {
    "ExecuteTime": {
     "end_time": "2020-04-30T21:30:52.624373Z",
     "start_time": "2020-04-30T21:30:52.536541Z"
    }
   },
   "outputs": [],
   "source": [
    "neg_slopes = lin_results[lin_results['slope']<0]\n",
    "neg_slopes"
   ]
  },
  {
   "cell_type": "code",
   "execution_count": null,
   "metadata": {
    "ExecuteTime": {
     "end_time": "2020-04-30T21:30:52.686114Z",
     "start_time": "2020-04-30T21:30:52.628199Z"
    }
   },
   "outputs": [],
   "source": [
    "neg_slopes.Subject.unique()"
   ]
  },
  {
   "cell_type": "markdown",
   "metadata": {},
   "source": [
    "## Exclude bad fits (new 2019-02-25)"
   ]
  },
  {
   "cell_type": "code",
   "execution_count": null,
   "metadata": {
    "ExecuteTime": {
     "end_time": "2020-04-30T21:30:52.757814Z",
     "start_time": "2020-04-30T21:30:52.689082Z"
    }
   },
   "outputs": [],
   "source": [
    "len(lin_results)"
   ]
  },
  {
   "cell_type": "code",
   "execution_count": null,
   "metadata": {
    "ExecuteTime": {
     "end_time": "2020-04-30T21:30:52.871398Z",
     "start_time": "2020-04-30T21:30:52.761492Z"
    }
   },
   "outputs": [],
   "source": [
    "lin_results_exc = lin_results.groupby(['Task', 'Population']).apply(utils.remove_outliers_halfvar).reset_index(drop=True)"
   ]
  },
  {
   "cell_type": "code",
   "execution_count": null,
   "metadata": {
    "ExecuteTime": {
     "end_time": "2020-04-30T21:30:52.940561Z",
     "start_time": "2020-04-30T21:30:52.874344Z"
    }
   },
   "outputs": [],
   "source": [
    "lin_results_exc.rsquared.min()"
   ]
  },
  {
   "cell_type": "code",
   "execution_count": null,
   "metadata": {
    "ExecuteTime": {
     "end_time": "2020-04-30T21:30:53.011402Z",
     "start_time": "2020-04-30T21:30:52.943256Z"
    }
   },
   "outputs": [],
   "source": [
    "lin_results_exc.Subject.value_counts().sum()"
   ]
  },
  {
   "cell_type": "code",
   "execution_count": null,
   "metadata": {
    "ExecuteTime": {
     "end_time": "2020-04-30T21:30:53.077948Z",
     "start_time": "2020-04-30T21:30:53.013939Z"
    }
   },
   "outputs": [],
   "source": [
    "231/256"
   ]
  },
  {
   "cell_type": "code",
   "execution_count": null,
   "metadata": {
    "ExecuteTime": {
     "end_time": "2020-04-30T21:30:53.146301Z",
     "start_time": "2020-04-30T21:30:53.080724Z"
    }
   },
   "outputs": [],
   "source": [
    "pp_subs_exc = lin_results_exc.Subject.unique()\n",
    "print(f'There are {len(pp_subs_exc)} unique subjects who have at least one condition of data.')"
   ]
  },
  {
   "cell_type": "markdown",
   "metadata": {},
   "source": [
    "## Actually use the linear model to predict thresholds"
   ]
  },
  {
   "cell_type": "code",
   "execution_count": null,
   "metadata": {
    "ExecuteTime": {
     "end_time": "2020-04-30T21:30:56.367267Z",
     "start_time": "2020-04-30T21:30:53.149938Z"
    }
   },
   "outputs": [],
   "source": [
    "lin_preds = groups_with_baseline.apply(utils.linear_fit_predictions, 'RelMaskContrast', 'ThreshElev').reset_index()"
   ]
  },
  {
   "cell_type": "code",
   "execution_count": null,
   "metadata": {
    "ExecuteTime": {
     "end_time": "2020-04-30T21:30:56.428686Z",
     "start_time": "2020-04-30T21:30:56.372877Z"
    }
   },
   "outputs": [],
   "source": [
    "lin_preds.columns"
   ]
  },
  {
   "cell_type": "code",
   "execution_count": null,
   "metadata": {
    "ExecuteTime": {
     "end_time": "2020-04-30T21:30:56.506369Z",
     "start_time": "2020-04-30T21:30:56.431411Z"
    }
   },
   "outputs": [],
   "source": [
    "lin_preds.head()"
   ]
  },
  {
   "cell_type": "code",
   "execution_count": null,
   "metadata": {
    "ExecuteTime": {
     "end_time": "2020-04-30T21:30:56.621820Z",
     "start_time": "2020-04-30T21:30:56.510504Z"
    }
   },
   "outputs": [],
   "source": [
    "plot_df = pd.merge(df_to_model, lin_preds, on=pp_gvars_base + ['RelMaskContrast'])\n",
    "\n",
    "plot_df.head()"
   ]
  },
  {
   "cell_type": "markdown",
   "metadata": {},
   "source": [
    "### Plot observed values and model fits"
   ]
  },
  {
   "cell_type": "code",
   "execution_count": null,
   "metadata": {
    "ExecuteTime": {
     "end_time": "2020-04-30T21:30:56.738093Z",
     "start_time": "2020-04-30T21:30:56.626872Z"
    }
   },
   "outputs": [],
   "source": [
    "example_fit_plot_df = plot_df[(plot_df.Subject=='gd') & \n",
    "                              (plot_df.Orientation=='Iso') & \n",
    "                              (plot_df.Presentation=='nDicho')]\n",
    "example_fit_plot_df"
   ]
  },
  {
   "cell_type": "code",
   "execution_count": null,
   "metadata": {
    "ExecuteTime": {
     "end_time": "2020-04-30T21:30:57.060462Z",
     "start_time": "2020-04-30T21:30:56.741835Z"
    }
   },
   "outputs": [],
   "source": [
    "s.group_facet_plots(example_fit_plot_df, s.subject_fit_plot,\n",
    "                    f\"{plot_dir}/{task}_regressions_combinedplots_n{n_pp_subjs_thistask}_TOP.pdf\",\n",
    "                    ['Task','Orientation','Presentation',\"Subject\"], #each combo of this gets its own page\n",
    "                    row='Presentation', col=\"Population\",# facet rows and columns\n",
    "                    x=\"RelMaskContrast\", y=\"ThreshElev\", # x, y\n",
    "                    hue=\"Eye\",yerr='ThreshElev_SE',fmt_obs='x',fmt_pred=':',Ycol=\"ThreshPred\") "
   ]
  },
  {
   "cell_type": "code",
   "execution_count": null,
   "metadata": {
    "ExecuteTime": {
     "end_time": "2020-04-30T21:30:57.117498Z",
     "start_time": "2020-04-30T21:30:57.063083Z"
    }
   },
   "outputs": [],
   "source": [
    "#s.group_facet_plots(plot_df, s.population_fit_plot,\n",
    "#                    f\"{plot_dir}/{task}_regressions_combinedplots_n{n_pp_subjs_thistask}_TO.pdf\",\n",
    "#                    ['Task','Orientation'], #each combo of this gets its own page\n",
    "#                    row='Presentation',col='Eye',# facet rows and columns\n",
    "#                    x=\"RelMaskContrast\", y=\"ThreshElev\", # x, y\n",
    "#                    hue=\"Population\",yerr='ThreshElev_SE',fmt_obs='.',fmt_pred='x:',Ycol=\"ThreshPred\") "
   ]
  },
  {
   "cell_type": "markdown",
   "metadata": {},
   "source": [
    "## Now exclude the predictions for the bad fits"
   ]
  },
  {
   "cell_type": "code",
   "execution_count": null,
   "metadata": {
    "ExecuteTime": {
     "end_time": "2020-04-30T21:30:57.196583Z",
     "start_time": "2020-04-30T21:30:57.124107Z"
    }
   },
   "outputs": [],
   "source": [
    "lin_results.Orientation.value_counts()"
   ]
  },
  {
   "cell_type": "code",
   "execution_count": null,
   "metadata": {
    "ExecuteTime": {
     "end_time": "2020-04-30T21:30:57.260101Z",
     "start_time": "2020-04-30T21:30:57.203906Z"
    }
   },
   "outputs": [],
   "source": [
    "lin_results_exc.Orientation.value_counts()"
   ]
  },
  {
   "cell_type": "code",
   "execution_count": null,
   "metadata": {
    "ExecuteTime": {
     "end_time": "2020-04-30T21:30:57.332363Z",
     "start_time": "2020-04-30T21:30:57.262722Z"
    }
   },
   "outputs": [],
   "source": [
    "lin_results_exc.Population.value_counts()"
   ]
  },
  {
   "cell_type": "code",
   "execution_count": null,
   "metadata": {
    "ExecuteTime": {
     "end_time": "2020-04-30T21:30:57.402026Z",
     "start_time": "2020-04-30T21:30:57.335259Z"
    }
   },
   "outputs": [],
   "source": [
    "lin_results.Population.value_counts()"
   ]
  },
  {
   "cell_type": "code",
   "execution_count": null,
   "metadata": {
    "ExecuteTime": {
     "end_time": "2020-04-30T21:30:57.476931Z",
     "start_time": "2020-04-30T21:30:57.411324Z"
    }
   },
   "outputs": [],
   "source": [
    "comb_rsq_preds = pd.merge(lin_results_exc, lin_preds, on=pp_gvars_base)"
   ]
  },
  {
   "cell_type": "code",
   "execution_count": null,
   "metadata": {
    "ExecuteTime": {
     "end_time": "2020-04-30T21:30:57.543460Z",
     "start_time": "2020-04-30T21:30:57.480130Z"
    }
   },
   "outputs": [],
   "source": [
    "comb_rsq_preds.rsquared.min()"
   ]
  },
  {
   "cell_type": "code",
   "execution_count": null,
   "metadata": {
    "ExecuteTime": {
     "end_time": "2020-04-30T21:30:57.626954Z",
     "start_time": "2020-04-30T21:30:57.547923Z"
    }
   },
   "outputs": [],
   "source": [
    "comb_rsq_preds.head()"
   ]
  },
  {
   "cell_type": "code",
   "execution_count": null,
   "metadata": {
    "ExecuteTime": {
     "end_time": "2020-04-30T21:30:57.698264Z",
     "start_time": "2020-04-30T21:30:57.629972Z"
    }
   },
   "outputs": [],
   "source": [
    "comb_rsq_preds_noexc = pd.merge(lin_results, lin_preds, on=pp_gvars_base)"
   ]
  },
  {
   "cell_type": "code",
   "execution_count": null,
   "metadata": {
    "ExecuteTime": {
     "end_time": "2020-04-30T21:30:57.757359Z",
     "start_time": "2020-04-30T21:30:57.701431Z"
    }
   },
   "outputs": [],
   "source": [
    "comb_rsq_preds_noexc.rsquared.min()"
   ]
  },
  {
   "cell_type": "code",
   "execution_count": null,
   "metadata": {
    "ExecuteTime": {
     "end_time": "2020-04-30T21:30:57.846080Z",
     "start_time": "2020-04-30T21:30:57.761338Z"
    }
   },
   "outputs": [],
   "source": [
    "comb_rsq_preds_noexc.head()"
   ]
  },
  {
   "cell_type": "markdown",
   "metadata": {},
   "source": [
    "### Pick an xvalue (RelMaskContrast) to evaluate models at"
   ]
  },
  {
   "cell_type": "markdown",
   "metadata": {},
   "source": [
    " * 2018-09-24: Abandoning Eunice's binning. Instead, try to figure out a good RelMaskContrast programatically.\n",
    "   * Just looking at it via describe(), i'd say somewhere between 5 and 10 -- probably 6 (for SS) and 10 (for OS)\n",
    " * 2018-10-08: My previous approach was too subjective. Instead, evaluate model at various percentiles...\n",
    "   * do this separately for Task, Orientation, Presentation (so pick 8 total numbers)\n",
    "   * At this point it's easier to just use the statsmodels.ols functions maybe? The way it's currently done is a legacy that allows different models to be swapped in... which I hope to god is not going to be the direction we go in again.\n",
    "   * nvm, used the lmfit solution since it returned a nicely formatted pfit df and is tested to work\n",
    "   * Here I want to take the slope and y-int and calculate the model prediction at the specified percentiles above (0-1, increments of 0.2). So, first calculate the RelMC at each of those percentiles, then apply it like below.\n"
   ]
  },
  {
   "cell_type": "code",
   "execution_count": null,
   "metadata": {
    "ExecuteTime": {
     "end_time": "2020-04-30T21:30:57.899700Z",
     "start_time": "2020-04-30T21:30:57.849089Z"
    }
   },
   "outputs": [],
   "source": [
    "percentile_bins = np.linspace(0, 1, num=11)"
   ]
  },
  {
   "cell_type": "code",
   "execution_count": null,
   "metadata": {
    "ExecuteTime": {
     "end_time": "2020-04-30T21:30:57.974169Z",
     "start_time": "2020-04-30T21:30:57.910638Z"
    }
   },
   "outputs": [],
   "source": [
    "percentile_bins"
   ]
  },
  {
   "cell_type": "markdown",
   "metadata": {},
   "source": [
    "#### Get the interpolated RelMaskContrasts for each regression line, i.e. the range of x-values"
   ]
  },
  {
   "cell_type": "code",
   "execution_count": null,
   "metadata": {
    "ExecuteTime": {
     "end_time": "2020-04-30T21:31:00.243526Z",
     "start_time": "2020-04-30T21:30:57.977820Z"
    }
   },
   "outputs": [],
   "source": [
    "relmc_pcts_df = comb_rsq_preds.groupby(pp_gvars_base)['RelMaskContrast'].describe(percentiles=percentile_bins)"
   ]
  },
  {
   "cell_type": "code",
   "execution_count": null,
   "metadata": {
    "ExecuteTime": {
     "end_time": "2020-04-30T21:31:00.313838Z",
     "start_time": "2020-04-30T21:31:00.246772Z"
    }
   },
   "outputs": [],
   "source": [
    "# fix stupid column naming from describe()\n",
    "relmc_pcts_df.columns = [f\"{int(float(col[:-1])):03d}\" if col[-1]==\"%\" else col for col in relmc_pcts_df.columns]"
   ]
  },
  {
   "cell_type": "code",
   "execution_count": null,
   "metadata": {
    "ExecuteTime": {
     "end_time": "2020-04-30T21:31:00.379410Z",
     "start_time": "2020-04-30T21:31:00.316368Z"
    }
   },
   "outputs": [],
   "source": [
    "relmc_pcts_df.columns"
   ]
  },
  {
   "cell_type": "code",
   "execution_count": null,
   "metadata": {
    "ExecuteTime": {
     "end_time": "2020-04-30T21:31:00.480846Z",
     "start_time": "2020-04-30T21:31:00.382365Z"
    }
   },
   "outputs": [],
   "source": [
    "relmc_pcts_df = relmc_pcts_df.filter(regex='0|1')\n",
    "relmc_pcts_df.head()"
   ]
  },
  {
   "cell_type": "code",
   "execution_count": null,
   "metadata": {
    "ExecuteTime": {
     "end_time": "2020-04-30T21:31:00.567695Z",
     "start_time": "2020-04-30T21:31:00.484505Z"
    }
   },
   "outputs": [],
   "source": [
    "relmc_pcts_df.columns"
   ]
  },
  {
   "cell_type": "code",
   "execution_count": null,
   "metadata": {
    "ExecuteTime": {
     "end_time": "2020-04-30T21:31:00.670933Z",
     "start_time": "2020-04-30T21:31:00.578052Z"
    }
   },
   "outputs": [],
   "source": [
    "relmc_pcts_df_melted = relmc_pcts_df.reset_index().melt(id_vars=pp_gvars_base, var_name='percentile', value_name='RelMaskContrast_pct')"
   ]
  },
  {
   "cell_type": "code",
   "execution_count": null,
   "metadata": {
    "ExecuteTime": {
     "end_time": "2020-04-30T21:31:00.762678Z",
     "start_time": "2020-04-30T21:31:00.681420Z"
    }
   },
   "outputs": [],
   "source": [
    "relmc_pcts_df_melted.head()"
   ]
  },
  {
   "cell_type": "code",
   "execution_count": null,
   "metadata": {
    "ExecuteTime": {
     "end_time": "2020-04-30T21:31:00.865494Z",
     "start_time": "2020-04-30T21:31:00.765499Z"
    }
   },
   "outputs": [],
   "source": [
    "predict_pcts_df = pd.merge(lin_results_exc, relmc_pcts_df_melted, on=pp_gvars_base)"
   ]
  },
  {
   "cell_type": "code",
   "execution_count": null,
   "metadata": {
    "ExecuteTime": {
     "end_time": "2020-04-30T21:31:00.958478Z",
     "start_time": "2020-04-30T21:31:00.868590Z"
    }
   },
   "outputs": [],
   "source": [
    "predict_pcts_df.head()"
   ]
  },
  {
   "cell_type": "code",
   "execution_count": null,
   "metadata": {
    "ExecuteTime": {
     "end_time": "2020-04-30T21:31:01.044117Z",
     "start_time": "2020-04-30T21:31:00.965188Z"
    }
   },
   "outputs": [],
   "source": [
    "predict_pcts_df['percentile'] = predict_pcts_df['percentile'].astype(int)\n",
    "predict_pcts_df['RelMaskContrast_pct'] = predict_pcts_df['RelMaskContrast_pct'].astype(float)\n",
    "predict_pcts_df['relmc_bin'] = (np.around(predict_pcts_df['RelMaskContrast_pct'])).astype(int)\n",
    "predict_pcts_df['ThreshElev_pct'] = (predict_pcts_df['y_int'] + (predict_pcts_df['RelMaskContrast_pct']*predict_pcts_df['slope'])).astype('float')"
   ]
  },
  {
   "cell_type": "code",
   "execution_count": null,
   "metadata": {
    "ExecuteTime": {
     "end_time": "2020-04-30T21:31:01.136933Z",
     "start_time": "2020-04-30T21:31:01.047517Z"
    }
   },
   "outputs": [],
   "source": [
    "predict_pcts_df.head()"
   ]
  },
  {
   "cell_type": "code",
   "execution_count": null,
   "metadata": {
    "ExecuteTime": {
     "end_time": "2020-04-30T21:31:01.217836Z",
     "start_time": "2020-04-30T21:31:01.145420Z"
    }
   },
   "outputs": [],
   "source": [
    "predict_pcts_df.rsquared.min()"
   ]
  },
  {
   "cell_type": "code",
   "execution_count": null,
   "metadata": {
    "ExecuteTime": {
     "end_time": "2020-04-30T21:31:02.763287Z",
     "start_time": "2020-04-30T21:31:01.225064Z"
    }
   },
   "outputs": [],
   "source": [
    "gvars_test = ['Task','Orientation','Presentation','Population']\n",
    "# equal_var=False makes it Welch's t-test, which does not assume the groups have equal variance\n",
    "selected_bin_df = utils.find_pct_to_predict(predict_pcts_df, gvars_test,\n",
    "                    'relmc_bin', 'ThreshElev_pct', test_func=st.ttest_ind, equal_var=False)"
   ]
  },
  {
   "cell_type": "code",
   "execution_count": null,
   "metadata": {
    "ExecuteTime": {
     "end_time": "2020-04-30T21:31:02.863328Z",
     "start_time": "2020-04-30T21:31:02.766551Z"
    }
   },
   "outputs": [],
   "source": [
    "g_TOP = selected_bin_df.groupby(['Task', 'Orientation', 'Presentation'])\n",
    "def set_relmctopred_to_amb_val(g):\n",
    "    ambs = g[g['Population']=='Amblyope']\n",
    "    assert(np.all(ambs['RelMCToPred']==ambs['RelMCToPred'].iat[0]))\n",
    "    assert(np.all(ambs['BinNumberToPred']==ambs['BinNumberToPred'].iat[0]))\n",
    "    g['RelMCToPred'] = ambs['RelMCToPred'].iat[0]\n",
    "    g['BinNumberToPred'] = ambs['BinNumberToPred'].iat[0]\n",
    "    return g\n",
    "selected_bin_df = g_TOP.apply(set_relmctopred_to_amb_val).reset_index()"
   ]
  },
  {
   "cell_type": "code",
   "execution_count": null,
   "metadata": {
    "ExecuteTime": {
     "end_time": "2020-04-30T21:31:03.112090Z",
     "start_time": "2020-04-30T21:31:02.866390Z"
    }
   },
   "outputs": [],
   "source": [
    "selected_bin_df.groupby(gvars_test)['RelMCToPred','ThreshElev_pct'].describe()"
   ]
  },
  {
   "cell_type": "code",
   "execution_count": null,
   "metadata": {
    "ExecuteTime": {
     "end_time": "2020-04-30T21:31:03.167471Z",
     "start_time": "2020-04-30T21:31:03.114906Z"
    }
   },
   "outputs": [],
   "source": [
    "selected_bin_df['ThreshPredCritical'] = selected_bin_df['y_int'] + selected_bin_df['slope'] * selected_bin_df['RelMCToPred']\n",
    "selected_bin_df['ThreshPredCriticalUnnorm'] = selected_bin_df['ThreshPredCritical'] * selected_bin_df['BaselineThresh']"
   ]
  },
  {
   "cell_type": "code",
   "execution_count": null,
   "metadata": {
    "ExecuteTime": {
     "end_time": "2020-04-30T21:31:03.327919Z",
     "start_time": "2020-04-30T21:31:03.169660Z"
    }
   },
   "outputs": [],
   "source": [
    "selected_bin_df"
   ]
  },
  {
   "cell_type": "code",
   "execution_count": null,
   "metadata": {
    "ExecuteTime": {
     "end_time": "2020-04-30T21:31:03.392144Z",
     "start_time": "2020-04-30T21:31:03.330991Z"
    }
   },
   "outputs": [],
   "source": [
    "individual_plot_df = selected_bin_df[(selected_bin_df.Subject=='sd') & (selected_bin_df.Presentation=='nDicho') &\n",
    "                (selected_bin_df.Orientation=='Iso')]"
   ]
  },
  {
   "cell_type": "code",
   "execution_count": null,
   "metadata": {
    "ExecuteTime": {
     "end_time": "2020-04-30T21:31:03.846442Z",
     "start_time": "2020-04-30T21:31:03.412170Z"
    }
   },
   "outputs": [],
   "source": [
    "sns.scatterplot(data=individual_plot_df, x=\"RelMaskContrast_pct\", y=\"ThreshElev_pct\", hue=\"Eye\")"
   ]
  },
  {
   "cell_type": "markdown",
   "metadata": {},
   "source": [
    "### Melt the result of the modeling into long format for plotting"
   ]
  },
  {
   "cell_type": "code",
   "execution_count": null,
   "metadata": {
    "ExecuteTime": {
     "end_time": "2020-04-30T21:31:03.990667Z",
     "start_time": "2020-04-30T21:31:03.849328Z"
    }
   },
   "outputs": [],
   "source": [
    "pfit_all_ppsub = pd.melt(selected_bin_df, id_vars=[*pp_gvars, 'rsquared'],\n",
    "                    value_vars=['BaselineThresh', 'y_int', 'slope', 'ThreshPredCritical', 'ThreshPredCriticalUnnorm'],\n",
    "                    var_name='measure')\n",
    "pfit_all_ppsub = pfit_all_ppsub[pfit_all_ppsub.Subject != 'ah']\n",
    "pfit_all_ppsub.head()"
   ]
  },
  {
   "cell_type": "code",
   "execution_count": null,
   "metadata": {
    "ExecuteTime": {
     "end_time": "2020-04-30T21:31:04.091437Z",
     "start_time": "2020-04-30T21:31:04.002601Z"
    }
   },
   "outputs": [],
   "source": [
    "pp_stats = pfit_all_ppsub[(pfit_all_ppsub.measure==\"ThreshPredCritical\")].drop_duplicates()"
   ]
  },
  {
   "cell_type": "code",
   "execution_count": null,
   "metadata": {
    "ExecuteTime": {
     "end_time": "2020-04-30T21:31:04.171987Z",
     "start_time": "2020-04-30T21:31:04.099195Z"
    }
   },
   "outputs": [],
   "source": [
    "pp_slopes = pfit_all_ppsub[pfit_all_ppsub.measure==\"slope\"].drop_duplicates()"
   ]
  },
  {
   "cell_type": "code",
   "execution_count": null,
   "metadata": {
    "ExecuteTime": {
     "end_time": "2020-04-30T21:31:06.398884Z",
     "start_time": "2020-04-30T21:31:04.179348Z"
    }
   },
   "outputs": [],
   "source": [
    "pp_stats.groupby(['Task', 'Orientation', 'Presentation', 'Population', 'Eye', 'Trace','Subject','measure'])['value'].describe(percentiles=[.5])"
   ]
  },
  {
   "cell_type": "code",
   "execution_count": null,
   "metadata": {
    "ExecuteTime": {
     "end_time": "2020-04-30T21:31:06.511677Z",
     "start_time": "2020-04-30T21:31:06.402103Z"
    }
   },
   "outputs": [],
   "source": [
    "def test_suppression_diffs(g):\n",
    "    ndes = np.unique(g[g.Eye=='Nde']['value'])\n",
    "    des = np.unique(g[g.Eye=='De']['value'])\n",
    "    #g.hist()\n",
    "    print(len(ndes), ' ', len(des))\n",
    "    print(st.ttest_ind(ndes, des))\n",
    "    return st.ttest_ind(ndes, des)\n",
    "\n",
    "gs = pp_stats.groupby(['Task', 'Orientation', 'Presentation', 'Population', 'measure'])\n",
    "for gv, g in gs:\n",
    "    if gv[-1] == 'ThreshPredCritical':\n",
    "        print(gv)\n",
    "        test_suppression_diffs(g)\n",
    "        #test_suppression_diffs_withinsubject(g)"
   ]
  },
  {
   "cell_type": "markdown",
   "metadata": {},
   "source": [
    "## Subset to include only (GABA and psychophyics) subjects"
   ]
  },
  {
   "cell_type": "code",
   "execution_count": null,
   "metadata": {
    "ExecuteTime": {
     "end_time": "2020-04-30T21:31:06.564307Z",
     "start_time": "2020-04-30T21:31:06.515105Z"
    }
   },
   "outputs": [],
   "source": [
    "gaba_and_pp_subjs = list(np.intersect1d(pp_subjs, gaba_subjs))\n",
    "n_gaba_and_pp_subjs = len(gaba_and_pp_subjs)"
   ]
  },
  {
   "cell_type": "code",
   "execution_count": null,
   "metadata": {
    "ExecuteTime": {
     "end_time": "2020-04-30T21:31:06.649696Z",
     "start_time": "2020-04-30T21:31:06.567204Z"
    }
   },
   "outputs": [],
   "source": [
    "sdf = sdf[sdf.Subject.isin(gaba_and_pp_subjs)] # only subjects who did _the current_ pp task and GABA\n",
    "gaba_and_pp_subjs_thistask = np.unique(sdf.Subject)\n",
    "n_gaba_and_pp_subjs_thistask = len(gaba_and_pp_subjs_thistask)\n",
    "print(f\"Of the {n_gaba_and_pp_subjs} subjects with both GABA and psychophysics data, {n_gaba_and_pp_subjs_thistask} have both for task {task}.\\n{gaba_and_pp_subjs_thistask}\")"
   ]
  },
  {
   "cell_type": "markdown",
   "metadata": {},
   "source": [
    "### Remove subjects we don't have data on both GABA/PP for"
   ]
  },
  {
   "cell_type": "code",
   "execution_count": null,
   "metadata": {
    "ExecuteTime": {
     "end_time": "2020-04-30T21:31:06.715946Z",
     "start_time": "2020-04-30T21:31:06.652611Z"
    }
   },
   "outputs": [],
   "source": [
    "gdf = gdf[gdf.subjName.isin(sdf.Subject)] # only subjects who did both tasks\n",
    "amb_subjs = (gdf[gdf.Population=='Persons with Amblyopia'])\n",
    "print(f'Of the {len(gdf)} subjects with GABA and {task} data, {len(amb_subjs)} are Amblyopes.')\n",
    "n_this_task = len(gdf)"
   ]
  },
  {
   "cell_type": "code",
   "execution_count": null,
   "metadata": {
    "ExecuteTime": {
     "end_time": "2020-04-30T21:31:06.912185Z",
     "start_time": "2020-04-30T21:31:06.720643Z"
    }
   },
   "outputs": [],
   "source": [
    "stats_thistask = lin_results_exc[lin_results_exc.Subject.isin(gaba_and_pp_subjs_thistask)].groupby(['Subject'])['rsquared'].describe()"
   ]
  },
  {
   "cell_type": "code",
   "execution_count": null,
   "metadata": {
    "ExecuteTime": {
     "end_time": "2020-04-30T21:31:06.999422Z",
     "start_time": "2020-04-30T21:31:06.916636Z"
    }
   },
   "outputs": [],
   "source": [
    "stats_thistask"
   ]
  },
  {
   "cell_type": "code",
   "execution_count": null,
   "metadata": {
    "ExecuteTime": {
     "end_time": "2020-04-30T21:31:07.056018Z",
     "start_time": "2020-04-30T21:31:07.002783Z"
    }
   },
   "outputs": [],
   "source": [
    "n_gaba_and_pp_subjs_thistask * 8 - stats_thistask['count'].sum()"
   ]
  },
  {
   "cell_type": "markdown",
   "metadata": {},
   "source": [
    "## Combine Psychophysics and GABA below"
   ]
  },
  {
   "cell_type": "code",
   "execution_count": null,
   "metadata": {
    "ExecuteTime": {
     "end_time": "2020-04-30T21:31:07.147511Z",
     "start_time": "2020-04-30T21:31:07.061626Z"
    }
   },
   "outputs": [],
   "source": [
    "#Grab the GABA measure for each subject and append it to each observation for easy plotting\n",
    "comb = pfit_all_ppsub.join(gdf.set_index(['subjName'])['GABA'], on=['Subject'])\n",
    "comb.drop_duplicates(inplace=True)\n",
    "\n",
    "#subset to include only those subjects with GABA data\n",
    "comb_gabappsub = comb[~np.isnan(comb['GABA'])]\n",
    "print(len(comb), len(comb_gabappsub))\n"
   ]
  },
  {
   "cell_type": "code",
   "execution_count": null,
   "metadata": {
    "ExecuteTime": {
     "end_time": "2020-04-30T21:31:07.215147Z",
     "start_time": "2020-04-30T21:31:07.150032Z"
    }
   },
   "outputs": [],
   "source": [
    "comb_gabappsub.Subject.unique()"
   ]
  },
  {
   "cell_type": "markdown",
   "metadata": {},
   "source": [
    "### Do Spearman's R"
   ]
  },
  {
   "cell_type": "code",
   "execution_count": null,
   "metadata": {
    "ExecuteTime": {
     "end_time": "2020-04-30T21:31:07.272571Z",
     "start_time": "2020-04-30T21:31:07.217973Z"
    }
   },
   "outputs": [],
   "source": [
    "spearman_df = comb_gabappsub[(comb_gabappsub.measure == 'BaselineThresh') | \n",
    "                             (comb_gabappsub.measure == 'ThreshPredCritical')]"
   ]
  },
  {
   "cell_type": "code",
   "execution_count": null,
   "metadata": {
    "ExecuteTime": {
     "end_time": "2020-04-30T21:31:07.335491Z",
     "start_time": "2020-04-30T21:31:07.282759Z"
    }
   },
   "outputs": [],
   "source": [
    "spearman_df.Subject.unique()"
   ]
  },
  {
   "cell_type": "code",
   "execution_count": null,
   "metadata": {
    "ExecuteTime": {
     "end_time": "2020-04-30T21:31:07.515035Z",
     "start_time": "2020-04-30T21:31:07.338635Z"
    }
   },
   "outputs": [],
   "source": [
    "spearman_df.Trace = spearman_df.Trace.astype('category')\n",
    "foo_temp = spearman_df.Trace.copy()\n",
    "spearman_df.Trace.cat.reorder_categories(traces4, inplace=True)\n",
    "assert(foo_temp.equals(spearman_df.Trace))\n",
    "spearman_df.Trace.cat.rename_categories(traces_graph4, inplace=True)"
   ]
  },
  {
   "cell_type": "code",
   "execution_count": null,
   "metadata": {
    "ExecuteTime": {
     "end_time": "2020-04-30T21:31:07.705630Z",
     "start_time": "2020-04-30T21:31:07.518185Z"
    }
   },
   "outputs": [],
   "source": [
    "plot_groups = spearman_df.groupby(['Task','Orientation','Presentation','Population','measure','Eye','Trace'])\n",
    "for gv, gr in plot_groups:\n",
    "    #if 'nDicho' in gv:\n",
    "    print(gv)\n",
    "    print(stats.spearmanr(gr.GABA, gr.value))"
   ]
  },
  {
   "cell_type": "code",
   "execution_count": null,
   "metadata": {
    "ExecuteTime": {
     "end_time": "2020-04-30T21:31:19.572941Z",
     "start_time": "2020-04-30T21:31:07.711936Z"
    }
   },
   "outputs": [],
   "source": [
    "#graphs!\n",
    "colors_a = [\"#3274a1\",\"#72b4e1\"]\n",
    "colors_c = [\"#e1812c\", \"#ffc68c\"]\n",
    "with s.PdfPages(f\"{plot_dir}/gaba_vs_{task}_n{n_this_task}_{gaba_col}.pdf\") as pdf:\n",
    "    plot_groups = spearman_df.groupby(['Task','Orientation','Presentation','Population','measure'])\n",
    "    plot_groups_eacheye = spearman_df.groupby(['Task','Orientation','Presentation','Population','measure','Eye'])\n",
    "    for gv, gr in plot_groups:\n",
    "        #if gv[2] == 'nDicho':\n",
    "        print(gv, np.all(np.isnan(gr['value'])), len(gr['value']))\n",
    "        pal = [colors_a if 'Amblyope' in gv else colors_c]\n",
    "        g2 = s.gaba_vs_psychophys_plot_2line_nofacet(gv, gr, palette=pal[0], aspect=1.2)\n",
    "        pdf.savefig(g2.fig)\n",
    "\n",
    "plt.close('all')"
   ]
  },
  {
   "cell_type": "code",
   "execution_count": null,
   "metadata": {
    "ExecuteTime": {
     "end_time": "2020-04-30T21:31:19.641672Z",
     "start_time": "2020-04-30T21:31:19.575505Z"
    }
   },
   "outputs": [],
   "source": [
    "# with s.PdfPages(f\"{plot_dir}/gaba_vs_{task}_n{n_this_task}_{gaba_col}_ind.pdf\") as pdf:\n",
    "#     for gv, gr in plot_groups:\n",
    "#         print(gv)\n",
    "#         g = s.gaba_vs_psychophys_plot(gv, gr, hue=\"Eye\",\n",
    "#                     palette=dict(De=\"g\", Nde=\"m\"),\n",
    "#                     n_boot=1000, height=8, aspect=1, legend_out=True, truncate=True)\n",
    "#         g.fig.suptitle(f\"{gv} unweighted\", fontsize=10, y=0.999)\n",
    "#         pdf.savefig(g.fig)\n",
    "#         plt.close('all')"
   ]
  },
  {
   "cell_type": "code",
   "execution_count": null,
   "metadata": {
    "ExecuteTime": {
     "end_time": "2020-04-30T21:31:29.067445Z",
     "start_time": "2020-04-30T21:31:19.652212Z"
    },
    "scrolled": true
   },
   "outputs": [],
   "source": [
    "facet_groups = spearman_df.groupby(['Task','Orientation','Presentation','measure'])\n",
    "with s.PdfPages(f\"{plot_dir}/gaba_vs_{task}_n{n_this_task}_{gaba_col}_facet.pdf\") as pdf:\n",
    "    for gv, gr in facet_groups:\n",
    "        print(gv)\n",
    "        g = s.gaba_vs_psychophys_plot(gv, gr, \n",
    "                    legend_box=[0.9, 0.60, 0.1, 0.15],\n",
    "                    legend_img = False,\n",
    "                    log = False,\n",
    "                    col=\"Population\", hue=\"Trace\",\n",
    "                    palette=colors4,\n",
    "                    n_boot=1000,\n",
    "                    markers=['o','s','o','s'])#, legend=False)\n",
    "        g.set_titles(\"\")\n",
    "        g.fig.subplots_adjust(left=.08, right=.82, wspace=0.1)\n",
    "        pdf.savefig(g.fig)\n",
    "        plt.close('all')"
   ]
  },
  {
   "cell_type": "code",
   "execution_count": null,
   "metadata": {
    "ExecuteTime": {
     "end_time": "2020-04-30T21:31:54.129964Z",
     "start_time": "2020-04-30T21:31:29.072227Z"
    },
    "raw_mimetype": "text/x-python"
   },
   "outputs": [],
   "source": [
    "facet_groups2 = spearman_df.groupby(['Task','Orientation','measure'])\n",
    "with s.PdfPages(f\"{plot_dir}/gaba_vs_{task}_n{n_this_task}_{gaba_col}_facet_joint.pdf\") as pdf:\n",
    "    for gv, gr in facet_groups2:\n",
    "        print(gv)\n",
    "        g = s.gaba_vs_psychophys_plot(gv, gr, \n",
    "                    legend_box=[0.9, 0.60, 0.1, 0.15],\n",
    "                    legend_img = False,\n",
    "                    log = True,\n",
    "                    #ylim = (1, 50),\n",
    "                    row=\"Presentation\", col=\"Population\", hue=\"Trace\",\n",
    "                    palette=colors4,\n",
    "                    n_boot=5000,\n",
    "                    markers=['o','s','o','s'])#, legend=False)\n",
    "        g.set_titles(\"\")\n",
    "        g.fig.subplots_adjust(left=.08, right=.82, wspace=0.1)\n",
    "        pdf.savefig(g.fig)\n",
    "        plt.close('all')"
   ]
  },
  {
   "cell_type": "code",
   "execution_count": null,
   "metadata": {
    "ExecuteTime": {
     "end_time": "2020-04-30T21:31:54.198439Z",
     "start_time": "2020-04-30T21:31:54.135320Z"
    }
   },
   "outputs": [],
   "source": [
    "spearman_supp_df = spearman_df[spearman_df.measure==\"ThreshPredCritical\"]\n",
    "supp_facet_groups = spearman_supp_df.groupby(['Task','Orientation','Presentation','measure'])"
   ]
  },
  {
   "cell_type": "code",
   "execution_count": null,
   "metadata": {
    "ExecuteTime": {
     "end_time": "2020-04-30T21:33:41.573633Z",
     "start_time": "2020-04-30T21:31:54.205952Z"
    },
    "scrolled": false
   },
   "outputs": [],
   "source": [
    "rdiffs_nores = supp_facet_groups.apply(utils.compare_rs, n_boot=1000, resample=False).reset_index()\\\n",
    "            .rename(columns={\"level_4\":\"iteration\"})"
   ]
  },
  {
   "cell_type": "code",
   "execution_count": null,
   "metadata": {
    "ExecuteTime": {
     "end_time": "2020-04-30T21:33:42.088797Z",
     "start_time": "2020-04-30T21:33:41.603967Z"
    }
   },
   "outputs": [],
   "source": [
    "# checking if the .015 p-val for SS/Iso/Dicho/AMB/Nde/ThreshPredCritical survives multicomp\n",
    "pvals = np.array([0.0, 0.015, 0.08, 0.1, 0.15, 0.17, 0.2, 0.22, 0.25, 0.3, 0.33, 0.37, 0.4, 0.44, 0.47, 0.5])\n",
    "print(pvals)\n",
    "mt.multipletests(pvals, 0.05, 'holm')"
   ]
  },
  {
   "cell_type": "code",
   "execution_count": null,
   "metadata": {
    "ExecuteTime": {
     "end_time": "2020-04-30T21:33:42.213842Z",
     "start_time": "2020-04-30T21:33:42.100501Z"
    }
   },
   "outputs": [],
   "source": [
    "rdiffs = rdiffs_nores"
   ]
  },
  {
   "cell_type": "code",
   "execution_count": null,
   "metadata": {
    "ExecuteTime": {
     "end_time": "2020-04-30T21:33:42.388102Z",
     "start_time": "2020-04-30T21:33:42.218126Z"
    }
   },
   "outputs": [],
   "source": [
    "rdiffs_supp = rdiffs[rdiffs['measure']==\"ThreshPredCritical\"]\n",
    "rdiffs_supp.head()"
   ]
  },
  {
   "cell_type": "code",
   "execution_count": null,
   "metadata": {
    "ExecuteTime": {
     "end_time": "2020-04-30T21:33:42.837488Z",
     "start_time": "2020-04-30T21:33:42.391191Z"
    }
   },
   "outputs": [],
   "source": [
    "rdiffs_supp.boxplot(column='amb_rdiff', by=['Task','Orientation','Presentation','measure'],\n",
    "               grid=False, figsize=(16, 4))"
   ]
  },
  {
   "cell_type": "code",
   "execution_count": null,
   "metadata": {
    "ExecuteTime": {
     "end_time": "2020-04-30T21:33:43.673632Z",
     "start_time": "2020-04-30T21:33:42.840618Z"
    }
   },
   "outputs": [],
   "source": [
    "# Rho(GABA vs ThreshElev(NDE)) - Rho(GABA vs ThreshElev(DE)) for Amblyopes only, by condition\n",
    "rdiffs_supp.hist(column='amb_rdiff', by=['Task','Orientation','Presentation','measure'],\n",
    "               grid=False, figsize=(16, 4))"
   ]
  },
  {
   "cell_type": "code",
   "execution_count": null,
   "metadata": {
    "ExecuteTime": {
     "end_time": "2020-04-30T21:33:44.523447Z",
     "start_time": "2020-04-30T21:33:43.678031Z"
    }
   },
   "outputs": [],
   "source": [
    "rdiffs_supp.boxplot(column='con_rdiff', by=['Task','Orientation','Presentation','measure'],\n",
    "               grid=False, figsize=(16, 4))"
   ]
  },
  {
   "cell_type": "code",
   "execution_count": null,
   "metadata": {
    "ExecuteTime": {
     "end_time": "2020-04-30T21:33:45.294658Z",
     "start_time": "2020-04-30T21:33:44.535038Z"
    }
   },
   "outputs": [],
   "source": [
    "rdiffs_supp.boxplot(column='pop_rdiff', by=['Task','Orientation','Presentation','measure'],\n",
    "               grid=False, figsize=(16, 4))"
   ]
  },
  {
   "cell_type": "code",
   "execution_count": null,
   "metadata": {
    "ExecuteTime": {
     "end_time": "2020-04-30T21:33:45.423229Z",
     "start_time": "2020-04-30T21:33:45.305162Z"
    }
   },
   "outputs": [],
   "source": [
    "comb_gabappsub.head()"
   ]
  },
  {
   "cell_type": "code",
   "execution_count": null,
   "metadata": {
    "ExecuteTime": {
     "end_time": "2020-04-30T21:33:45.585511Z",
     "start_time": "2020-04-30T21:33:45.436586Z"
    }
   },
   "outputs": [],
   "source": [
    "spearman_df.head()"
   ]
  },
  {
   "cell_type": "code",
   "execution_count": null,
   "metadata": {
    "ExecuteTime": {
     "end_time": "2020-04-30T21:33:45.669500Z",
     "start_time": "2020-04-30T21:33:45.588830Z"
    }
   },
   "outputs": [],
   "source": [
    "spearman_df.measure.unique()"
   ]
  },
  {
   "cell_type": "code",
   "execution_count": null,
   "metadata": {
    "ExecuteTime": {
     "end_time": "2020-04-30T21:33:45.773477Z",
     "start_time": "2020-04-30T21:33:45.672934Z"
    }
   },
   "outputs": [],
   "source": [
    "kelly_file = f\"{plot_dir}/{task}_data_frame.csv\"\n",
    "spearman_df.to_csv(kelly_file)"
   ]
  },
  {
   "cell_type": "markdown",
   "metadata": {},
   "source": [
    "### Orientation Selective Suppression"
   ]
  },
  {
   "cell_type": "code",
   "execution_count": null,
   "metadata": {
    "ExecuteTime": {
     "end_time": "2020-04-30T21:33:45.902106Z",
     "start_time": "2020-04-30T21:33:45.789267Z"
    }
   },
   "outputs": [],
   "source": [
    "oss_gvars = [\"Task\", \"Presentation\", \"Population\", \"Subject\", \"Eye\", \"Trace\",\n",
    "             \"measure\", \"GABA\"]\n",
    "oss_gvars_combeyes = [\"Task\", \"Presentation\", \"Population\", \"Subject\", \n",
    "             \"measure\", \"GABA\"]"
   ]
  },
  {
   "cell_type": "code",
   "execution_count": null,
   "metadata": {
    "ExecuteTime": {
     "end_time": "2020-04-30T21:33:46.365689Z",
     "start_time": "2020-04-30T21:33:45.914795Z"
    }
   },
   "outputs": [],
   "source": [
    "for gv, g in spearman_df[spearman_df.measure=='ThreshPredCritical'].groupby(oss_gvars):\n",
    "    print(gv, g.Orientation.unique())"
   ]
  },
  {
   "cell_type": "code",
   "execution_count": null,
   "metadata": {
    "ExecuteTime": {
     "end_time": "2020-04-30T21:33:46.871593Z",
     "start_time": "2020-04-30T21:33:46.371077Z"
    }
   },
   "outputs": [],
   "source": [
    "spearman_df[spearman_df.measure=='ThreshPredCritical'].groupby(['Task', 'Orientation', 'Presentation', 'Population','Eye'])['value'].describe()"
   ]
  },
  {
   "cell_type": "code",
   "execution_count": null,
   "metadata": {
    "ExecuteTime": {
     "end_time": "2020-04-30T21:33:47.159941Z",
     "start_time": "2020-04-30T21:33:46.875123Z"
    }
   },
   "outputs": [],
   "source": [
    "spearman_df[spearman_df.measure=='ThreshPredCritical'].groupby(['Task', 'Presentation', 'Population','Eye'])['Subject'].describe()"
   ]
  },
  {
   "cell_type": "code",
   "execution_count": null,
   "metadata": {
    "ExecuteTime": {
     "end_time": "2020-04-30T21:33:48.696855Z",
     "start_time": "2020-04-30T21:33:47.171133Z"
    }
   },
   "outputs": [],
   "source": [
    "oss_df = spearman_df[spearman_df.measure=='ThreshPredCritical'].groupby(oss_gvars).apply(utils.calculate_orientation_selective_suppression).reset_index()"
   ]
  },
  {
   "cell_type": "code",
   "execution_count": null,
   "metadata": {
    "ExecuteTime": {
     "end_time": "2020-04-30T21:33:48.790485Z",
     "start_time": "2020-04-30T21:33:48.703186Z"
    }
   },
   "outputs": [],
   "source": [
    "print(np.count_nonzero(np.isnan(oss_df.value)), len(oss_df.value))"
   ]
  },
  {
   "cell_type": "code",
   "execution_count": null,
   "metadata": {
    "ExecuteTime": {
     "end_time": "2020-04-30T21:33:49.182479Z",
     "start_time": "2020-04-30T21:33:48.794050Z"
    }
   },
   "outputs": [],
   "source": [
    "oss_df[~np.isnan(oss_df.value)]"
   ]
  },
  {
   "cell_type": "code",
   "execution_count": null,
   "metadata": {
    "ExecuteTime": {
     "end_time": "2020-04-30T21:33:50.814299Z",
     "start_time": "2020-04-30T21:33:49.186819Z"
    }
   },
   "outputs": [],
   "source": [
    "oss_df.boxplot(column='value', by=['Task','Presentation','Population','Eye'],\n",
    "               grid=False, figsize=(16, 4))"
   ]
  },
  {
   "cell_type": "code",
   "execution_count": null,
   "metadata": {
    "ExecuteTime": {
     "end_time": "2020-04-30T21:33:51.241588Z",
     "start_time": "2020-04-30T21:33:50.827389Z"
    }
   },
   "outputs": [],
   "source": [
    "oss_df.groupby(['Task', 'Presentation', 'Population','Eye'])['value'].describe()"
   ]
  },
  {
   "cell_type": "code",
   "execution_count": null,
   "metadata": {
    "ExecuteTime": {
     "end_time": "2020-04-30T21:33:51.491892Z",
     "start_time": "2020-04-30T21:33:51.244976Z"
    }
   },
   "outputs": [],
   "source": [
    "for gv, g in oss_df.groupby(['Task', 'Presentation', 'Population','Eye']):\n",
    "    print(gv)#, g, sep='\\n')\n",
    "    print(st.ttest_1samp(g['value'], popmean=1, nan_policy='omit'))"
   ]
  },
  {
   "cell_type": "code",
   "execution_count": null,
   "metadata": {
    "ExecuteTime": {
     "end_time": "2020-04-30T21:33:51.605764Z",
     "start_time": "2020-04-30T21:33:51.504620Z"
    }
   },
   "outputs": [],
   "source": [
    "def tt_pval(df):\n",
    "    ttr = st.ttest_1samp(df['value'], popmean=1, nan_policy='omit')\n",
    "    pval = ttr.pvalue\n",
    "    return pd.Series(pval, ['pvalue'])"
   ]
  },
  {
   "cell_type": "markdown",
   "metadata": {},
   "source": [
    "### OSS t-tests and results here"
   ]
  },
  {
   "cell_type": "code",
   "execution_count": null,
   "metadata": {
    "ExecuteTime": {
     "end_time": "2020-04-30T21:33:52.118154Z",
     "start_time": "2020-04-30T21:33:51.613731Z"
    }
   },
   "outputs": [],
   "source": [
    "for gv, g in oss_df.groupby(['Task', 'Presentation', 'Population']):\n",
    "    print(gv, np.unique(g['Subject']))#, g, sep='\\n')\n",
    "    print(st.ttest_1samp(g['value'], popmean=1, nan_policy='omit'))"
   ]
  },
  {
   "cell_type": "code",
   "execution_count": null,
   "metadata": {
    "ExecuteTime": {
     "end_time": "2020-04-30T21:33:52.362573Z",
     "start_time": "2020-04-30T21:33:52.122805Z"
    }
   },
   "outputs": [],
   "source": [
    "oss_df.groupby(['Task', 'Presentation', 'Population'])['value'].describe()"
   ]
  },
  {
   "cell_type": "code",
   "execution_count": null,
   "metadata": {
    "ExecuteTime": {
     "end_time": "2020-04-30T21:42:18.429347Z",
     "start_time": "2020-04-30T21:42:18.378710Z"
    }
   },
   "outputs": [],
   "source": [
    ".345/(23**.5) # SEM of Control/Dicho (stdev from ^^^ / sqrt(n))"
   ]
  },
  {
   "cell_type": "code",
   "execution_count": null,
   "metadata": {
    "ExecuteTime": {
     "end_time": "2020-04-30T21:33:52.496071Z",
     "start_time": "2020-04-30T21:33:52.389948Z"
    }
   },
   "outputs": [],
   "source": [
    "oss_dicho = oss_df[oss_df.Presentation==\"nDicho\"]['value']\n",
    "oss_mono = oss_df[oss_df.Presentation==\"nMono\"]['value']"
   ]
  },
  {
   "cell_type": "code",
   "execution_count": null,
   "metadata": {
    "ExecuteTime": {
     "end_time": "2020-04-30T21:33:52.622159Z",
     "start_time": "2020-04-30T21:33:52.508338Z"
    }
   },
   "outputs": [],
   "source": [
    "oss_dicho[~np.isnan(oss_dicho)]"
   ]
  },
  {
   "cell_type": "code",
   "execution_count": null,
   "metadata": {
    "ExecuteTime": {
     "end_time": "2020-04-30T21:33:52.738485Z",
     "start_time": "2020-04-30T21:33:52.628129Z"
    }
   },
   "outputs": [],
   "source": [
    "st.ttest_ind(oss_dicho, oss_mono, nan_policy='omit', equal_var=False)"
   ]
  },
  {
   "cell_type": "code",
   "execution_count": null,
   "metadata": {
    "ExecuteTime": {
     "end_time": "2020-04-30T21:33:52.910747Z",
     "start_time": "2020-04-30T21:33:52.742326Z"
    }
   },
   "outputs": [],
   "source": [
    "def oss_mean_combeyes(df, **kwargs):\n",
    "    if len(df.Eye.unique())==2:\n",
    "        v1 = df[df.Eye=='Nde']['value'].iloc[0]\n",
    "        v2 = df[df.Eye=='De']['value'].iloc[0]\n",
    "        oss_mean_combeyes = np.mean([v1, v2])\n",
    "    else:\n",
    "        oss_mean_combeyes = np.nan\n",
    "    print(f\"OSS mean across eyes: {oss_mean_combeyes}\")\n",
    "    return pd.Series(oss_mean_combeyes, ['value'])"
   ]
  },
  {
   "cell_type": "code",
   "execution_count": null,
   "metadata": {
    "ExecuteTime": {
     "end_time": "2020-04-30T21:34:09.534803Z",
     "start_time": "2020-04-30T21:33:52.918689Z"
    }
   },
   "outputs": [],
   "source": [
    "for gv, g in oss_df.groupby(oss_gvars_combeyes):\n",
    "    print(gv, g, sep=\"\\n\")"
   ]
  },
  {
   "cell_type": "code",
   "execution_count": null,
   "metadata": {
    "ExecuteTime": {
     "end_time": "2020-04-30T21:34:17.751275Z",
     "start_time": "2020-04-30T21:34:09.538513Z"
    }
   },
   "outputs": [],
   "source": [
    "oss_df_combeyes = oss_df.groupby(oss_gvars_combeyes).apply(oss_mean_combeyes).reset_index()"
   ]
  },
  {
   "cell_type": "code",
   "execution_count": null,
   "metadata": {
    "ExecuteTime": {
     "end_time": "2020-04-30T21:34:17.904305Z",
     "start_time": "2020-04-30T21:34:17.755218Z"
    }
   },
   "outputs": [],
   "source": [
    "oss_df_combeyes"
   ]
  },
  {
   "cell_type": "code",
   "execution_count": null,
   "metadata": {
    "ExecuteTime": {
     "end_time": "2020-04-30T21:34:21.701255Z",
     "start_time": "2020-04-30T21:34:17.931339Z"
    }
   },
   "outputs": [],
   "source": [
    "with s.PdfPages(f\"{plot_dir}/gaba_vs_{task}_n{n_this_task}_oss.pdf\") as pdf:\n",
    "    temp_df = oss_df.copy()\n",
    "    temp_df['Eye'] = temp_df['Eye'].astype('category')\n",
    "    plot_groups = temp_df.groupby(['Task', 'Presentation', 'Population','measure'])\n",
    "    for gv, gr in plot_groups:\n",
    "        #if \"BaselineThresh\" in gv: continue\n",
    "        if \"Amblyope\" in gv:\n",
    "            pal = colors_a\n",
    "        elif \"Control\" in gv:\n",
    "            pal = colors_c\n",
    "        else:\n",
    "            print('Error! neither amb nor con!')\n",
    "        print(gv, np.all(np.isnan(gr['value'])))\n",
    "        g2 = s.gaba_vs_psychophys_plot_2line_nofacet(gv, gr, palette=pal)\n",
    "        pdf.savefig(g2.fig)\n",
    "        \n",
    "    plt.close('all')"
   ]
  },
  {
   "cell_type": "code",
   "execution_count": null,
   "metadata": {
    "ExecuteTime": {
     "end_time": "2020-04-30T21:34:21.776310Z",
     "start_time": "2020-04-30T21:34:21.704699Z"
    }
   },
   "outputs": [],
   "source": [
    "# with s.PdfPages(f\"{plot_dir}/gaba_vs_{task}_n{n_this_task}_oss_combeyes.pdf\") as pdf:\n",
    "#     temp_df = oss_df_combeyes.copy()\n",
    "#     plot_groups = temp_df.groupby(['Task', 'Presentation', 'Population','measure'])\n",
    "#     for gv, gr in plot_groups:\n",
    "#         #if \"BaselineThresh\" in gv: continue\n",
    "#         if \"Amblyope\" in gv:\n",
    "#             pal = colors_a\n",
    "#             print(gv, np.all(np.isnan(gr['value'])))\n",
    "#         elif \"Control\" in gv:\n",
    "#             pal = colors_c\n",
    "#             print(gv, np.all(np.isnan(gr['value'])),\n",
    "#                   stats.spearmanr(gr.GABA, gr.value, nan_policy='omit'), sep='\\n')\n",
    "#         else:\n",
    "#             print('Error! neither amb nor con!')\n",
    "#         g2 = s.oss_plot_2eye(gv, gr, palette=pal)\n",
    "#         pdf.savefig(g2.fig)\n",
    "        \n",
    "#     plt.close('all')"
   ]
  },
  {
   "cell_type": "markdown",
   "metadata": {
    "heading_collapsed": true
   },
   "source": [
    "### Combine measures across the two eyes"
   ]
  },
  {
   "cell_type": "markdown",
   "metadata": {
    "hidden": true
   },
   "source": [
    " * Does it make sense to combine all measures across both eyes (i.e. by subtracting?) For example, ThreshElev is in units of baseline, and the baseline varies by eye. So perhaps only a few measures should be combined -- say, slope/yint, ThreshPredCriticalUnnorm. "
   ]
  },
  {
   "cell_type": "code",
   "execution_count": null,
   "metadata": {
    "ExecuteTime": {
     "end_time": "2020-04-30T21:34:21.841592Z",
     "start_time": "2020-04-30T21:34:21.785263Z"
    },
    "hidden": true
   },
   "outputs": [],
   "source": [
    "measures = comb_gabappsub[comb_gabappsub[\"measure\"].isin([\"BaselineThresh\",\"ThreshPredCritical\"])]"
   ]
  },
  {
   "cell_type": "code",
   "execution_count": null,
   "metadata": {
    "ExecuteTime": {
     "end_time": "2020-04-30T21:34:21.932530Z",
     "start_time": "2020-04-30T21:34:21.849807Z"
    },
    "hidden": true
   },
   "outputs": [],
   "source": [
    "np.unique(measures.measure)"
   ]
  },
  {
   "cell_type": "code",
   "execution_count": null,
   "metadata": {
    "ExecuteTime": {
     "end_time": "2020-04-30T21:34:22.025542Z",
     "start_time": "2020-04-30T21:34:21.939331Z"
    },
    "hidden": true
   },
   "outputs": [],
   "source": [
    "paired_obs = measures.groupby(['Task', 'Orientation', 'Population', 'Presentation', 'Subject', 'measure'])\n",
    "\n",
    "def get_eyediff_value(g):\n",
    "    if len(g)==2: # this will exclude paired observations where there was no data for one eye\n",
    "        value_diff = g[g['Eye']=='Nde'].value.iat[0] - g[g['Eye']=='De'].value.iat[0]\n",
    "        #print(g.name, value_diff)\n",
    "        return pd.Series([value_diff], ['Nde-De'])\n",
    "    else:\n",
    "        print(f\"Skipping because one eye is missing...\")"
   ]
  },
  {
   "cell_type": "code",
   "execution_count": null,
   "metadata": {
    "ExecuteTime": {
     "end_time": "2020-04-30T21:34:22.578380Z",
     "start_time": "2020-04-30T21:34:22.035208Z"
    },
    "hidden": true
   },
   "outputs": [],
   "source": [
    "obs_diff = paired_obs.apply(get_eyediff_value).reset_index()"
   ]
  },
  {
   "cell_type": "code",
   "execution_count": null,
   "metadata": {
    "ExecuteTime": {
     "end_time": "2020-04-30T21:34:22.647541Z",
     "start_time": "2020-04-30T21:34:22.586101Z"
    },
    "hidden": true
   },
   "outputs": [],
   "source": [
    "obs_diff[obs_diff.Subject=='em']"
   ]
  },
  {
   "cell_type": "code",
   "execution_count": null,
   "metadata": {
    "ExecuteTime": {
     "end_time": "2020-04-30T21:34:22.757345Z",
     "start_time": "2020-04-30T21:34:22.655168Z"
    },
    "hidden": true
   },
   "outputs": [],
   "source": [
    "comb_botheyes = obs_diff.join(gdf.set_index(['subjName'])['GABA'], on=['Subject'])"
   ]
  },
  {
   "cell_type": "code",
   "execution_count": null,
   "metadata": {
    "ExecuteTime": {
     "end_time": "2020-04-30T21:34:22.960796Z",
     "start_time": "2020-04-30T21:34:22.766652Z"
    },
    "hidden": true
   },
   "outputs": [],
   "source": [
    "comb_botheyes"
   ]
  },
  {
   "cell_type": "code",
   "execution_count": null,
   "metadata": {
    "ExecuteTime": {
     "end_time": "2020-04-30T21:34:23.052555Z",
     "start_time": "2020-04-30T21:34:22.966725Z"
    },
    "hidden": true
   },
   "outputs": [],
   "source": [
    "print(len(np.unique(comb_botheyes.Subject)))"
   ]
  },
  {
   "cell_type": "code",
   "execution_count": null,
   "metadata": {
    "ExecuteTime": {
     "end_time": "2020-04-30T21:34:23.173514Z",
     "start_time": "2020-04-30T21:34:23.059467Z"
    },
    "hidden": true
   },
   "outputs": [],
   "source": [
    "test_groups = comb_botheyes.groupby(['Task','Orientation','Presentation','Population','measure'])\n",
    "for gv, gr in test_groups:\n",
    "    #print(gr.head())\n",
    "    if gv[-1]==\"ThreshPredCritical\":\n",
    "        print(gv)\n",
    "        print(stats.spearmanr(gr.GABA, gr['Nde-De']))"
   ]
  },
  {
   "cell_type": "code",
   "execution_count": null,
   "metadata": {
    "ExecuteTime": {
     "end_time": "2020-04-30T21:34:23.261493Z",
     "start_time": "2020-04-30T21:34:23.177286Z"
    },
    "hidden": true
   },
   "outputs": [],
   "source": [
    "comb_botheyes.Population = comb_botheyes.Population.astype('category')\n",
    "comb_botheyes.Population = comb_botheyes.Population.cat.rename_categories(['Persons with Amblyopia', 'Normally-sighted persons'])"
   ]
  },
  {
   "cell_type": "code",
   "execution_count": null,
   "metadata": {
    "ExecuteTime": {
     "end_time": "2020-04-30T21:34:25.212479Z",
     "start_time": "2020-04-30T21:34:23.269375Z"
    },
    "hidden": true,
    "scrolled": true
   },
   "outputs": [],
   "source": [
    "#graphs!\n",
    "with s.PdfPages(f\"{plot_dir}/gaba_vs_{task}_combeyes_n{n_this_task}.pdf\") as pdf:\n",
    "    plot_groups = comb_botheyes.groupby(['Task','Orientation','measure'])\n",
    "    for gv, gr in plot_groups:\n",
    "        print(gv)\n",
    "        g2 = s.gaba_vs_psychophys_plot_2line_2eye(gv, gr)\n",
    "        pdf.savefig(g2.fig)\n",
    "        \n",
    "    plt.close('all')"
   ]
  },
  {
   "cell_type": "code",
   "execution_count": null,
   "metadata": {
    "ExecuteTime": {
     "end_time": "2020-04-30T21:34:26.958509Z",
     "start_time": "2020-04-30T21:34:25.216934Z"
    },
    "hidden": true
   },
   "outputs": [],
   "source": [
    "# more graphs for presentation!\n",
    "with s.PdfPages(f\"{plot_dir}/gaba_vs_{task}_combeyes_n{n_this_task}_poster.pdf\") as pdf:\n",
    "    plot_groups = comb_botheyes.groupby(['Task','Orientation','Presentation','measure'])\n",
    "    for gv, gr in plot_groups:\n",
    "        if gv[-2] in [\"nDicho\"]: # use this line to exclude measures we don't want\n",
    "            print(gv)\n",
    "            g2 = s.gaba_vs_psychophys_plot_2line_2eye_nofacet(gv, gr, hue=\"Population\", height=5, aspect=1.2, legend=False)\n",
    "            #print(g2.axes)\n",
    "            pdf.savefig(g2.fig)\n",
    "        \n",
    "    plt.close('all')"
   ]
  },
  {
   "cell_type": "markdown",
   "metadata": {},
   "source": [
    "## Demographic stuff from KB"
   ]
  },
  {
   "cell_type": "code",
   "execution_count": null,
   "metadata": {
    "ExecuteTime": {
     "end_time": "2020-04-30T21:34:27.160225Z",
     "start_time": "2020-04-30T21:34:26.980589Z"
    }
   },
   "outputs": [],
   "source": [
    "amb_data = demos[demos['group']==1]\n",
    "amb_data['motorGABA'] = pd.to_numeric(amb_data['motorGABA'].str.strip(), errors='coerce')\n",
    "amb_data[[\"numID\",\"initials\",\"labelGroup\",\"labelNDE\",\"swapNDE_EY\",\"acuityDE\",\"acuityNDE\",\n",
    "          \"iadLogMAR\",\"occGABA\",\"motorGABA\"]]"
   ]
  },
  {
   "cell_type": "code",
   "execution_count": null,
   "metadata": {
    "ExecuteTime": {
     "end_time": "2020-04-30T21:34:27.251285Z",
     "start_time": "2020-04-30T21:34:27.164193Z"
    }
   },
   "outputs": [],
   "source": [
    "#tt_eyes = st.ttest_ind(amb_data['acuityDE'], amb_data['acuityNDE'], nan_policy='omit') # are the eyes different in acuity?\n",
    "#print(tt_eyes)\n",
    "#print(\"occ gaba vs acuityDE: \", st.spearmanr(amb_data['occGABA'], amb_data['acuityDE'], nan_policy='omit'))\n",
    "#print(\"occ gaba vs acuityNDE: \", st.spearmanr(amb_data['occGABA'], amb_data['acuityNDE'], nan_policy='omit'))\n",
    "print(\"occ gaba vs IAD: \", st.spearmanr(amb_data['occGABA'], amb_data['iadLogMAR']))\n",
    "print(\"motor gaba vs IAD: \", st.spearmanr(amb_data['motorGABA'], amb_data['iadLogMAR'], nan_policy='omit'))"
   ]
  },
  {
   "cell_type": "code",
   "execution_count": null,
   "metadata": {
    "ExecuteTime": {
     "end_time": "2020-04-30T21:34:27.317193Z",
     "start_time": "2020-04-30T21:34:27.259241Z"
    }
   },
   "outputs": [],
   "source": [
    "print(\"occ gaba vs interocular acuity difference: \", st.pearsonr(amb_data['occGABA'], amb_data['iadLogMAR']))\n",
    "print(\"motor gaba vs interocular acuity difference: \", np.corrcoef(amb_data['motorGABA'], amb_data['iadLogMAR'])[0,1])\n",
    "#print(\"motor gaba vs interocular acuity difference: \", st.pearsonr(amb_data['motorGABA'], amb_data['iadLogMAR']))"
   ]
  },
  {
   "cell_type": "code",
   "execution_count": null,
   "metadata": {
    "ExecuteTime": {
     "end_time": "2020-04-30T21:34:27.376190Z",
     "start_time": "2020-04-30T21:34:27.320548Z"
    }
   },
   "outputs": [],
   "source": [
    "print(amb_data['occGABA'], amb_data[\"motorGABA\"], sep='\\n')"
   ]
  },
  {
   "cell_type": "code",
   "execution_count": null,
   "metadata": {
    "ExecuteTime": {
     "end_time": "2020-04-30T21:34:27.440929Z",
     "start_time": "2020-04-30T21:34:27.379011Z"
    }
   },
   "outputs": [],
   "source": [
    "has_motor = amb_data[~np.isnan(amb_data['motorGABA'])]"
   ]
  },
  {
   "cell_type": "code",
   "execution_count": null,
   "metadata": {
    "ExecuteTime": {
     "end_time": "2020-04-30T21:34:27.514058Z",
     "start_time": "2020-04-30T21:34:27.444976Z"
    }
   },
   "outputs": [],
   "source": [
    "len(amb_data['occGABA']), len(has_motor['motorGABA'])"
   ]
  },
  {
   "cell_type": "code",
   "execution_count": null,
   "metadata": {
    "ExecuteTime": {
     "end_time": "2020-04-30T21:34:28.293883Z",
     "start_time": "2020-04-30T21:34:27.518865Z"
    }
   },
   "outputs": [],
   "source": [
    "fig, ax = plt.subplots(1, 1)\n",
    "ax.set_xlim(0.18, 0.23)\n",
    "ax.set_ylim(0, 1.4)\n",
    "\n",
    "sns.regplot(data=amb_data, x='occGABA', y='iadLogMAR', color='blue', marker='o', ax=ax, label='Occipital cortex')\n",
    "r, p = st.pearsonr(amb_data['occGABA'], amb_data['iadLogMAR'])\n",
    "ax.text(.35, 0.88, f\"r={r:.3f}, p={p:.3f}\", transform=ax.transAxes, fontdict={'color': 'blue'}, horizontalalignment='center')\n",
    "\n",
    "sns.regplot(data=amb_data, x='motorGABA', y='iadLogMAR', color='grey', marker='x', ax=ax, label='Motor cortex')\n",
    "r, p = st.pearsonr(has_motor['motorGABA'], has_motor['iadLogMAR'])\n",
    "ax.text(.35, 0.82, f\"r={r:.3f}, p={p:.3f}\", transform=ax.transAxes, fontdict={'color': 'grey'}, horizontalalignment='center')\n",
    "\n",
    "ax.legend()\n",
    "ax.set_xlabel(\"GABA:Creatine Ratio\")\n",
    "ax.set_ylabel(\"Interocular acuity difference (logMAR)\")"
   ]
  },
  {
   "cell_type": "code",
   "execution_count": null,
   "metadata": {
    "ExecuteTime": {
     "end_time": "2020-04-30T21:34:28.358619Z",
     "start_time": "2020-04-30T21:34:28.297564Z"
    }
   },
   "outputs": [],
   "source": [
    "np.corrcoef(has_motor['motorGABA'], has_motor['iadLogMAR'])"
   ]
  },
  {
   "cell_type": "code",
   "execution_count": null,
   "metadata": {
    "ExecuteTime": {
     "end_time": "2020-04-30T21:34:28.434622Z",
     "start_time": "2020-04-30T21:34:28.363387Z"
    }
   },
   "outputs": [],
   "source": [
    "st.pearsonr(has_motor['motorGABA'], has_motor['iadLogMAR'])"
   ]
  }
 ],
 "metadata": {
  "anaconda-cloud": {},
  "celltoolbar": "Raw Cell Format",
  "kernelspec": {
   "display_name": "Python 3",
   "language": "python",
   "name": "python3"
  },
  "language_info": {
   "codemirror_mode": {
    "name": "ipython",
    "version": 3
   },
   "file_extension": ".py",
   "mimetype": "text/x-python",
   "name": "python",
   "nbconvert_exporter": "python",
   "pygments_lexer": "ipython3",
   "version": "3.6.8"
  },
  "varInspector": {
   "cols": {
    "lenName": 16,
    "lenType": 16,
    "lenVar": 40
   },
   "kernels_config": {
    "python": {
     "delete_cmd_postfix": "",
     "delete_cmd_prefix": "del ",
     "library": "var_list.py",
     "varRefreshCmd": "print(var_dic_list())"
    },
    "r": {
     "delete_cmd_postfix": ") ",
     "delete_cmd_prefix": "rm(",
     "library": "var_list.r",
     "varRefreshCmd": "cat(var_dic_list()) "
    }
   },
   "types_to_exclude": [
    "module",
    "function",
    "builtin_function_or_method",
    "instance",
    "_Feature"
   ],
   "window_display": false
  }
 },
 "nbformat": 4,
 "nbformat_minor": 1
}
