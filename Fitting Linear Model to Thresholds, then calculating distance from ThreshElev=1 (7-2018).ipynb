{
 "cells": [
  {
   "cell_type": "code",
   "execution_count": null,
   "metadata": {
    "collapsed": true
   },
   "outputs": [],
   "source": [
    "%load_ext autoreload\n",
    "%autoreload 2"
   ]
  },
  {
   "cell_type": "code",
   "execution_count": null,
   "metadata": {
    "collapsed": true
   },
   "outputs": [],
   "source": [
    "%matplotlib inline"
   ]
  },
  {
   "cell_type": "code",
   "execution_count": null,
   "metadata": {
    "collapsed": true
   },
   "outputs": [],
   "source": [
    "import numpy as np\n",
    "import pandas as pd\n",
    "import scipy.stats as st\n",
    "\n",
    "import matplotlib.pyplot as plt\n",
    "import seaborn as sns\n",
    "\n",
    "from scipy import stats\n",
    "\n",
    "import suppression as s\n",
    "import utils\n",
    "import linear_model"
   ]
  },
  {
   "cell_type": "code",
   "execution_count": null,
   "metadata": {
    "collapsed": true
   },
   "outputs": [],
   "source": [
    "gaba_fn = 'gaba_data.txt'\n",
    "supp_fn = 'supp_data_individual_20170427.txt'"
   ]
  },
  {
   "cell_type": "code",
   "execution_count": null,
   "metadata": {
    "collapsed": true
   },
   "outputs": [],
   "source": [
    "sdf = utils.load_psychophys(supp_fn)\n",
    "gdf = utils.load_gaba(gaba_fn)"
   ]
  },
  {
   "cell_type": "code",
   "execution_count": null,
   "metadata": {
    "collapsed": true
   },
   "outputs": [],
   "source": [
    "plot_dir = \"plots/redo-201807\""
   ]
  },
  {
   "cell_type": "markdown",
   "metadata": {},
   "source": [
    "## Analyze tasks separately (before subsetting to include common subjects)##"
   ]
  },
  {
   "cell_type": "code",
   "execution_count": null,
   "metadata": {},
   "outputs": [],
   "source": [
    "pp_subjs = np.unique(sdf.Subject)\n",
    "n_pp_subjs = len(pp_subjs)\n",
    "gaba_subjs = np.unique(gdf.subjName)\n",
    "n_gaba_subjs = len(gaba_subjs)\n",
    "print(f\"Psychophysics subjects (n={n_pp_subjs}):\\n\", pp_subjs)\n",
    "print(f\"GABA subjects (n={n_gaba_subjs}):\\n\", gaba_subjs)"
   ]
  },
  {
   "cell_type": "markdown",
   "metadata": {},
   "source": [
    "# GABA only analyses"
   ]
  },
  {
   "cell_type": "markdown",
   "metadata": {},
   "source": [
    "### GABA t-test, CON v AMB"
   ]
  },
  {
   "cell_type": "code",
   "execution_count": null,
   "metadata": {},
   "outputs": [],
   "source": [
    "pop_group = gdf.groupby(\"Population\")\n",
    "pop_group.describe()"
   ]
  },
  {
   "cell_type": "code",
   "execution_count": null,
   "metadata": {},
   "outputs": [],
   "source": [
    "gaba_per_group = [col for col_name, col in pop_group['GABA']]\n",
    "(tstat, pval) = st.ttest_ind(*gaba_per_group)\n",
    "print(tstat, pval)"
   ]
  },
  {
   "cell_type": "markdown",
   "metadata": {},
   "source": [
    "** Thus we find no significant difference in GABA levels between CON and AMB. **"
   ]
  },
  {
   "cell_type": "markdown",
   "metadata": {},
   "source": [
    "### GABA violin plot, all subjects"
   ]
  },
  {
   "cell_type": "code",
   "execution_count": null,
   "metadata": {},
   "outputs": [],
   "source": [
    "with s.PdfPages(f\"{plot_dir}/gaba_diffs_n{n_gaba_subjs}.pdf\") as pdf:\n",
    "    fig = plt.figure(figsize=(6,8))  # create a figure object\n",
    "    ax = fig.add_subplot(1, 1, 1)\n",
    "    ax = sns.violinplot(y='GABA',x='Presentation',hue='Population',data=gdf,split=True,inner='stick',ax=ax)\n",
    "    ax.xaxis.set_visible(False)\n",
    "    ax.set_ylabel(\"GABA (relative to Creatine)\")\n",
    "    plt.show(ax.figure)\n",
    "    pdf.savefig(ax.figure)\n",
    "    plt.close(ax.figure)\n",
    "    plt.close('all')"
   ]
  },
  {
   "cell_type": "markdown",
   "metadata": {},
   "source": [
    "# Select one psychophysical task's data #"
   ]
  },
  {
   "cell_type": "code",
   "execution_count": null,
   "metadata": {
    "collapsed": true
   },
   "outputs": [],
   "source": [
    "task = 'SS'\n",
    "sdf = sdf[sdf['Task']==task]"
   ]
  },
  {
   "cell_type": "markdown",
   "metadata": {},
   "source": [
    "## Find the RelMaskContrast at which NDE and DE most different within population using t-tests"
   ]
  },
  {
   "cell_type": "markdown",
   "metadata": {},
   "source": [
    "### New way, moving the old way to functions in utils.py, 7-12-18"
   ]
  },
  {
   "cell_type": "code",
   "execution_count": null,
   "metadata": {},
   "outputs": [],
   "source": [
    "gvars_test = ['Task','Orientation','Presentation','Population']\n",
    "# equal_var=False makes it Welch's t-test, which does not assume the grooups have equal variance\n",
    "df_to_model = utils.find_xvalue_to_predict(sdf, gvars_test, test_func=st.ttest_ind, equal_var=False)"
   ]
  },
  {
   "cell_type": "code",
   "execution_count": null,
   "metadata": {},
   "outputs": [],
   "source": [
    "# The line below shows data that confirms that each bin has a different RelMaskContrast at its center for NDE and DE\n",
    "# This is bad so we're going to redo the binning, ignoring Eunice's BinNumbers and instead discretizing the linear model fit\n",
    "#df_to_model.groupby(gvars_test + [\"Eye\", \"BinNumber\"])[[\"RelMCToPred\",\"BinCenterRelMaskContrast\"]].describe()"
   ]
  },
  {
   "cell_type": "code",
   "execution_count": null,
   "metadata": {},
   "outputs": [],
   "source": [
    "df_to_model.columns"
   ]
  },
  {
   "cell_type": "markdown",
   "metadata": {},
   "source": [
    "### Add a field that is the observed ThreshElev data point in the Bin to predict"
   ]
  },
  {
   "cell_type": "markdown",
   "metadata": {},
   "source": [
    "*** Actually, this isn't possible. Most subjects have fewer data points than there are bins, so often will not have an observation in the critical bin. Keep using the predicted ThreshElev instead. ***"
   ]
  },
  {
   "cell_type": "code",
   "execution_count": null,
   "metadata": {},
   "outputs": [],
   "source": [
    "n_pp_subjs_thistask = len(np.unique(df_to_model.Subject))\n",
    "n_amb_subjs_thistask = len(np.unique((df_to_model[df_to_model['Population']=='Amblyope'])['Subject']))\n",
    "print(f\"There are {n_pp_subjs_thistask} subjects for Task {task}, of which {n_amb_subjs_thistask} are Amblyopes.\")"
   ]
  },
  {
   "cell_type": "markdown",
   "metadata": {},
   "source": [
    "# Modeling"
   ]
  },
  {
   "cell_type": "markdown",
   "metadata": {},
   "source": [
    "### Begin grouping data into conditions to model Subject's ThreshElev as a function of logRelContrast #"
   ]
  },
  {
   "cell_type": "code",
   "execution_count": null,
   "metadata": {
    "collapsed": true
   },
   "outputs": [],
   "source": [
    "pp_gvars = ['Task','Orientation','Presentation','Population','Subject','Eye','Trace'] # One condition\n",
    "pp_gvars_base = pp_gvars + ['BaselineThresh']"
   ]
  },
  {
   "cell_type": "code",
   "execution_count": null,
   "metadata": {
    "collapsed": true
   },
   "outputs": [],
   "source": [
    "groups = df_to_model.groupby(pp_gvars) "
   ]
  },
  {
   "cell_type": "markdown",
   "metadata": {},
   "source": [
    "### Linear model (defined in linear_model.py, uses lmfit)###"
   ]
  },
  {
   "cell_type": "code",
   "execution_count": null,
   "metadata": {},
   "outputs": [],
   "source": [
    "# initialize parameters\n",
    "lm_params = linear_model.parameters()\n",
    "preds_lm = groups.apply(utils.model_threshold, linear_model.err, linear_model.thresh, lm_params, ret='preds')"
   ]
  },
  {
   "cell_type": "markdown",
   "metadata": {},
   "source": [
    "## Descriptive statistics"
   ]
  },
  {
   "cell_type": "markdown",
   "metadata": {},
   "source": [
    "** Note on column names: **\n",
    " * RelMaskContrast is the presented MaskContrast (absolute, in C%) divided by the subject's BaselineThresh\n",
    " * ThreshElev is the *observed* threshold elevation at that RelMaskContrast\n",
    " * ThreshPred is the *model's predicted* threshold elevation at that RelMaskContrast\n",
    " * RelMCToPred is the RelMaskContrast that is the center of the bin with the biggest NDE/DE difference (BinNumberToPred)"
   ]
  },
  {
   "cell_type": "code",
   "execution_count": null,
   "metadata": {},
   "outputs": [],
   "source": [
    "preds_lm.groupby(pp_gvars)[[\"RelMaskContrast\", \"ThreshElev\", \"ThreshPred\"]].describe(percentiles=[.5])"
   ]
  },
  {
   "cell_type": "code",
   "execution_count": null,
   "metadata": {},
   "outputs": [],
   "source": [
    "s.group_facet_plots(preds_lm, s.subject_fit_plot,\n",
    "                    f\"{plot_dir}/{task}_regressions_combinedplots_n{n_pp_subjs_thistask}_TOP_welch.pdf\",\n",
    "                    ['Task','Orientation','Presentation'], #each combo of this gets its own page\n",
    "                    row='Population',col='Eye',# facet rows and columns\n",
    "                    x=\"RelMaskContrast\", y=\"ThreshElev\", # x, y\n",
    "                    hue=\"Subject\",yerr='ThreshElev_SE',fmt_obs='.',fmt_pred='x:',Ycol=\"ThreshPred\") "
   ]
  },
  {
   "cell_type": "code",
   "execution_count": null,
   "metadata": {},
   "outputs": [],
   "source": [
    "s.group_facet_plots(preds_lm, s.population_fit_plot,\n",
    "                    f\"{plot_dir}/{task}_regressions_combinedplots_n{n_pp_subjs_thistask}_TO_welch.pdf\",\n",
    "                    ['Task','Orientation'], #each combo of this gets its own page\n",
    "                    row='Presentation',col='Eye',# facet rows and columns\n",
    "                    x=\"RelMaskContrast\", y=\"ThreshElev\", # x, y\n",
    "                    hue=\"Population\",yerr='ThreshElev_SE',fmt_obs='.',fmt_pred='x:',Ycol=\"ThreshPred\") "
   ]
  },
  {
   "cell_type": "markdown",
   "metadata": {},
   "source": [
    "### Model the data again, but this time return parameters, not predictions ###"
   ]
  },
  {
   "cell_type": "code",
   "execution_count": null,
   "metadata": {},
   "outputs": [],
   "source": [
    "print(pp_gvars_base)\n",
    "pp_gvars_base_mcpred = pp_gvars_base + ['RelMCToPred']\n",
    "groups_with_baseline_mcpred = df_to_model.groupby(pp_gvars_base_mcpred)"
   ]
  },
  {
   "cell_type": "code",
   "execution_count": null,
   "metadata": {},
   "outputs": [],
   "source": [
    "pfit = groups_with_baseline_mcpred.apply(utils.model_threshold, linear_model.err, linear_model.thresh, lm_params, ret='weights').reset_index()"
   ]
  },
  {
   "cell_type": "code",
   "execution_count": null,
   "metadata": {},
   "outputs": [],
   "source": [
    "pfit.head()"
   ]
  },
  {
   "cell_type": "code",
   "execution_count": null,
   "metadata": {},
   "outputs": [],
   "source": [
    "pfit.groupby([\"Orientation\", \"Presentation\", \"Population\", \"Eye\", \"RelMCToPred\"]).describe()"
   ]
  },
  {
   "cell_type": "code",
   "execution_count": null,
   "metadata": {
    "collapsed": true
   },
   "outputs": [],
   "source": [
    "pfit['ThreshPredCritical'] = pfit['y_int'] + pfit['slope'] * pfit['RelMCToPred']\n",
    "pfit['ThreshPredCriticalUnnorm'] = pfit['ThreshPredCritical'] * pfit['BaselineThresh']"
   ]
  },
  {
   "cell_type": "markdown",
   "metadata": {},
   "source": [
    "### Depth of suppression measures (\"how far from ThreshElev=1?\")"
   ]
  },
  {
   "cell_type": "code",
   "execution_count": null,
   "metadata": {},
   "outputs": [],
   "source": [
    "pfit['DepthOfSuppressionPred'] = (-1) + pfit['ThreshPredCritical']"
   ]
  },
  {
   "cell_type": "code",
   "execution_count": null,
   "metadata": {},
   "outputs": [],
   "source": [
    "# melt the result of the modeling into long format for plotting\n",
    "pfit_all_ppsub = pd.melt(pfit, id_vars=pp_gvars, var_name='measure')\n",
    "pfit_all_ppsub.head()"
   ]
  },
  {
   "cell_type": "markdown",
   "metadata": {},
   "source": [
    "## Subset to include only (GABA and psychophyics) subjects"
   ]
  },
  {
   "cell_type": "code",
   "execution_count": null,
   "metadata": {},
   "outputs": [],
   "source": [
    "gaba_and_pp_subjs = list(np.intersect1d(pp_subjs, gaba_subjs))\n",
    "n_gaba_and_pp_subjs = len(gaba_and_pp_subjs)"
   ]
  },
  {
   "cell_type": "code",
   "execution_count": null,
   "metadata": {},
   "outputs": [],
   "source": [
    "sdf = sdf[sdf.Subject.isin(gaba_and_pp_subjs)] # only subjects who did _the current_ pp task and GABA\n",
    "gaba_and_pp_subjs_thistask = np.unique(sdf.Subject)\n",
    "n_gaba_and_pp_subjs_thistask = len(gaba_and_pp_subjs_thistask)\n",
    "print(f\"Of the {n_gaba_and_pp_subjs} subjects with both GABA and psychophysics data, {n_gaba_and_pp_subjs_thistask} have both for task {task}.\")"
   ]
  },
  {
   "cell_type": "code",
   "execution_count": null,
   "metadata": {},
   "outputs": [],
   "source": [
    "gdf = gdf[gdf.subjName.isin(sdf.Subject)] # only subjects who did both tasks\n",
    "print(f\"Of the {len(gdf)} subjects with GABA and {task} data, {len(gdf[gdf.Population=='Amblyope'])} are Amblyopes.\")\n",
    "n_this_task = len(gdf)"
   ]
  },
  {
   "cell_type": "markdown",
   "metadata": {},
   "source": [
    "## Combine Psychophysics and GABA below"
   ]
  },
  {
   "cell_type": "code",
   "execution_count": null,
   "metadata": {},
   "outputs": [],
   "source": [
    "#Grab the GABA measure for each subject and append it to each observation for easy plotting\n",
    "comb = pfit_all_ppsub.join(gdf.set_index(['subjName'])['GABA'], on=['Subject'])\n",
    "print(len(comb))\n",
    "\n",
    "#subset to include only those subjects with GABA data\n",
    "comb_gabappsub = comb[~np.isnan(comb['GABA'])]\n",
    "print(len(comb_gabappsub), f\"{len(np.unique(comb_gabappsub.Subject))} subjects\")"
   ]
  },
  {
   "cell_type": "code",
   "execution_count": null,
   "metadata": {},
   "outputs": [],
   "source": [
    "comb_gabappsub.head(n=10)"
   ]
  },
  {
   "cell_type": "code",
   "execution_count": null,
   "metadata": {},
   "outputs": [],
   "source": [
    "np.unique(comb_gabappsub.measure)"
   ]
  },
  {
   "cell_type": "code",
   "execution_count": null,
   "metadata": {},
   "outputs": [],
   "source": [
    "#graphs!\n",
    "with s.PdfPages(f\"{plot_dir}/gaba_vs_{task}_n{n_this_task}_linear.pdf\") as pdf:\n",
    "    plot_groups = comb_gabappsub.groupby(['Task','Orientation','measure'])\n",
    "    for gv, gr in plot_groups:\n",
    "        print(gv, np.all(np.isnan(gr['value'])))\n",
    "        #print(gr.columns)\n",
    "        #if gv[0]=='SS' and gv[1]=='Cross': continue\n",
    "        g2 = s.gaba_vs_psychophys_plot_2line(gv, gr)\n",
    "        pdf.savefig(g2.fig)\n",
    "        #g4 = s.gaba_vs_psychophys_plot_4line(gv, gr)\n",
    "        #pdf.savefig(g4.fig)\n",
    "        \n",
    "    plt.close('all')"
   ]
  },
  {
   "cell_type": "markdown",
   "metadata": {},
   "source": [
    "#### Conclusions from the graphs we just generated (SS):\n",
    " * BaselineThresh\n",
    "    * There is a negative relationship between GABA and BaselineThresh for both eyes, both populations, both surround conditions. This is an interesting finding in itself...\n",
    "      * (nDicho and nMono are identical since this is baseline thresh, ie just one eye)\n",
    " * DepthOfSuppression\n",
    "    * In SS/Cross/Dicho, more GABA = less suppression for NDE, but = more suppression for DE. This is especially true of Amblyopes, while in Controls the effect is weak/insignificant.\n",
    "    * In SS/Iso/Dicho, more GABA = less suppression for NDE, = more suppression for DE. Effect is very strong for Amblyopes and absent for other conditions(AMB/Mono and all Controls)\n",
    " * Critical Bin Center (RelMCToPred)\n",
    "    * In SS/Cross/Dicho the NDE has a higher (numerically, in multiples of baseline) RelMCToPred for both AMB and CON\n",
    "    * But in SS/Cross/Mono it's the reverse, DE has higher RelMCToPred for both populations\n",
    " * ThreshPredCritical\n",
    "    * For both Cross and Iso, Dicho/AMB shows biggest difference b/t NDE and DE in predicted threshold elevation. Other conditions show little to no difference.\n",
    " * ThreshPredCriticalUnnorm\n",
    "    * When we normalize by each eye's baseline, this effect is still present.\n",
    " * Linear model slope\n",
    "    * AMB/Dicho shows biggest difference between trends in each eye for both presentation conditions. more GABA ~ lower slope of the line for NDE, while DE is basically flat.\n",
    " * Linear model y-int\n",
    "    * AMB/Dicho has opposite GABA vs y-int slopes for both Iso and Cross, but the distributions overlap for all conditions and populations, so this is a weak finding."
   ]
  },
  {
   "cell_type": "markdown",
   "metadata": {},
   "source": [
    "### Combine measures across the two eyes"
   ]
  },
  {
   "cell_type": "markdown",
   "metadata": {},
   "source": [
    " * Does it make sense to combine all measures across both eyes (i.e. by subtracting?) For example, ThreshElev is in units of baseline, and the baseline varies by eye. So perhaps only a few measures should be combined -- say, slope/yint, ThreshPredCriticalUnnorm. "
   ]
  },
  {
   "cell_type": "code",
   "execution_count": null,
   "metadata": {
    "collapsed": true
   },
   "outputs": [],
   "source": [
    "#subset to include only these measures:\n",
    "# - baseline threshold\n",
    "# - unnormalized predicted threshold elevation at critical bin center\n",
    "# - slope of ThreshElev ~ RelMaskContrast line\n",
    "# - y-int of this line\n",
    "measures = comb_gabappsub[comb_gabappsub[\"measure\"].isin([\"BaselineThresh\",\"ThreshPredCriticalUnnorm\",\"slope\",\"y_int\"])]\n",
    "#print(len(comb_all_ppsub))"
   ]
  },
  {
   "cell_type": "code",
   "execution_count": null,
   "metadata": {},
   "outputs": [],
   "source": [
    "np.unique(measures.measure)"
   ]
  },
  {
   "cell_type": "code",
   "execution_count": null,
   "metadata": {
    "collapsed": true
   },
   "outputs": [],
   "source": [
    "paired_obs = measures.groupby(['Task', 'Orientation', 'Population', 'Presentation', 'Subject', 'measure'])\n",
    "\n",
    "def get_eyediff_value(g):\n",
    "    if len(g)==2: # this will exclude paired observations where there was no data for one eye\n",
    "        value_diff = g[g['Eye']=='Nde'].value.iat[0] - g[g['Eye']=='De'].value.iat[0]\n",
    "        #print(g.name, value_diff)\n",
    "        return pd.Series([value_diff], ['Nde-De'])"
   ]
  },
  {
   "cell_type": "code",
   "execution_count": null,
   "metadata": {
    "collapsed": true
   },
   "outputs": [],
   "source": [
    "obs_diff = paired_obs.apply(get_eyediff_value).reset_index()"
   ]
  },
  {
   "cell_type": "code",
   "execution_count": null,
   "metadata": {},
   "outputs": [],
   "source": [
    "obs_diff.head(n=6)"
   ]
  },
  {
   "cell_type": "code",
   "execution_count": null,
   "metadata": {
    "collapsed": true
   },
   "outputs": [],
   "source": [
    "comb_botheyes = obs_diff.join(gdf.set_index(['subjName'])['GABA'], on=['Subject'])"
   ]
  },
  {
   "cell_type": "code",
   "execution_count": null,
   "metadata": {},
   "outputs": [],
   "source": [
    "comb_botheyes.head()"
   ]
  },
  {
   "cell_type": "code",
   "execution_count": null,
   "metadata": {},
   "outputs": [],
   "source": [
    "print(len(np.unique(comb_botheyes.Subject)))"
   ]
  },
  {
   "cell_type": "code",
   "execution_count": null,
   "metadata": {
    "scrolled": true
   },
   "outputs": [],
   "source": [
    "#graphs!\n",
    "with s.PdfPages(f\"{plot_dir}/gaba_vs_{task}_combeyes_n{n_this_task}.pdf\") as pdf:\n",
    "    plot_groups = comb_botheyes.groupby(['Task','Orientation','measure'])\n",
    "    for gv, gr in plot_groups:\n",
    "        print(gv)\n",
    "        g2 = s.gaba_vs_psychophys_plot_2line_2eye(gv, gr)\n",
    "        pdf.savefig(g2.fig)\n",
    "        \n",
    "    plt.close('all')"
   ]
  },
  {
   "cell_type": "code",
   "execution_count": null,
   "metadata": {},
   "outputs": [],
   "source": [
    "# more graphs for presentation!\n",
    "with s.PdfPages(f\"{plot_dir}/gaba_vs_{task}_combeyes_n{n_this_task}_condensed.pdf\") as pdf:\n",
    "    plot_groups = comb_botheyes.groupby(['Task','measure'])\n",
    "    for gv, gr in plot_groups:\n",
    "        print(gv)\n",
    "        if gv[-1] not in [\"BaselineThresh\", \"RelMCToPred\"]: # use this line to exclude measures we don't want\n",
    "            g2 = s.gaba_vs_psychophys_plot_2line_2eye(gv, gr, row=\"Orientation\", size=8, aspect=1.2)\n",
    "            pdf.savefig(g2.fig)\n",
    "        \n",
    "    plt.close('all')"
   ]
  },
  {
   "cell_type": "markdown",
   "metadata": {},
   "source": [
    "### Orientation-selective suppression can go here"
   ]
  },
  {
   "cell_type": "markdown",
   "metadata": {},
   "source": [
    " * We should start off by doing each eye separately, right? So, starting from comb_gabappsub df.\n",
    " * Or if we started from the combined-eye data generated above, use measures df."
   ]
  },
  {
   "cell_type": "code",
   "execution_count": null,
   "metadata": {
    "collapsed": true
   },
   "outputs": [],
   "source": [
    "oss_gvars = [\"Task\", \"Presentation\", \"Population\", \"Subject\", \"Eye\", \"Trace\", \"measure\", \"GABA\"]"
   ]
  },
  {
   "cell_type": "code",
   "execution_count": null,
   "metadata": {
    "collapsed": true
   },
   "outputs": [],
   "source": [
    "def calculate_orientation_selective_suppression(df, **kwargs):\n",
    "    #print(df[['Orientation', 'value']])\n",
    "    iso_cross_oss_ratio = df[df.Orientation=='Iso']['value'].iloc[0]/df[df.Orientation=='Cross']['value'].iloc[0]\n",
    "    print(f\"Iso/Cross ratio: {iso_cross_oss_ratio}\")\n",
    "    return pd.Series(iso_cross_oss_ratio, ['value'])\n",
    "    #print(df[df['Orientation'=='Cross']]) #/df[df['Orientation'=='Cross']]['value']"
   ]
  },
  {
   "cell_type": "code",
   "execution_count": null,
   "metadata": {},
   "outputs": [],
   "source": [
    "oss_df = comb_gabappsub.groupby(oss_gvars).apply(calculate_orientation_selective_suppression).reset_index()"
   ]
  },
  {
   "cell_type": "code",
   "execution_count": null,
   "metadata": {},
   "outputs": [],
   "source": [
    "oss_df.head()"
   ]
  },
  {
   "cell_type": "code",
   "execution_count": null,
   "metadata": {},
   "outputs": [],
   "source": [
    "oss_df.columns"
   ]
  },
  {
   "cell_type": "code",
   "execution_count": null,
   "metadata": {},
   "outputs": [],
   "source": [
    "#graphs!\n",
    "with s.PdfPages(f\"{plot_dir}/gaba_vs_{task}_oss_n{n_this_task}.pdf\") as pdf:\n",
    "    plot_groups = oss_df.groupby(['Task','measure'])\n",
    "    for gv, gr in plot_groups:\n",
    "        if gv[-1] not in [\"BaselineThresh\", \"RelMCToPred\"]:\n",
    "            print(gv, np.all(np.isnan(gr['value'])))\n",
    "            g2 = s.gaba_vs_oss_plot_2line(gv, gr)\n",
    "            pdf.savefig(g2.fig)\n",
    "        \n",
    "    plt.close('all')"
   ]
  },
  {
   "cell_type": "markdown",
   "metadata": {},
   "source": [
    "#### Conclusions from these graphs:\n",
    " * The two eyes seem to not be that different in their Iso/Cross ratios of the various measures."
   ]
  }
 ],
 "metadata": {
  "anaconda-cloud": {},
  "kernelspec": {
   "display_name": "Python 3",
   "language": "python",
   "name": "python3"
  },
  "language_info": {
   "codemirror_mode": {
    "name": "ipython",
    "version": 3
   },
   "file_extension": ".py",
   "mimetype": "text/x-python",
   "name": "python",
   "nbconvert_exporter": "python",
   "pygments_lexer": "ipython3",
   "version": "3.6.2"
  }
 },
 "nbformat": 4,
 "nbformat_minor": 1
}
