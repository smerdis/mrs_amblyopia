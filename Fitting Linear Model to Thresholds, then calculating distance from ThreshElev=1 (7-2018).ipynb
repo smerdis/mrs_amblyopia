{
 "cells": [
  {
   "cell_type": "code",
   "execution_count": null,
   "metadata": {
    "collapsed": true
   },
   "outputs": [],
   "source": [
    "%load_ext autoreload\n",
    "%autoreload 2"
   ]
  },
  {
   "cell_type": "code",
   "execution_count": null,
   "metadata": {
    "collapsed": true
   },
   "outputs": [],
   "source": [
    "%matplotlib inline"
   ]
  },
  {
   "cell_type": "code",
   "execution_count": null,
   "metadata": {
    "collapsed": true
   },
   "outputs": [],
   "source": [
    "import numpy as np\n",
    "import pandas as pd\n",
    "import scipy.stats as st\n",
    "\n",
    "import matplotlib.pyplot as plt\n",
    "import seaborn as sns\n",
    "\n",
    "from scipy import stats\n",
    "\n",
    "import suppression as s\n",
    "import utils\n",
    "import linear_model as model"
   ]
  },
  {
   "cell_type": "code",
   "execution_count": null,
   "metadata": {
    "collapsed": true
   },
   "outputs": [],
   "source": [
    "gaba_fn = 'gaba_data.txt'\n",
    "supp_fn = 'supp_data_individual_20170427.txt'"
   ]
  },
  {
   "cell_type": "code",
   "execution_count": null,
   "metadata": {
    "collapsed": true
   },
   "outputs": [],
   "source": [
    "sdf = utils.load_psychophys(supp_fn)\n",
    "gdf = utils.load_gaba(gaba_fn)"
   ]
  },
  {
   "cell_type": "code",
   "execution_count": null,
   "metadata": {
    "collapsed": true
   },
   "outputs": [],
   "source": [
    "plot_dir = \"plots/redo-201807\""
   ]
  },
  {
   "cell_type": "markdown",
   "metadata": {},
   "source": [
    "## Analyze tasks separately (before subsetting to include common subjects)##"
   ]
  },
  {
   "cell_type": "code",
   "execution_count": null,
   "metadata": {},
   "outputs": [],
   "source": [
    "pp_subjs = np.unique(sdf.Subject)\n",
    "gaba_subjs = np.unique(gdf.subjName)\n",
    "print(pp_subjs, len(pp_subjs))\n",
    "print(gaba_subjs, len(gaba_subjs))"
   ]
  },
  {
   "cell_type": "markdown",
   "metadata": {},
   "source": [
    "### GABA only analyses"
   ]
  },
  {
   "cell_type": "markdown",
   "metadata": {},
   "source": [
    "### GABA t-test, CON v AMB"
   ]
  },
  {
   "cell_type": "code",
   "execution_count": null,
   "metadata": {},
   "outputs": [],
   "source": [
    "pop_group = gdf.groupby(\"Population\")\n",
    "pop_group.describe()"
   ]
  },
  {
   "cell_type": "code",
   "execution_count": null,
   "metadata": {},
   "outputs": [],
   "source": [
    "gaba_per_group = [col for col_name, col in pop_group['GABA']]\n",
    "(tstat, pval) = st.ttest_ind(*gaba_per_group)\n",
    "print(tstat, pval)"
   ]
  },
  {
   "cell_type": "markdown",
   "metadata": {},
   "source": [
    "### GABA violin plot, n=31 (all)"
   ]
  },
  {
   "cell_type": "code",
   "execution_count": null,
   "metadata": {},
   "outputs": [],
   "source": [
    "with s.PdfPages(f\"{plot_dir}/gaba_diffs_n31.pdf\") as pdf:\n",
    "    fig = plt.figure(figsize=(6,8))  # create a figure object\n",
    "    ax = fig.add_subplot(1, 1, 1)\n",
    "    ax = sns.violinplot(y='GABA',x='Presentation',hue='Population',data=gdf,split=True,inner='stick',ax=ax)\n",
    "    ax.xaxis.set_visible(False)\n",
    "    ax.set_ylabel(\"GABA (relative to Creatine)\")\n",
    "    plt.show(ax.figure)\n",
    "    pdf.savefig(ax.figure)\n",
    "    plt.close(ax.figure)\n",
    "    plt.close('all')"
   ]
  },
  {
   "cell_type": "markdown",
   "metadata": {},
   "source": [
    "## Select one psychophysical task's data ##"
   ]
  },
  {
   "cell_type": "code",
   "execution_count": null,
   "metadata": {
    "collapsed": true
   },
   "outputs": [],
   "source": [
    "task = 'SS'\n",
    "sdf = sdf[sdf['Task']==task]"
   ]
  },
  {
   "cell_type": "markdown",
   "metadata": {},
   "source": [
    "### Begin grouping data into conditions to model Subject's ThreshElev as a function of logRelContrast #"
   ]
  },
  {
   "cell_type": "code",
   "execution_count": null,
   "metadata": {
    "collapsed": true
   },
   "outputs": [],
   "source": [
    "pp_gvars = ['Task','Orientation','Presentation','Population','Subject','Eye','Trace'] # One condition\n",
    "pp_gvars_base = pp_gvars + ['BaselineThresh']"
   ]
  },
  {
   "cell_type": "code",
   "execution_count": null,
   "metadata": {},
   "outputs": [],
   "source": [
    "# create groups based on these grouping variables\n",
    "groups = sdf.groupby(pp_gvars)\n",
    "print(len(groups))\n",
    "#for gv, g in groups:\n",
    "#    print(gv)"
   ]
  },
  {
   "cell_type": "markdown",
   "metadata": {},
   "source": [
    "## Find the RelMaskContrast at which NDE and DE most different within population using t-tests"
   ]
  },
  {
   "cell_type": "markdown",
   "metadata": {},
   "source": [
    "### New way, moving the old way to functions in utils.py, 7-12-18"
   ]
  },
  {
   "cell_type": "code",
   "execution_count": null,
   "metadata": {},
   "outputs": [],
   "source": [
    "gvars_test = ['Task','Orientation','Presentation','Population']\n",
    "df_to_model = utils.find_xvalue_to_predict(sdf, gvars_test, test_func=st.ttest_ind)\n",
    "df_to_model.head()"
   ]
  },
  {
   "cell_type": "code",
   "execution_count": null,
   "metadata": {},
   "outputs": [],
   "source": [
    "n_pp_subs_thistask = len(np.unique(df_to_model.Subject))\n",
    "print(n_pp_subs_thistask, len(np.unique((df_to_model[df_to_model['Population']=='Amblyope'])['Subject'])))"
   ]
  },
  {
   "cell_type": "markdown",
   "metadata": {},
   "source": [
    "### Old way"
   ]
  },
  {
   "cell_type": "code",
   "execution_count": null,
   "metadata": {
    "collapsed": true
   },
   "outputs": [],
   "source": [
    "tt_df = sdf"
   ]
  },
  {
   "cell_type": "code",
   "execution_count": null,
   "metadata": {},
   "outputs": [],
   "source": [
    "tt_df.head()"
   ]
  },
  {
   "cell_type": "code",
   "execution_count": null,
   "metadata": {},
   "outputs": [],
   "source": [
    "gvars_ttest = ['Task','Orientation','Presentation','Population']\n",
    "gvars_pair = gvars_ttest + ['BinNumber']\n",
    "\n",
    "tt_grouped = tt_df.groupby(gvars_ttest)\n",
    "print(len(tt_grouped))\n",
    "\n",
    "for gv, g in tt_grouped:\n",
    "    print(gv)"
   ]
  },
  {
   "cell_type": "code",
   "execution_count": null,
   "metadata": {
    "scrolled": true
   },
   "outputs": [],
   "source": [
    "tt_ind_binpred = tt_grouped.apply(utils.test_all_bins, gvars_pair, st.ttest_ind).reset_index()"
   ]
  },
  {
   "cell_type": "code",
   "execution_count": null,
   "metadata": {},
   "outputs": [],
   "source": [
    "tt_ind_binpred.head()"
   ]
  },
  {
   "cell_type": "code",
   "execution_count": null,
   "metadata": {},
   "outputs": [],
   "source": [
    "tt_welch_binpred = tt_grouped.apply(utils.test_all_bins, gvars_pair, st.ttest_ind, equal_var=False).reset_index()"
   ]
  },
  {
   "cell_type": "markdown",
   "metadata": {},
   "source": [
    "### Add bin to predict to df that will be modeled"
   ]
  },
  {
   "cell_type": "code",
   "execution_count": null,
   "metadata": {},
   "outputs": [],
   "source": [
    "sdf = pd.merge(sdf, tt_ind_binpred, on=gvars_ttest)\n",
    "print(gvars_ttest)"
   ]
  },
  {
   "cell_type": "code",
   "execution_count": null,
   "metadata": {
    "collapsed": true
   },
   "outputs": [],
   "source": []
  },
  {
   "cell_type": "code",
   "execution_count": null,
   "metadata": {},
   "outputs": [],
   "source": [
    "sdf.head()"
   ]
  },
  {
   "cell_type": "code",
   "execution_count": null,
   "metadata": {},
   "outputs": [],
   "source": [
    "# make sure all conditions have the same bin number to predict within them\n",
    "condition_groups = sdf.groupby(gvars_ttest + ['Eye'])\n",
    "assert(np.all(condition_groups.apply(\n",
    "        lambda g: np.all(g.BinNumberToPred==g.BinNumberToPred.iat[0])\n",
    "    ).reset_index()))"
   ]
  },
  {
   "cell_type": "code",
   "execution_count": null,
   "metadata": {},
   "outputs": [],
   "source": [
    "df_to_model_old = condition_groups.apply(utils.add_pred_col)"
   ]
  },
  {
   "cell_type": "code",
   "execution_count": null,
   "metadata": {},
   "outputs": [],
   "source": [
    "df_to_model_old.head()"
   ]
  },
  {
   "cell_type": "code",
   "execution_count": null,
   "metadata": {},
   "outputs": [],
   "source": [
    "n_pp_subs_thistask = len(np.unique(df_to_model.Subject))\n",
    "print(n_pp_subs_thistask, len(np.unique((df_to_model[df_to_model['Population']=='Amblyope'])['Subject'])))"
   ]
  },
  {
   "cell_type": "code",
   "execution_count": null,
   "metadata": {},
   "outputs": [],
   "source": [
    "assert(np.all(df_to_model == df_to_model_old))"
   ]
  },
  {
   "cell_type": "markdown",
   "metadata": {},
   "source": [
    "### Linear model (defined in linear_model.py, uses lmfit)###"
   ]
  },
  {
   "cell_type": "code",
   "execution_count": null,
   "metadata": {
    "collapsed": true
   },
   "outputs": [],
   "source": [
    "# initialize parameters\n",
    "model_params = model.parameters()"
   ]
  },
  {
   "cell_type": "markdown",
   "metadata": {},
   "source": [
    "### Model all data points using linear model, generically named ###"
   ]
  },
  {
   "cell_type": "code",
   "execution_count": null,
   "metadata": {
    "collapsed": true
   },
   "outputs": [],
   "source": [
    "groups = df_to_model.groupby(pp_gvars) "
   ]
  },
  {
   "cell_type": "code",
   "execution_count": null,
   "metadata": {},
   "outputs": [],
   "source": [
    "preds = groups.apply(utils.model_threshold, model.err, model.thresh, model_params, ret='preds')"
   ]
  },
  {
   "cell_type": "markdown",
   "metadata": {},
   "source": [
    "## Descriptive statistics"
   ]
  },
  {
   "cell_type": "code",
   "execution_count": null,
   "metadata": {},
   "outputs": [],
   "source": [
    "preds.head(n=2)"
   ]
  },
  {
   "cell_type": "code",
   "execution_count": null,
   "metadata": {},
   "outputs": [],
   "source": [
    "preds.groupby([\"Orientation\", \"Presentation\", \"Population\", \"Eye\"])[\"ThreshPred\"].describe()"
   ]
  },
  {
   "cell_type": "code",
   "execution_count": null,
   "metadata": {},
   "outputs": [],
   "source": [
    "s.group_facet_plots(preds, s.fit_plot,\n",
    "                    f\"{plot_dir}/{task}_regressions_combinedplots_n{n_pp_subs_thistask}_TOP.pdf\",\n",
    "                    ['Task','Orientation','Presentation'], #each combo of this gets its own page\n",
    "                    row='Population',col='Eye',# facet rows and columns\n",
    "                    x=\"RelMaskContrast\", y=\"ThreshElev\", # x, y\n",
    "                    hue=\"Subject\",yerr='ThreshElev_SE',fmt_obs='o',fmt_pred='.--',Ycol=\"ThreshPred\") "
   ]
  },
  {
   "cell_type": "code",
   "execution_count": null,
   "metadata": {},
   "outputs": [],
   "source": [
    "s.group_facet_plots(preds, s.fit_plot,\n",
    "                    f\"{plot_dir}/{task}_regressions_combinedplots_n{n_pp_subs_thistask}_TO.pdf\",\n",
    "                    ['Task','Orientation'], #each combo of this gets its own page\n",
    "                    row='Presentation',col='Eye',# facet rows and columns\n",
    "                    x=\"RelMaskContrast\", y=\"ThreshElev\", # x, y\n",
    "                    hue=\"Population\",yerr='ThreshElev_SE',fmt_obs='o',fmt_pred='.--',Ycol=\"ThreshPred\") "
   ]
  },
  {
   "cell_type": "markdown",
   "metadata": {},
   "source": [
    "####TODO: better plots, include the BinCenterRelMaskContrasts (maybe?) and the RelMCToPred"
   ]
  },
  {
   "cell_type": "markdown",
   "metadata": {},
   "source": [
    "### Model the data again, but this time return parameters, not predictions ###"
   ]
  },
  {
   "cell_type": "code",
   "execution_count": null,
   "metadata": {},
   "outputs": [],
   "source": [
    "print(pp_gvars_base)\n",
    "groups_with_baseline = df_to_model.groupby(pp_gvars_base)"
   ]
  },
  {
   "cell_type": "code",
   "execution_count": null,
   "metadata": {},
   "outputs": [],
   "source": [
    "# two-stage model\n",
    "pfit = groups_with_baseline.apply(s.model_condition, model.two_stage_response_err, model.two_stage_thresh,\n",
    "                                  twostage_params, ret='weights',\n",
    "                                  supp_only=False).reset_index()"
   ]
  },
  {
   "cell_type": "code",
   "execution_count": null,
   "metadata": {
    "collapsed": true
   },
   "outputs": [],
   "source": [
    "# linear model\n",
    "# pfit = groups_with_baseline.apply(s.model_condition, s.linear_nofac_err, s.linear_nofac_thresh,\n",
    "#                                   lm_params, ret='weights', predtype='linear', \n",
    "#                                   supp_only=False).reset_index()"
   ]
  },
  {
   "cell_type": "code",
   "execution_count": null,
   "metadata": {},
   "outputs": [],
   "source": [
    "pfit.head()"
   ]
  },
  {
   "cell_type": "code",
   "execution_count": null,
   "metadata": {},
   "outputs": [],
   "source": [
    "# melt the result of the modeling into long format for plotting\n",
    "pfit_all_ppsub = pd.melt(pfit, id_vars=pp_gvars, var_name='measure')\n",
    "pfit_all_ppsub.head()"
   ]
  },
  {
   "cell_type": "code",
   "execution_count": null,
   "metadata": {},
   "outputs": [],
   "source": [
    "len(np.unique(pfit_all_ppsub.Subject))"
   ]
  },
  {
   "cell_type": "code",
   "execution_count": null,
   "metadata": {},
   "outputs": [],
   "source": [
    "pfit_all_ppsub[pfit_all_ppsub.measure==\"w_d\"].describe()"
   ]
  },
  {
   "cell_type": "markdown",
   "metadata": {},
   "source": [
    "# Test next part carefully, copy/paste"
   ]
  },
  {
   "cell_type": "markdown",
   "metadata": {},
   "source": [
    "## subset to include common subjects"
   ]
  },
  {
   "cell_type": "code",
   "execution_count": null,
   "metadata": {},
   "outputs": [],
   "source": [
    "use_subjs = list(np.intersect1d(pp_subjs, gaba_subjs))\n",
    "print(use_subjs, len(use_subjs))"
   ]
  },
  {
   "cell_type": "code",
   "execution_count": null,
   "metadata": {},
   "outputs": [],
   "source": [
    "sdf = sdf[sdf.Subject.isin(use_subjs)] # only subjects who did _the current_ pp task and GABA\n",
    "len(np.unique(sdf.Subject))\n",
    "# make sure there are only as many unique subjNames in sdf as there are entries in gdf.subjName\n",
    "#assert(len(np.unique(sdf.Subject))==len(gdf.subjName))"
   ]
  },
  {
   "cell_type": "code",
   "execution_count": null,
   "metadata": {},
   "outputs": [],
   "source": [
    "len(gdf[gdf['Population']=='Amblyope'])"
   ]
  },
  {
   "cell_type": "code",
   "execution_count": null,
   "metadata": {},
   "outputs": [],
   "source": [
    "print(len(gdf), len(gdf[gdf.Population=='Amblyope']))"
   ]
  },
  {
   "cell_type": "code",
   "execution_count": null,
   "metadata": {},
   "outputs": [],
   "source": [
    "gdf = gdf[gdf.subjName.isin(sdf.Subject)] # only subjects who did both tasks\n",
    "print(len(gdf), len(gdf[gdf.Population=='Amblyope']))\n",
    "n_this_task = len(gdf)"
   ]
  },
  {
   "cell_type": "markdown",
   "metadata": {},
   "source": [
    "## Combine Psychophysics and GABA below"
   ]
  },
  {
   "cell_type": "code",
   "execution_count": null,
   "metadata": {
    "collapsed": true
   },
   "outputs": [],
   "source": [
    "#Grab the GABA measure for each subject and it to each observation for easy plotting\n",
    "comb = pfit_all_ppsub.join(gdf.set_index(['subjName'])['GABA'], on=['Subject'])\n",
    "print(len(comb))\n",
    "\n",
    "#subset to include only two measures of interest: normalized thresh elev, and unnormed\n",
    "comb_all_ppsub = comb[(comb['measure']=='ThreshPredCritical') | (comb['measure'] == 'ThreshPredCriticalUnnorm') | (comb['measure'] == 'BaselineThresh')]\n",
    "print(len(comb_all_ppsub))\n",
    "\n",
    "#subset to include only those subjects with GABA data\n",
    "comb_gabappsub = comb_all_ppsub[~np.isnan(comb_all_ppsub['GABA'])]\n",
    "print(len(comb_gabappsub), len(np.unique(comb_gabappsub.Subject)))"
   ]
  },
  {
   "cell_type": "code",
   "execution_count": null,
   "metadata": {
    "collapsed": true
   },
   "outputs": [],
   "source": [
    "#graphs!\n",
    "with s.PdfPages('plots/collab-201710/gaba_vs_{}_n{}.pdf'.format(task, n_this_task)) as pdf:\n",
    "    plot_groups = comb_gabappsub.groupby(['Task','Orientation','measure'])\n",
    "    for gv, gr in plot_groups:\n",
    "        print(gv, np.all(np.isnan(gr['value'])))\n",
    "        #print(gr.columns)\n",
    "        #if gv[0]=='SS' and gv[1]=='Cross': continue\n",
    "        g2 = s.gaba_vs_psychophys_plot_2line(gv, gr)\n",
    "        pdf.savefig(g2.fig)\n",
    "        #g4 = s.gaba_vs_psychophys_plot_4line(gv, gr)\n",
    "        #pdf.savefig(g4.fig)\n",
    "        \n",
    "    plt.close('all')"
   ]
  },
  {
   "cell_type": "markdown",
   "metadata": {},
   "source": [
    "#### combine measures across the two eyes"
   ]
  },
  {
   "cell_type": "code",
   "execution_count": null,
   "metadata": {
    "collapsed": true
   },
   "outputs": [],
   "source": [
    "paired_obs = comb_gabappsub.groupby(['Task', 'Orientation', 'Population', 'Presentation', 'Subject', 'measure'])\n",
    "\n",
    "def get_eyediff_value(g):\n",
    "    if len(g)==2:\n",
    "        value_diff = g[g['Eye']=='Nde'].value.iat[0] - g[g['Eye']=='De'].value.iat[0]\n",
    "        #print(g.name, value_diff)\n",
    "        return pd.Series([value_diff], ['Nde-De'])"
   ]
  },
  {
   "cell_type": "code",
   "execution_count": null,
   "metadata": {
    "collapsed": true
   },
   "outputs": [],
   "source": [
    "obs_diff = paired_obs.apply(get_eyediff_value).reset_index()"
   ]
  },
  {
   "cell_type": "code",
   "execution_count": null,
   "metadata": {
    "collapsed": true
   },
   "outputs": [],
   "source": [
    "obs_diff.head(n=6)"
   ]
  },
  {
   "cell_type": "code",
   "execution_count": null,
   "metadata": {
    "collapsed": true
   },
   "outputs": [],
   "source": [
    "comb_botheyes = obs_diff.join(gdf.set_index(['subjName'])['GABA'], on=['Subject'])"
   ]
  },
  {
   "cell_type": "code",
   "execution_count": null,
   "metadata": {
    "collapsed": true
   },
   "outputs": [],
   "source": [
    "comb_botheyes.head()"
   ]
  },
  {
   "cell_type": "code",
   "execution_count": null,
   "metadata": {
    "collapsed": true
   },
   "outputs": [],
   "source": [
    "to_write = comb_botheyes[(comb_botheyes.Presentation == 'nDicho') & (comb_botheyes.measure == 'ThreshPredCriticalUnnorm')]"
   ]
  },
  {
   "cell_type": "code",
   "execution_count": null,
   "metadata": {
    "collapsed": true
   },
   "outputs": [],
   "source": [
    "to_write.to_csv('gaba_vs_ss_dicho.csv')"
   ]
  },
  {
   "cell_type": "code",
   "execution_count": null,
   "metadata": {
    "collapsed": true
   },
   "outputs": [],
   "source": [
    "print(len(np.unique(comb_botheyes.Subject)))"
   ]
  },
  {
   "cell_type": "code",
   "execution_count": null,
   "metadata": {
    "collapsed": true,
    "scrolled": true
   },
   "outputs": [],
   "source": [
    "#graphs!\n",
    "with s.PdfPages('plots/collab-201710/gaba_vs_{}_combeyes_n{}.pdf'.format(task, n_this_task)) as pdf:\n",
    "    plot_groups = comb_botheyes.groupby(['Task','Orientation','measure'])\n",
    "    for gv, gr in plot_groups:\n",
    "        print(gv)\n",
    "        g2 = s.gaba_vs_psychophys_plot_2line_2eye(gv, gr)\n",
    "        pdf.savefig(g2.fig)\n",
    "        \n",
    "    plt.close('all')"
   ]
  },
  {
   "cell_type": "code",
   "execution_count": null,
   "metadata": {
    "collapsed": true
   },
   "outputs": [],
   "source": [
    "# more graphs for presentation!\n",
    "with s.PdfPages('plots/collab-201710/gaba_vs_{}_combeyes_n{}_condensed.pdf'.format(task, n_this_task)) as pdf:\n",
    "    plot_groups = comb_botheyes.groupby(['Task','measure'])\n",
    "    for gv, gr in plot_groups:\n",
    "        print(gv)\n",
    "        if \"BaselineThresh\" not in gv:\n",
    "            g2 = s.gaba_vs_psychophys_plot_2line_2eye(gv, gr, row=\"Orientation\", size=8, aspect=1.2)\n",
    "            pdf.savefig(g2.fig)\n",
    "        \n",
    "    plt.close('all')"
   ]
  },
  {
   "cell_type": "code",
   "execution_count": null,
   "metadata": {
    "collapsed": true
   },
   "outputs": [],
   "source": []
  },
  {
   "cell_type": "code",
   "execution_count": null,
   "metadata": {
    "collapsed": true
   },
   "outputs": [],
   "source": []
  }
 ],
 "metadata": {
  "anaconda-cloud": {},
  "kernelspec": {
   "display_name": "Python 3",
   "language": "python",
   "name": "python3"
  },
  "language_info": {
   "codemirror_mode": {
    "name": "ipython",
    "version": 3
   },
   "file_extension": ".py",
   "mimetype": "text/x-python",
   "name": "python",
   "nbconvert_exporter": "python",
   "pygments_lexer": "ipython3",
   "version": "3.6.2"
  }
 },
 "nbformat": 4,
 "nbformat_minor": 1
}
