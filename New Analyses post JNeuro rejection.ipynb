{
 "cells": [
  {
   "cell_type": "markdown",
   "metadata": {},
   "source": [
    "# The purpose of this notebook\n",
    "\n",
    "This is the final notebook that makes figures for the paper."
   ]
  },
  {
   "cell_type": "code",
   "execution_count": null,
   "metadata": {
    "ExecuteTime": {
     "end_time": "2021-01-08T21:55:18.176824Z",
     "start_time": "2021-01-08T21:55:18.126637Z"
    }
   },
   "outputs": [],
   "source": [
    "%load_ext autoreload\n",
    "%autoreload 2"
   ]
  },
  {
   "cell_type": "code",
   "execution_count": null,
   "metadata": {
    "ExecuteTime": {
     "end_time": "2021-01-08T21:55:19.199979Z",
     "start_time": "2021-01-08T21:55:18.182323Z"
    }
   },
   "outputs": [],
   "source": [
    "%matplotlib inline"
   ]
  },
  {
   "cell_type": "code",
   "execution_count": null,
   "metadata": {
    "ExecuteTime": {
     "end_time": "2021-01-08T21:55:19.235255Z",
     "start_time": "2021-01-08T21:55:19.202770Z"
    }
   },
   "outputs": [],
   "source": [
    "n_boot = 500"
   ]
  },
  {
   "cell_type": "code",
   "execution_count": null,
   "metadata": {
    "ExecuteTime": {
     "end_time": "2021-01-08T21:55:20.780985Z",
     "start_time": "2021-01-08T21:55:19.238783Z"
    }
   },
   "outputs": [],
   "source": [
    "from IPython.display import display, HTML\n",
    "\n",
    "import string\n",
    "\n",
    "import numpy as np\n",
    "np.set_printoptions(precision=3)\n",
    "\n",
    "import pandas as pd\n",
    "pd.set_option('display.max_rows', 500)\n",
    "\n",
    "import scipy.stats as st\n",
    "import statsmodels.stats.multitest as mt\n",
    "\n",
    "import matplotlib.pyplot as plt\n",
    "import matplotlib.ticker as tick\n",
    "import seaborn as sns\n",
    "\n",
    "import suppression as s\n",
    "import utils"
   ]
  },
  {
   "cell_type": "code",
   "execution_count": null,
   "metadata": {
    "ExecuteTime": {
     "end_time": "2021-01-08T21:55:20.839416Z",
     "start_time": "2021-01-08T21:55:20.783985Z"
    },
    "tags": []
   },
   "outputs": [],
   "source": [
    "pd.__version__"
   ]
  },
  {
   "cell_type": "code",
   "execution_count": null,
   "metadata": {
    "ExecuteTime": {
     "end_time": "2021-01-08T21:55:20.905534Z",
     "start_time": "2021-01-08T21:55:20.842584Z"
    }
   },
   "outputs": [],
   "source": [
    "sns.__version__"
   ]
  },
  {
   "cell_type": "code",
   "execution_count": null,
   "metadata": {
    "ExecuteTime": {
     "end_time": "2021-01-08T21:55:20.965168Z",
     "start_time": "2021-01-08T21:55:20.907988Z"
    },
    "tags": []
   },
   "outputs": [],
   "source": [
    "gaba_fn = 'gaba_data_2019.txt'\n",
    "supp_fn = 'supp_data_individual_20170427.txt'"
   ]
  },
  {
   "cell_type": "code",
   "execution_count": null,
   "metadata": {
    "ExecuteTime": {
     "end_time": "2021-01-08T21:55:21.225228Z",
     "start_time": "2021-01-08T21:55:20.970944Z"
    }
   },
   "outputs": [],
   "source": [
    "sdf = utils.load_psychophys(supp_fn)\n",
    "gaba_col = 'mean_occ_all' #'motor' # or 'occ_binoc', 'mean_occ_all', 'motor'\n",
    "gdf = utils.load_gaba(gaba_fn, gaba_col)\n",
    "sdf.head()"
   ]
  },
  {
   "cell_type": "code",
   "execution_count": null,
   "metadata": {
    "ExecuteTime": {
     "end_time": "2021-01-08T21:55:21.346930Z",
     "start_time": "2021-01-08T21:55:21.230397Z"
    }
   },
   "outputs": [],
   "source": [
    "def categorize(df, col, values=None):\n",
    "    df[col] = df[col].astype(\"category\")\n",
    "    if values is not None:\n",
    "        if len(values)==len(df[col].cat.categories):\n",
    "            df[col].cat.rename_categories(values, inplace=True)\n",
    "            df[col].cat.reorder_categories(values.values(), inplace=True)\n",
    "    return df\n",
    "\n",
    "pop_dict = {'Amblyope':'PWA', 'Control':'NSP'}\n",
    "\n",
    "gdf = categorize(gdf, 'Population', pop_dict)\n",
    "sdf = categorize(sdf, 'Population', pop_dict)"
   ]
  },
  {
   "cell_type": "code",
   "execution_count": null,
   "metadata": {},
   "outputs": [],
   "source": [
    "gdf.Population.cat.categories"
   ]
  },
  {
   "cell_type": "code",
   "execution_count": null,
   "metadata": {
    "ExecuteTime": {
     "end_time": "2021-01-08T21:55:21.478227Z",
     "start_time": "2021-01-08T21:55:21.348948Z"
    }
   },
   "outputs": [],
   "source": [
    "demos = pd.read_csv('demos.csv', lineterminator=\"\\r\")\n",
    "# 1 = amb, 0 = control\n",
    "subs_to_swap_eyes = demos[demos.swapNDE_EY==1].initials.unique() # subjects whose NDE/DE assignment is wrong in sdf\n",
    "print(subs_to_swap_eyes)\n",
    "demos"
   ]
  },
  {
   "cell_type": "code",
   "execution_count": null,
   "metadata": {
    "ExecuteTime": {
     "end_time": "2021-01-08T21:55:21.560646Z",
     "start_time": "2021-01-08T21:55:21.481366Z"
    }
   },
   "outputs": [],
   "source": [
    "demos[demos.initials=='nl']"
   ]
  },
  {
   "cell_type": "markdown",
   "metadata": {},
   "source": [
    "### Set variables used for graphing"
   ]
  },
  {
   "cell_type": "code",
   "execution_count": null,
   "metadata": {
    "ExecuteTime": {
     "end_time": "2021-01-08T21:55:21.616861Z",
     "start_time": "2021-01-08T21:55:21.564236Z"
    }
   },
   "outputs": [],
   "source": [
    "colors2 = {'PWA':'#1f77b4', 'NSP':'#ff7f0e'}\n",
    "colors_amb = [\"#3274a1\",\"#72b4e1\"]\n",
    "colors_con = [\"#e1812c\", \"#ffc68c\"]\n",
    "colors4 = colors_amb + colors_con\n",
    "traces4 = ['Amblyope-De', 'Amblyope-Nde', 'Control-De', 'Control-Nde']\n",
    "traces_graph4 = [f\"Persons with\\nAmblyopia, DE\", f\"Persons with\\nAmblyopia, NDE\", \\\n",
    "                 f\"Normally-sighted\\npersons, DE\", f\"Normally-sighted\\npersons, NDE\"]\n",
    "pal4 = {}\n",
    "pal4g = {}\n",
    "for t, c in zip(traces4, colors4):\n",
    "    pal4[t] = c\n",
    "for t, c in zip(traces_graph4, colors4):\n",
    "    pal4g[t] = c\n",
    "print(pal4, pal4g, sep='\\n')\n",
    "plot_dir = f\"plots/cercor2021\""
   ]
  },
  {
   "cell_type": "code",
   "execution_count": null,
   "metadata": {},
   "outputs": [],
   "source": [
    "!ls \"plots\""
   ]
  },
  {
   "cell_type": "markdown",
   "metadata": {},
   "source": [
    "## Demographic stuff from KB"
   ]
  },
  {
   "cell_type": "code",
   "execution_count": null,
   "metadata": {
    "ExecuteTime": {
     "end_time": "2021-01-08T21:57:28.979103Z",
     "start_time": "2021-01-08T21:57:28.855604Z"
    }
   },
   "outputs": [],
   "source": [
    "amb_data = demos[demos['group']==1].copy()\n",
    "amb_data['motorGABA'] = pd.to_numeric(amb_data['motorGABA'].str.strip(), errors='coerce')\n",
    "amb_data[[\"numID\",\"initials\",\"labelGroup\",\"labelNDE\",\"swapNDE_EY\",\"acuityDE\",\"acuityNDE\",\n",
    "          \"iadLogMAR\",\"occGABA\",\"motorGABA\"]]"
   ]
  },
  {
   "cell_type": "code",
   "execution_count": null,
   "metadata": {
    "ExecuteTime": {
     "end_time": "2021-01-08T21:57:29.051409Z",
     "start_time": "2021-01-08T21:57:28.983630Z"
    }
   },
   "outputs": [],
   "source": [
    "#tt_eyes = st.ttest_ind(amb_data['acuityDE'], amb_data['acuityNDE'], nan_policy='omit') # are the eyes different in acuity?\n",
    "#print(tt_eyes)\n",
    "#print(\"occ gaba vs acuityDE: \", st.spearmanr(amb_data['occGABA'], amb_data['acuityDE'], nan_policy='omit'))\n",
    "#print(\"occ gaba vs acuityNDE: \", st.spearmanr(amb_data['occGABA'], amb_data['acuityNDE'], nan_policy='omit'))\n",
    "print(\"occ gaba vs IAD: \", st.spearmanr(amb_data['occGABA'], amb_data['iadLogMAR']))\n",
    "print(\"motor gaba vs IAD: \", st.spearmanr(amb_data['motorGABA'], amb_data['iadLogMAR'], nan_policy='omit'))"
   ]
  },
  {
   "cell_type": "code",
   "execution_count": null,
   "metadata": {
    "ExecuteTime": {
     "end_time": "2021-01-08T21:57:29.160967Z",
     "start_time": "2021-01-08T21:57:29.054516Z"
    }
   },
   "outputs": [],
   "source": [
    "print(\"occ gaba vs interocular acuity difference: \", st.pearsonr(amb_data['occGABA'], amb_data['iadLogMAR']))\n",
    "print(\"motor gaba vs interocular acuity difference: \", np.corrcoef(amb_data['motorGABA'], amb_data['iadLogMAR'])[0,1])\n",
    "#print(\"motor gaba vs interocular acuity difference: \", st.pearsonr(amb_data['motorGABA'], amb_data['iadLogMAR']))"
   ]
  },
  {
   "cell_type": "code",
   "execution_count": null,
   "metadata": {
    "ExecuteTime": {
     "end_time": "2021-01-08T21:57:29.248264Z",
     "start_time": "2021-01-08T21:57:29.168311Z"
    }
   },
   "outputs": [],
   "source": [
    "print(amb_data['occGABA'], amb_data[\"motorGABA\"], sep='\\n')"
   ]
  },
  {
   "cell_type": "code",
   "execution_count": null,
   "metadata": {
    "ExecuteTime": {
     "end_time": "2021-01-08T21:57:29.331300Z",
     "start_time": "2021-01-08T21:57:29.252600Z"
    }
   },
   "outputs": [],
   "source": [
    "has_motor = amb_data[~np.isnan(amb_data['motorGABA'])]"
   ]
  },
  {
   "cell_type": "code",
   "execution_count": null,
   "metadata": {
    "ExecuteTime": {
     "end_time": "2021-01-08T21:57:29.429177Z",
     "start_time": "2021-01-08T21:57:29.335539Z"
    }
   },
   "outputs": [],
   "source": [
    "len(amb_data['occGABA']), len(has_motor['motorGABA'])"
   ]
  },
  {
   "cell_type": "markdown",
   "metadata": {},
   "source": [
    "#### Demographic info for controls"
   ]
  },
  {
   "cell_type": "code",
   "execution_count": null,
   "metadata": {
    "ExecuteTime": {
     "end_time": "2021-01-18T05:30:12.644846Z",
     "start_time": "2021-01-18T05:30:12.553530Z"
    }
   },
   "outputs": [],
   "source": [
    "nsp_demos = demos[demos['group']==0].copy()\n",
    "nsp_demos"
   ]
  },
  {
   "cell_type": "code",
   "execution_count": null,
   "metadata": {
    "ExecuteTime": {
     "end_time": "2021-01-18T18:08:44.838626Z",
     "start_time": "2021-01-18T18:08:44.788488Z"
    }
   },
   "outputs": [],
   "source": [
    "np.unique(nsp_demos.initials)"
   ]
  },
  {
   "cell_type": "code",
   "execution_count": null,
   "metadata": {
    "ExecuteTime": {
     "end_time": "2021-01-18T05:29:59.190781Z",
     "start_time": "2021-01-18T05:29:59.131222Z"
    }
   },
   "outputs": [],
   "source": [
    "np.count_nonzero(nsp_demos.labelSex=='female')"
   ]
  },
  {
   "cell_type": "code",
   "execution_count": null,
   "metadata": {
    "ExecuteTime": {
     "end_time": "2021-01-18T18:02:27.947308Z",
     "start_time": "2021-01-18T18:02:27.530218Z"
    }
   },
   "outputs": [],
   "source": [
    "demos"
   ]
  },
  {
   "cell_type": "markdown",
   "metadata": {},
   "source": [
    "### Figure 5"
   ]
  },
  {
   "cell_type": "code",
   "execution_count": null,
   "metadata": {
    "ExecuteTime": {
     "end_time": "2021-01-17T04:53:28.459159Z",
     "start_time": "2021-01-17T04:53:28.041802Z"
    }
   },
   "outputs": [],
   "source": [
    "#with s.PdfPages(f\"{plot_dir}/figure_05.pdf\") as pdf:\n",
    "sns.set_context(context=\"paper\", font_scale=1.1)\n",
    "fig, ax = plt.subplots(nrows=1, ncols=1, figsize=(6,4), dpi=300)\n",
    "ax.set_xlim(0.18, 0.23)\n",
    "ax.set_ylim(0, 1.4)\n",
    "\n",
    "sns.regplot(data=amb_data, x='occGABA', y='iadLogMAR', color='blue', marker='o', ax=ax, label='Visual cortex', truncate=False)\n",
    "r, p = st.pearsonr(amb_data['occGABA'], amb_data['iadLogMAR'])\n",
    "ax.text(.35, 0.88, f\"r={r:.2f}, p={p:.3f}\", transform=ax.transAxes, fontdict={'color': 'blue'}, horizontalalignment='center')\n",
    "\n",
    "sns.regplot(data=amb_data, x='motorGABA', y='iadLogMAR', color='grey', marker='x', ax=ax, label='Motor cortex', truncate=False)\n",
    "r, p = st.pearsonr(has_motor['motorGABA'], has_motor['iadLogMAR'])\n",
    "ax.text(.35, 0.82, f\"r={r:.2f}, p={p:.2f}\", transform=ax.transAxes, fontdict={'color': 'grey'}, horizontalalignment='center')\n",
    "\n",
    "ax.legend()\n",
    "ax.set_xlabel(\"GABA:Creatine ratio\")\n",
    "ax.set_ylabel(\"Interocular acuity difference (logMAR)\")\n",
    "fig.savefig(f\"{plot_dir}/figure_05.pdf\", dpi='figure')\n",
    "plt.show()\n",
    "plt.close('all')"
   ]
  },
  {
   "cell_type": "code",
   "execution_count": null,
   "metadata": {
    "ExecuteTime": {
     "end_time": "2021-01-08T21:57:30.366331Z",
     "start_time": "2021-01-08T21:57:30.312972Z"
    }
   },
   "outputs": [],
   "source": [
    "np.corrcoef(has_motor['motorGABA'], has_motor['iadLogMAR'])"
   ]
  },
  {
   "cell_type": "code",
   "execution_count": null,
   "metadata": {
    "ExecuteTime": {
     "end_time": "2021-01-08T21:57:30.437212Z",
     "start_time": "2021-01-08T21:57:30.369750Z"
    }
   },
   "outputs": [],
   "source": [
    "st.pearsonr(has_motor['motorGABA'], has_motor['iadLogMAR'])"
   ]
  },
  {
   "cell_type": "markdown",
   "metadata": {},
   "source": [
    "## Analyze tasks separately (before subsetting to include common subjects)"
   ]
  },
  {
   "cell_type": "code",
   "execution_count": null,
   "metadata": {
    "ExecuteTime": {
     "end_time": "2021-01-08T21:55:21.677300Z",
     "start_time": "2021-01-08T21:55:21.619467Z"
    },
    "tags": []
   },
   "outputs": [],
   "source": [
    "pp_subjs = np.unique(sdf.Subject)\n",
    "n_pp_subjs = len(pp_subjs)\n",
    "gaba_subjs = np.unique(gdf.subjName)\n",
    "n_gaba_subjs = len(gaba_subjs)\n",
    "print(f\"Psychophysics subjects (n={n_pp_subjs}):\\n\", pp_subjs)\n",
    "print(f\"GABA subjects (n={n_gaba_subjs}):\\n\", gaba_subjs)"
   ]
  },
  {
   "cell_type": "markdown",
   "metadata": {},
   "source": [
    "# GABA only analyses"
   ]
  },
  {
   "cell_type": "markdown",
   "metadata": {},
   "source": [
    "### GABA t-test, CON v AMB"
   ]
  },
  {
   "cell_type": "code",
   "execution_count": null,
   "metadata": {
    "ExecuteTime": {
     "end_time": "2021-01-08T21:55:21.772124Z",
     "start_time": "2021-01-08T21:55:21.679846Z"
    }
   },
   "outputs": [],
   "source": [
    "gdf"
   ]
  },
  {
   "cell_type": "markdown",
   "metadata": {},
   "source": [
    "#### Remove AM and TT based on discussions with Kelly 12/2019."
   ]
  },
  {
   "cell_type": "code",
   "execution_count": null,
   "metadata": {
    "ExecuteTime": {
     "end_time": "2021-01-08T21:55:21.929567Z",
     "start_time": "2021-01-08T21:55:21.775690Z"
    }
   },
   "outputs": [],
   "source": [
    "gdf_reduced = gdf[(gdf.subjName != 'am') & (gdf.subjName !='tt')]\n",
    "pop_group_reduced = gdf_reduced.groupby(\"Population\")\n",
    "pop_group_reduced.describe()"
   ]
  },
  {
   "cell_type": "code",
   "execution_count": null,
   "metadata": {
    "ExecuteTime": {
     "end_time": "2021-01-08T21:55:22.009650Z",
     "start_time": "2021-01-08T21:55:21.932878Z"
    }
   },
   "outputs": [],
   "source": [
    "#print(*pop_group_reduced['GABA'])\n",
    "gaba_per_group = [col for col_name, col in pop_group_reduced['GABA']]\n",
    "(tstat, pval) = st.ttest_ind(*gaba_per_group, nan_policy='omit')\n",
    "print(tstat, pval)"
   ]
  },
  {
   "cell_type": "code",
   "execution_count": null,
   "metadata": {
    "ExecuteTime": {
     "end_time": "2021-01-08T21:55:22.131427Z",
     "start_time": "2021-01-08T21:55:22.012213Z"
    }
   },
   "outputs": [],
   "source": [
    "pop_group = gdf.groupby(\"Population\")\n",
    "pop_group.describe(percentiles=[.5])"
   ]
  },
  {
   "cell_type": "code",
   "execution_count": null,
   "metadata": {
    "ExecuteTime": {
     "end_time": "2021-01-08T21:55:22.244058Z",
     "start_time": "2021-01-08T21:55:22.136159Z"
    }
   },
   "outputs": [],
   "source": [
    "gaba_per_group = [col for col_name, col in pop_group['GABA']]\n",
    "(tstat, pval) = st.ttest_ind(*gaba_per_group, nan_policy='omit')\n",
    "print(tstat, pval)"
   ]
  },
  {
   "cell_type": "markdown",
   "metadata": {},
   "source": [
    "**Thus we find no significant difference in GABA levels between CON and AMB regardless of whether AM and TT are included. At this point we may as well proceed with gdf_reduced only.**"
   ]
  },
  {
   "cell_type": "markdown",
   "metadata": {},
   "source": [
    "### GABA violin plot, all subjects"
   ]
  },
  {
   "cell_type": "code",
   "execution_count": null,
   "metadata": {
    "ExecuteTime": {
     "end_time": "2021-01-08T21:55:22.373686Z",
     "start_time": "2021-01-08T21:55:22.250130Z"
    }
   },
   "outputs": [],
   "source": [
    "gdf = gdf_reduced.copy()\n",
    "gaba_df_immutable = gdf_reduced.copy()\n",
    "gaba_df_immutable.groupby(\"Population\").describe() # Shoud be 14 PWA due to AM, TT exclusion"
   ]
  },
  {
   "cell_type": "code",
   "execution_count": null,
   "metadata": {
    "ExecuteTime": {
     "end_time": "2021-01-08T21:55:22.474165Z",
     "start_time": "2021-01-08T21:55:22.376735Z"
    }
   },
   "outputs": [],
   "source": [
    "(np.sum((gaba_df_immutable['GABA']-.203)**2)**.5)/6"
   ]
  },
  {
   "cell_type": "code",
   "execution_count": null,
   "metadata": {
    "ExecuteTime": {
     "end_time": "2021-01-08T21:55:22.534854Z",
     "start_time": "2021-01-08T21:55:22.477025Z"
    }
   },
   "outputs": [],
   "source": [
    "gaba_df_immutable.to_csv('gaba_data.csv')"
   ]
  },
  {
   "cell_type": "code",
   "execution_count": null,
   "metadata": {
    "ExecuteTime": {
     "end_time": "2021-01-08T21:55:22.608879Z",
     "start_time": "2021-01-08T21:55:22.537133Z"
    }
   },
   "outputs": [],
   "source": [
    "0.009443/(15**.5)"
   ]
  },
  {
   "cell_type": "markdown",
   "metadata": {},
   "source": [
    "#### Figure 4"
   ]
  },
  {
   "cell_type": "code",
   "execution_count": null,
   "metadata": {
    "ExecuteTime": {
     "end_time": "2021-01-08T21:55:23.202601Z",
     "start_time": "2021-01-08T21:55:22.617590Z"
    },
    "code_folding": []
   },
   "outputs": [],
   "source": [
    "#with s.PdfPages(f\"{plot_dir}/figure_04.pdf\") as pdf:\n",
    "#with sns.plotting_context(context=None, font_scale=1.3):\n",
    "sns.set_context(context=\"paper\", font_scale=1.3)\n",
    "fig = plt.figure(figsize=(8,6))  # create a figure object\n",
    "ax = fig.add_subplot(1, 1, 1)\n",
    "ax = sns.violinplot(y='GABA',x='Presentation',hue='Population',data=gaba_df_immutable,split=True,inner='stick',ax=ax,legend=False, palette=colors2)\n",
    "ax.legend(loc=4)\n",
    "ax.xaxis.set_visible(False)\n",
    "ax.set_ylabel('GABA:Creatine ratio')\n",
    "sns.despine(left=True, bottom=True, right=True)\n",
    "#ax.set_yticklabels([])\n",
    "plt.show(ax.figure)\n",
    "ax.figure.savefig(f\"{plot_dir}/figure_04.eps\", format=\"eps\")\n",
    "plt.show()\n",
    "plt.close(ax.figure)\n",
    "plt.close('all')"
   ]
  },
  {
   "cell_type": "markdown",
   "metadata": {},
   "source": [
    "### Note: the subject with the lowest GABA:Cr ('tt', .162) is not in the psychophysics data"
   ]
  },
  {
   "cell_type": "markdown",
   "metadata": {},
   "source": [
    "# Select one psychophysical task's data #"
   ]
  },
  {
   "cell_type": "code",
   "execution_count": null,
   "metadata": {
    "ExecuteTime": {
     "end_time": "2021-01-08T21:55:23.276682Z",
     "start_time": "2021-01-08T21:55:23.206896Z"
    }
   },
   "outputs": [],
   "source": [
    "task = 'SS' # 'SS'\n",
    "sdf = sdf[sdf['Task']==task]\n",
    "df_to_model = sdf.copy(deep=True) # make a deep copy"
   ]
  },
  {
   "cell_type": "code",
   "execution_count": null,
   "metadata": {
    "ExecuteTime": {
     "end_time": "2021-01-08T21:55:23.393244Z",
     "start_time": "2021-01-08T21:55:23.279685Z"
    }
   },
   "outputs": [],
   "source": [
    "df_to_model.head()"
   ]
  },
  {
   "cell_type": "code",
   "execution_count": null,
   "metadata": {
    "ExecuteTime": {
     "end_time": "2021-01-08T21:55:23.466470Z",
     "start_time": "2021-01-08T21:55:23.398907Z"
    }
   },
   "outputs": [],
   "source": [
    "n_pp_subjs_thistask = len(np.unique(df_to_model.Subject))\n",
    "amb_subjs = np.unique(df_to_model[df_to_model[\"Population\"]==\"PWA\"][\"Subject\"])\n",
    "print(amb_subjs)\n",
    "n_amb_subjs_thistask = len(amb_subjs)\n",
    "print(f\"There are {n_pp_subjs_thistask} subjects for Task {task}, of which {n_amb_subjs_thistask} are Amblyopes.\")"
   ]
  },
  {
   "cell_type": "markdown",
   "metadata": {},
   "source": [
    "### Verifying baselines based on KB feedback about fig R2"
   ]
  },
  {
   "cell_type": "code",
   "execution_count": null,
   "metadata": {
    "ExecuteTime": {
     "end_time": "2021-01-08T21:55:23.537836Z",
     "start_time": "2021-01-08T21:55:23.469997Z"
    }
   },
   "outputs": [],
   "source": [
    "onecond = df_to_model[(df_to_model['Presentation']=='nMono') & (df_to_model['Orientation']=='Iso')]"
   ]
  },
  {
   "cell_type": "code",
   "execution_count": null,
   "metadata": {
    "ExecuteTime": {
     "end_time": "2021-01-08T21:55:23.613134Z",
     "start_time": "2021-01-08T21:55:23.540649Z"
    }
   },
   "outputs": [],
   "source": [
    "cnde_subs = onecond[onecond['Trace']=='Control-Nde'].Subject.unique()"
   ]
  },
  {
   "cell_type": "code",
   "execution_count": null,
   "metadata": {
    "ExecuteTime": {
     "end_time": "2021-01-08T21:55:23.699944Z",
     "start_time": "2021-01-08T21:55:23.617016Z"
    }
   },
   "outputs": [],
   "source": [
    "cde_subs = onecond[onecond['Trace']=='Control-De'].Subject.unique()"
   ]
  },
  {
   "cell_type": "code",
   "execution_count": null,
   "metadata": {
    "ExecuteTime": {
     "end_time": "2021-01-08T21:55:23.766097Z",
     "start_time": "2021-01-08T21:55:23.702623Z"
    }
   },
   "outputs": [],
   "source": [
    "np.setdiff1d(cnde_subs, cde_subs)"
   ]
  },
  {
   "cell_type": "code",
   "execution_count": null,
   "metadata": {},
   "outputs": [],
   "source": [
    "thresh_noswap = onecond.groupby(['Task','Orientation','Presentation','Population', 'Eye','Trace','Subject'], as_index=False)['BaselineThresh'].mean().dropna()"
   ]
  },
  {
   "cell_type": "code",
   "execution_count": null,
   "metadata": {
    "ExecuteTime": {
     "end_time": "2021-01-08T21:55:24.184428Z",
     "start_time": "2021-01-08T21:55:24.081648Z"
    }
   },
   "outputs": [],
   "source": [
    "thresh_noswap.head()"
   ]
  },
  {
   "cell_type": "code",
   "execution_count": null,
   "metadata": {},
   "outputs": [],
   "source": [
    "eye_counts = thresh_noswap['Subject'].value_counts().reset_index()"
   ]
  },
  {
   "cell_type": "code",
   "execution_count": null,
   "metadata": {
    "ExecuteTime": {
     "end_time": "2021-01-08T21:55:24.371415Z",
     "start_time": "2021-01-08T21:55:24.268981Z"
    }
   },
   "outputs": [],
   "source": [
    "eye_counts"
   ]
  },
  {
   "cell_type": "code",
   "execution_count": null,
   "metadata": {
    "ExecuteTime": {
     "end_time": "2021-01-08T21:55:24.452449Z",
     "start_time": "2021-01-08T21:55:24.374269Z"
    }
   },
   "outputs": [],
   "source": [
    "nounpaired = (eye_counts[eye_counts.Subject==2])['index'].unique()"
   ]
  },
  {
   "cell_type": "code",
   "execution_count": null,
   "metadata": {
    "ExecuteTime": {
     "end_time": "2021-01-08T21:55:24.522641Z",
     "start_time": "2021-01-08T21:55:24.455782Z"
    }
   },
   "outputs": [],
   "source": [
    "nounpaired"
   ]
  },
  {
   "cell_type": "code",
   "execution_count": null,
   "metadata": {
    "ExecuteTime": {
     "end_time": "2021-01-08T21:55:24.608807Z",
     "start_time": "2021-01-08T21:55:24.539799Z"
    }
   },
   "outputs": [],
   "source": [
    "thresh_noswap_nounpaired = thresh_noswap[thresh_noswap['Subject'].isin(nounpaired)]"
   ]
  },
  {
   "cell_type": "code",
   "execution_count": null,
   "metadata": {
    "ExecuteTime": {
     "end_time": "2021-01-08T21:55:24.679194Z",
     "start_time": "2021-01-08T21:55:24.611309Z"
    }
   },
   "outputs": [],
   "source": [
    "thresh_noswap.groupby(['Trace']).mean().reset_index()"
   ]
  },
  {
   "cell_type": "code",
   "execution_count": null,
   "metadata": {
    "ExecuteTime": {
     "end_time": "2021-01-08T21:55:24.831236Z",
     "start_time": "2021-01-08T21:55:24.683361Z"
    }
   },
   "outputs": [],
   "source": [
    "thresh_noswap_nounpaired.groupby(['Trace']).describe()"
   ]
  },
  {
   "cell_type": "code",
   "execution_count": null,
   "metadata": {},
   "outputs": [],
   "source": [
    "sns.swarmplot(data=thresh_noswap_nounpaired, x=\"Population\", y=\"BaselineThresh\", hue=\"Eye\")"
   ]
  },
  {
   "cell_type": "markdown",
   "metadata": {},
   "source": [
    "### This is where the NDE/DE should be switched based on KB findings (only affects Controls, luckily)\n",
    "\n",
    "But as the above plot shows, there are many more in Control-Nde than Control-De"
   ]
  },
  {
   "cell_type": "code",
   "execution_count": null,
   "metadata": {},
   "outputs": [],
   "source": [
    "subs_to_swap_eyes_baselineSS = []\n",
    "for gv, g in thresh_noswap_nounpaired.groupby(['Subject']):\n",
    "    print(gv)#, g[['Eye','BaselineThresh']])\n",
    "    nde_thresh = g[g.Eye=='Nde']['BaselineThresh'].iloc[0]\n",
    "    de_thresh = g[g.Eye=='De']['BaselineThresh'].iloc[0]\n",
    "    diff = nde_thresh - de_thresh\n",
    "    is_nsp = np.all(g['Population']=='NSP')\n",
    "    if is_nsp and diff < 0:\n",
    "        print(\"This subject has a lower threshold in Nde than De but is a NSP!\")\n",
    "        subs_to_swap_eyes_baselineSS.append(g.Subject.iloc[0])"
   ]
  },
  {
   "cell_type": "code",
   "execution_count": null,
   "metadata": {},
   "outputs": [],
   "source": [
    "subs_to_swap_eyes_baselineSS"
   ]
  },
  {
   "cell_type": "code",
   "execution_count": null,
   "metadata": {
    "ExecuteTime": {
     "end_time": "2021-01-08T21:55:25.771432Z",
     "start_time": "2021-01-08T21:55:25.216583Z"
    },
    "scrolled": true,
    "tags": []
   },
   "outputs": [],
   "source": [
    "def swap_eyevars(df, subs):\n",
    "    #print(df, df['Subject'], len(df), sep='\\n')\n",
    "    if df['Subject'] in subs: # fix here\n",
    "        print(df['Subject'], \"SWAP!\")\n",
    "        if df['Eye'] == \"De\":\n",
    "            df['Eye'] = \"Nde\"\n",
    "            df['Trace'] = df['Trace'].replace('-De', '-Nde')\n",
    "        else:\n",
    "            df['Eye'] = \"De\"\n",
    "            df['Trace'] = df['Trace'].replace('-Nde', '-De')\n",
    "    return df\n",
    "\n",
    "def fix_eyes(df):\n",
    "    disp_cols = ['Subject','Eye','Trace','BaselineThresh']\n",
    "    # Identify which rows are of subjects that should be swapped\n",
    "    # Changed 6/18/21 to include the possibility of assigning eyes based on baseline surround suppression\n",
    "    subs_to_swap_eyes = subs_to_swap_eyes_baselineSS # assign NSP eyes purely based on baselineSS, disregarding swapNde_EY etc.\n",
    "    rows_to_change = df_to_model[df_to_model.Subject.isin(subs_to_swap_eyes)]\n",
    "    assert(np.all(rows_to_change.Population == 'NSP')) # should only affect controls\n",
    "    assert(np.all(rows_to_change.Trace.isin(['Control-De','Control-Nde']))) # these should be swapped along w/ Eye\n",
    "    fixed = df.apply(swap_eyevars, subs=subs_to_swap_eyes, axis=1)\n",
    "    print(fixed[disp_cols])\n",
    "    return fixed\n",
    "\n",
    "df_to_model_fixeyes = fix_eyes(df_to_model)"
   ]
  },
  {
   "cell_type": "code",
   "execution_count": null,
   "metadata": {},
   "outputs": [],
   "source": [
    "df_to_model_fixeyes.groupby(\"Trace\")['BaselineThresh'].describe()"
   ]
  },
  {
   "cell_type": "markdown",
   "metadata": {},
   "source": [
    "### Toggle which version of the data to use, \"fixed\" eyes or not"
   ]
  },
  {
   "cell_type": "code",
   "execution_count": null,
   "metadata": {
    "ExecuteTime": {
     "end_time": "2021-01-08T21:55:25.826814Z",
     "start_time": "2021-01-08T21:55:25.775117Z"
    }
   },
   "outputs": [],
   "source": [
    "df_to_model = df_to_model_fixeyes"
   ]
  },
  {
   "cell_type": "markdown",
   "metadata": {},
   "source": [
    "# Preparation for Modeling"
   ]
  },
  {
   "cell_type": "code",
   "execution_count": null,
   "metadata": {
    "ExecuteTime": {
     "end_time": "2021-01-08T21:55:25.924011Z",
     "start_time": "2021-01-08T21:55:25.829608Z"
    }
   },
   "outputs": [],
   "source": [
    "df_to_model.head() # note the first rows, they will tell if fixed - ai/Nde/6.9 -> ai/De/6.9 "
   ]
  },
  {
   "cell_type": "markdown",
   "metadata": {},
   "source": [
    "### Begin grouping data into conditions to model Subject's ThreshElev as a function of MaskContrast"
   ]
  },
  {
   "cell_type": "code",
   "execution_count": null,
   "metadata": {
    "ExecuteTime": {
     "end_time": "2021-01-08T21:55:26.063722Z",
     "start_time": "2021-01-08T21:55:25.931916Z"
    }
   },
   "outputs": [],
   "source": [
    "pp_gvars = ['Task','Orientation','Presentation','Population','Subject','Eye','Trace'] # One condition\n",
    "pp_gvars_base = pp_gvars + ['BaselineThresh']\n",
    "\n",
    "groups_with_baseline = df_to_model.groupby(pp_gvars_base)\n",
    "\n",
    "# Check if there are any conditions with only two data points\n",
    "for gv, gr in groups_with_baseline:\n",
    "    if len(gr)<=2:\n",
    "        print(gv, gr)"
   ]
  },
  {
   "cell_type": "markdown",
   "metadata": {},
   "source": [
    "### BaselineThresh analysis before we exclude bad fits; since this is observed not modeled its ok"
   ]
  },
  {
   "cell_type": "code",
   "execution_count": null,
   "metadata": {
    "ExecuteTime": {
     "end_time": "2021-01-08T21:55:26.135964Z",
     "start_time": "2021-01-08T21:55:26.066401Z"
    }
   },
   "outputs": [],
   "source": [
    "print(pp_gvars_base)\n",
    "pp_gvars_base_agg = [v for v in pp_gvars if v != 'Subject']"
   ]
  },
  {
   "cell_type": "code",
   "execution_count": null,
   "metadata": {
    "ExecuteTime": {
     "end_time": "2021-01-08T21:55:26.235823Z",
     "start_time": "2021-01-08T21:55:26.144500Z"
    }
   },
   "outputs": [],
   "source": [
    "pp_gvars_base_agg"
   ]
  },
  {
   "cell_type": "code",
   "execution_count": null,
   "metadata": {
    "ExecuteTime": {
     "end_time": "2021-01-08T21:55:26.341950Z",
     "start_time": "2021-01-08T21:55:26.239540Z"
    }
   },
   "outputs": [],
   "source": [
    "for gv, g in df_to_model.groupby(pp_gvars_base_agg):\n",
    "    print(gv, len(np.unique(g['BaselineThresh'])))"
   ]
  },
  {
   "cell_type": "code",
   "execution_count": null,
   "metadata": {
    "ExecuteTime": {
     "end_time": "2021-01-08T21:55:26.455758Z",
     "start_time": "2021-01-08T21:55:26.346172Z"
    }
   },
   "outputs": [],
   "source": [
    "thresh_swap = df_to_model.groupby(['Task', 'Orientation', 'Presentation', 'Population', 'Subject','Eye', 'Trace'])['BaselineThresh'].mean().reset_index()\n",
    "thresh_swap = thresh_swap[(thresh_swap.Orientation==\"Iso\")&(thresh_swap.Presentation=='nDicho')]\n",
    "thresh_swap.head()"
   ]
  },
  {
   "cell_type": "code",
   "execution_count": null,
   "metadata": {
    "ExecuteTime": {
     "end_time": "2021-01-08T21:55:26.513849Z",
     "start_time": "2021-01-08T21:55:26.460172Z"
    }
   },
   "outputs": [],
   "source": [
    "eye_counts_swap = thresh_swap.Subject.value_counts()\n",
    "subs_no_unpaired = eye_counts[eye_counts_swap.reset_index()['Subject']==2]['index'].unique()\n",
    "print(subs_no_unpaired, len(subs_no_unpaired))"
   ]
  },
  {
   "cell_type": "code",
   "execution_count": null,
   "metadata": {
    "ExecuteTime": {
     "end_time": "2021-01-08T21:55:26.598162Z",
     "start_time": "2021-01-08T21:55:26.516497Z"
    }
   },
   "outputs": [],
   "source": [
    "thresh_swap_nounpaired = thresh_swap[thresh_swap.Subject.isin(subs_no_unpaired)]"
   ]
  },
  {
   "cell_type": "code",
   "execution_count": null,
   "metadata": {
    "ExecuteTime": {
     "end_time": "2021-01-08T21:55:26.672513Z",
     "start_time": "2021-01-08T21:55:26.602276Z"
    }
   },
   "outputs": [],
   "source": [
    "pd.Series.value_counts(thresh_swap_nounpaired.Subject)"
   ]
  },
  {
   "cell_type": "code",
   "execution_count": null,
   "metadata": {
    "ExecuteTime": {
     "end_time": "2021-01-08T21:55:26.845367Z",
     "start_time": "2021-01-08T21:55:26.675112Z"
    }
   },
   "outputs": [],
   "source": [
    "thresh_swap_nounpaired.groupby(['Trace']).describe()"
   ]
  },
  {
   "cell_type": "markdown",
   "metadata": {},
   "source": [
    "#### Calculate differences, ratios etc for each subject"
   ]
  },
  {
   "cell_type": "code",
   "execution_count": null,
   "metadata": {
    "ExecuteTime": {
     "end_time": "2021-01-08T21:55:27.055305Z",
     "start_time": "2021-01-08T21:55:26.848178Z"
    },
    "tags": []
   },
   "outputs": [],
   "source": [
    "baseline_df_withinsubject = thresh_swap.groupby(#thresh_swap_nounpaired.groupby(\n",
    "                                        ['Task', 'Orientation', 'Presentation', 'Population',\n",
    "                                        'Subject']).apply(utils.get_interocular_diff, 'BaselineThresh')\n",
    "baseline_df_withinsubject.rename(columns={'ValueDiff':'BaselineDiff', 'ValueRatio':'BaselineRatio'}, inplace=True)\n",
    "baseline_df_withinsubject[(baseline_df_withinsubject.Population==\"PWA\") & (baseline_df_withinsubject.Eye==\"De\")]"
   ]
  },
  {
   "cell_type": "code",
   "execution_count": null,
   "metadata": {
    "ExecuteTime": {
     "end_time": "2021-01-08T21:55:27.117193Z",
     "start_time": "2021-01-08T21:55:27.058165Z"
    }
   },
   "outputs": [],
   "source": [
    "ade_threshs = baseline_df_withinsubject[(baseline_df_withinsubject.Population==\"PWA\") & (baseline_df_withinsubject.Eye==\"De\")]"
   ]
  },
  {
   "cell_type": "code",
   "execution_count": null,
   "metadata": {
    "ExecuteTime": {
     "end_time": "2021-01-08T21:55:27.601126Z",
     "start_time": "2021-01-08T21:55:27.478941Z"
    }
   },
   "outputs": [],
   "source": [
    "baseline_df_withinsubject_diffs = baseline_df_withinsubject.groupby(['Population','Subject'], as_index=False)[['BaselineDiff','BaselineRatio']].mean()\n",
    "baseline_df_withinsubject_diffs = categorize(baseline_df_withinsubject_diffs, 'Population', {'PWA':'PWA','NSP':'NSP'})\n",
    "baseline_df_withinsubject_diffs"
   ]
  },
  {
   "cell_type": "markdown",
   "metadata": {},
   "source": [
    "###  What if we exclude subject 'ah' who looks like a real outlier?"
   ]
  },
  {
   "cell_type": "code",
   "execution_count": null,
   "metadata": {
    "ExecuteTime": {
     "end_time": "2021-01-08T21:55:27.659549Z",
     "start_time": "2021-01-08T21:55:27.604522Z"
    }
   },
   "outputs": [],
   "source": [
    "adiff = baseline_df_withinsubject_diffs[(baseline_df_withinsubject_diffs.Population==\"PWA\") &\n",
    "                                        (baseline_df_withinsubject_diffs.Subject!=\"ah\")].dropna()\n",
    "cdiff = baseline_df_withinsubject_diffs[baseline_df_withinsubject_diffs.Population==\"NSP\"].dropna()"
   ]
  },
  {
   "cell_type": "code",
   "execution_count": null,
   "metadata": {
    "ExecuteTime": {
     "end_time": "2021-01-08T21:55:27.739694Z",
     "start_time": "2021-01-08T21:55:27.663259Z"
    }
   },
   "outputs": [],
   "source": [
    "print(\"diffs: NDE-DE\")\n",
    "print(st.ttest_1samp(adiff['BaselineDiff'], popmean=0), len(adiff['BaselineDiff']))\n",
    "print(st.ttest_1samp(cdiff['BaselineDiff'], popmean=0), len(cdiff['BaselineDiff']))\n",
    "print(st.ttest_ind(adiff['BaselineDiff'], cdiff['BaselineDiff']))\n",
    "print(\"\\nratios: NDE/DE\")\n",
    "print(st.ttest_1samp(adiff['BaselineRatio'], popmean=1))\n",
    "print(st.ttest_1samp(cdiff['BaselineRatio'], popmean=1))\n",
    "print(st.ttest_ind(adiff['BaselineRatio'], cdiff['BaselineRatio']))"
   ]
  },
  {
   "cell_type": "markdown",
   "metadata": {},
   "source": [
    "### Ok based on conversation with Michael, 'ah' is excluded now"
   ]
  },
  {
   "cell_type": "code",
   "execution_count": null,
   "metadata": {
    "ExecuteTime": {
     "end_time": "2021-01-08T21:55:27.805612Z",
     "start_time": "2021-01-08T21:55:27.743545Z"
    }
   },
   "outputs": [],
   "source": [
    "baseline_df_withinsubject = baseline_df_withinsubject[baseline_df_withinsubject.Subject != 'ah']\n",
    "baseline_df_withinsubject_diffs = baseline_df_withinsubject_diffs[baseline_df_withinsubject_diffs.Subject != 'ah']\n",
    "df_to_model = df_to_model[df_to_model.Subject!='ah']"
   ]
  },
  {
   "cell_type": "markdown",
   "metadata": {},
   "source": [
    "### GABA vs baseline contrast threshold, before excluding GABA-less people"
   ]
  },
  {
   "cell_type": "code",
   "execution_count": null,
   "metadata": {
    "ExecuteTime": {
     "end_time": "2021-01-08T21:55:27.885958Z",
     "start_time": "2021-01-08T21:55:27.808680Z"
    }
   },
   "outputs": [],
   "source": [
    "baseline_gaba_plot_df = df_to_model.join(gdf.set_index(['subjName'])['GABA'], on=['Subject'])"
   ]
  },
  {
   "cell_type": "code",
   "execution_count": null,
   "metadata": {
    "ExecuteTime": {
     "end_time": "2021-01-08T21:55:27.979149Z",
     "start_time": "2021-01-08T21:55:27.896229Z"
    }
   },
   "outputs": [],
   "source": [
    "simple_bg_df = baseline_gaba_plot_df.groupby(['Task','Orientation','Presentation','Population','Subject','Eye','Trace'])[['GABA','BaselineThresh']].agg(np.mean).reset_index()"
   ]
  },
  {
   "cell_type": "code",
   "execution_count": null,
   "metadata": {
    "ExecuteTime": {
     "end_time": "2021-01-08T21:55:28.054444Z",
     "start_time": "2021-01-08T21:55:27.983201Z"
    }
   },
   "outputs": [],
   "source": [
    "simple_bg_df = simple_bg_df.rename(columns={\"BaselineThresh\":\"value\"})\n",
    "simple_bg_df['measure'] = \"BaselineThresh\"\n",
    "simple_bg_df.head()"
   ]
  },
  {
   "cell_type": "code",
   "execution_count": null,
   "metadata": {
    "ExecuteTime": {
     "end_time": "2021-01-08T21:55:28.135299Z",
     "start_time": "2021-01-08T21:55:28.058925Z"
    }
   },
   "outputs": [],
   "source": [
    "len(simple_bg_df.Subject.unique())"
   ]
  },
  {
   "cell_type": "code",
   "execution_count": null,
   "metadata": {
    "ExecuteTime": {
     "end_time": "2021-01-08T21:55:28.217483Z",
     "start_time": "2021-01-08T21:55:28.151986Z"
    }
   },
   "outputs": [],
   "source": [
    "simple_bg_df.Trace = simple_bg_df.Trace.astype('category')\n",
    "simple_bg_df.Trace.cat.reorder_categories(traces4, inplace=True)\n",
    "simple_bg_df.Trace.cat.rename_categories(traces_graph4, inplace=True)"
   ]
  },
  {
   "cell_type": "code",
   "execution_count": null,
   "metadata": {
    "ExecuteTime": {
     "end_time": "2021-01-08T21:55:28.436567Z",
     "start_time": "2021-01-08T21:55:28.223946Z"
    }
   },
   "outputs": [],
   "source": [
    "simple_bg_df.groupby(['Task','Orientation','Presentation','Population', 'Eye', 'measure'])['value'].describe()"
   ]
  },
  {
   "cell_type": "code",
   "execution_count": null,
   "metadata": {
    "ExecuteTime": {
     "end_time": "2021-01-08T21:55:28.501939Z",
     "start_time": "2021-01-08T21:55:28.439648Z"
    }
   },
   "outputs": [],
   "source": [
    "simple_bg_df_nonan = simple_bg_df[~np.isnan(simple_bg_df.GABA)]"
   ]
  },
  {
   "cell_type": "code",
   "execution_count": null,
   "metadata": {
    "ExecuteTime": {
     "end_time": "2021-01-08T21:55:28.569236Z",
     "start_time": "2021-01-08T21:55:28.504690Z"
    }
   },
   "outputs": [],
   "source": [
    "simple_bg_df_nonan_onecond = (simple_bg_df_nonan[(simple_bg_df_nonan['Presentation']=='nDicho') & (simple_bg_df_nonan['Orientation']=='Iso')])"
   ]
  },
  {
   "cell_type": "code",
   "execution_count": null,
   "metadata": {},
   "outputs": [],
   "source": [
    "len(simple_bg_df_nonan_onecond.Subject.unique())"
   ]
  },
  {
   "cell_type": "code",
   "execution_count": null,
   "metadata": {},
   "outputs": [],
   "source": [
    "simple_bg_df_nonan_onecond"
   ]
  },
  {
   "cell_type": "code",
   "execution_count": null,
   "metadata": {},
   "outputs": [],
   "source": [
    "# check swapped eyes subs\n",
    "simple_bg_df_nonan_onecond"
   ]
  },
  {
   "cell_type": "markdown",
   "metadata": {},
   "source": [
    "### Figure 7"
   ]
  },
  {
   "cell_type": "code",
   "execution_count": null,
   "metadata": {
    "ExecuteTime": {
     "end_time": "2021-01-17T05:01:08.396004Z",
     "start_time": "2021-01-17T04:58:39.225275Z"
    }
   },
   "outputs": [],
   "source": [
    "bg_groups = simple_bg_df_nonan.groupby(['Task','Orientation','Presentation','measure'])\n",
    "#with s.PdfPages(f\"{plot_dir}/figure_07.pdf\") as pdf:\n",
    "i = 0 # only do the first group since they're all the same\n",
    "for gv, gr in bg_groups:\n",
    "    if i==0:\n",
    "        g = s.gaba_vs_psychophys_plot(gv, gr, legend=False,\n",
    "                    log=True, ylim=(2.5, 16), truncate=False,\n",
    "                    col=\"Population\", col_order=[\"PWA\", \"NSP\"], hue=\"Trace\",\n",
    "                    sharex=False, sharey=False,\n",
    "                    palette=pal4g,\n",
    "                    n_boot=n_boot, legend_img=False,\n",
    "                    markers=['o','^','o','^'],\n",
    "                    aspect=1)\n",
    "        #g.fig.suptitle(f\"{gv}\", fontsize=10, y=0.999)\n",
    "        g.set_titles(\"\")\n",
    "        #g.fig.subplots_adjust(left=.08, wspace=.2, right=.99)\n",
    "        g.fig.savefig(f\"{plot_dir}/figure_07.pdf\")\n",
    "        plt.close('all')\n",
    "        i = 1"
   ]
  },
  {
   "cell_type": "markdown",
   "metadata": {
    "tags": []
   },
   "source": [
    "#### Figure 6 combined into one panel"
   ]
  },
  {
   "cell_type": "code",
   "execution_count": null,
   "metadata": {},
   "outputs": [],
   "source": [
    "baseline_df_withinsubject_diffs"
   ]
  },
  {
   "cell_type": "code",
   "execution_count": null,
   "metadata": {},
   "outputs": [],
   "source": [
    "baseline_df_withinsubject.Trace = baseline_df_withinsubject.Trace.astype('category')\n",
    "baseline_df_withinsubject.Trace.cat.reorder_categories(traces4, inplace=True)\n",
    "baseline_df_withinsubject.Trace.cat.rename_categories(traces_graph4, inplace=True)"
   ]
  },
  {
   "cell_type": "code",
   "execution_count": null,
   "metadata": {},
   "outputs": [],
   "source": [
    "baseline_df_withinsubject.head()"
   ]
  },
  {
   "cell_type": "code",
   "execution_count": null,
   "metadata": {
    "ExecuteTime": {
     "end_time": "2021-01-17T04:55:37.591445Z",
     "start_time": "2021-01-17T04:55:37.277343Z"
    }
   },
   "outputs": [],
   "source": [
    "#with s.PdfPages(f\"{plot_dir}/figure_06.pdf\") as pdf:\n",
    "sns.set_context(context=\"paper\", font_scale=1.1)\n",
    "fig, ax = plt.subplots(nrows=2, ncols=1, figsize=(7, 7))#, gridspec_kw={\"width_ratios\":[2, 1]})\n",
    "g = sns.boxplot(data=baseline_df_withinsubject,\n",
    "                x='Trace',\n",
    "                y='BaselineThresh',#value',\n",
    "                ax=ax[0],\n",
    "                palette=pal4g, fliersize=0)\n",
    "g = sns.swarmplot(data=baseline_df_withinsubject,\n",
    "                  x='Trace',\n",
    "                  y='BaselineThresh',\n",
    "                  ax=ax[0], color=\".25\")\n",
    "g.set_xlabel('')\n",
    "g.set_ylabel('Baseline contrast discrimination threshold (C%)')\n",
    "print(baseline_df_withinsubject.groupby(['Population'])['Subject'].nunique())\n",
    "\n",
    "\n",
    "g2 = sns.boxplot(data=baseline_df_withinsubject_diffs,\n",
    "                 x='Population',\n",
    "                 #y='BaselineDiff',\n",
    "                 y='BaselineRatio',\n",
    "                 ax=ax[1],\n",
    "                 fliersize=0, palette=colors2)\n",
    "g2 = sns.swarmplot(data=baseline_df_withinsubject_diffs,\n",
    "                   x='Population',\n",
    "                   #y='BaselineDiff',\n",
    "                   y='BaselineRatio',\n",
    "                   ax=ax[1],\n",
    "                   color=\".25\")\n",
    "#g2.legend().remove()\n",
    "g2.set_xlabel('')\n",
    "#g2.set_ylabel('Interocular difference (NDE-DE) in baseline\\ncontrast discrimination thresholds (C%)')\n",
    "g2.set_ylabel('Interocular ratio (NDE/DE) of baseline\\ncontrast discrimination thresholds')\n",
    "plt.subplots_adjust(left=.12, right=.95, top=.95, bottom=.05, hspace=.2)\n",
    "print(baseline_df_withinsubject_diffs.groupby(['Population'])['Subject'].nunique())\n",
    "\n",
    "fig.savefig(f\"{plot_dir}/figure_06.eps\")\n",
    "plt.show()\n",
    "plt.close('all')"
   ]
  },
  {
   "cell_type": "code",
   "execution_count": null,
   "metadata": {
    "ExecuteTime": {
     "end_time": "2021-01-08T21:55:48.516318Z",
     "start_time": "2021-01-08T21:55:48.402376Z"
    }
   },
   "outputs": [],
   "source": [
    "baseline_df_withinsubject.groupby(['Population','Eye']).describe()"
   ]
  },
  {
   "cell_type": "markdown",
   "metadata": {},
   "source": [
    "## Plot and model the suppression data (RelMaskContrast vs ThreshElev)"
   ]
  },
  {
   "cell_type": "code",
   "execution_count": null,
   "metadata": {},
   "outputs": [],
   "source": [
    "df_to_model.head()"
   ]
  },
  {
   "cell_type": "code",
   "execution_count": null,
   "metadata": {},
   "outputs": [],
   "source": [
    "np.unique(df_to_model.MaskContrast)"
   ]
  },
  {
   "cell_type": "code",
   "execution_count": null,
   "metadata": {},
   "outputs": [],
   "source": [
    "# #bins = [0, 6, 11, 19, 33, 51, 63, 80, 100] # 17/18, 30/32, 39/45/50, 56/60/62, 74/79, and 99%\n",
    "# bins = [0, 6, 11, 19, 33, 63, 80, 100] # 17/18, 30/32, 39/45/50/56/60/62, 74/79, and 99%\n",
    "# #bins = [0, 6, 11, 19, 33, 63, 100]# 17/18, 30/32, 39/45/50/56/60/62, 74/79/99%\n",
    "# df_to_model['Bin2'] = pd.cut(df_to_model['MaskContrast'], bins=bins, labels=[x+1 for x in range(len(bins)-1)])"
   ]
  },
  {
   "cell_type": "code",
   "execution_count": null,
   "metadata": {},
   "outputs": [],
   "source": [
    "np.unique(df_to_model.RelMaskContrast)"
   ]
  },
  {
   "cell_type": "code",
   "execution_count": null,
   "metadata": {},
   "outputs": [],
   "source": [
    "sns.relplot(data=df_to_model, x=\"MaskContrast\", y=\"ThreshElev\", hue=\"Trace\",\n",
    "                        row=\"Orientation\",\n",
    "                        #col=\"Population\", col_order=[\"PWA\", \"NSP\"],\n",
    "                        col=\"Presentation\", col_order=[\"nMono\", \"nDicho\"],\n",
    "                        palette=pal4, style=\"Eye\", markers=['o','d'],\n",
    "                        height=4.5, aspect=1.3)\\\n",
    "    .map(plt.axhline, y=1, linestyle='dotted', color='black')\\\n",
    "    .set(ylabel=\"Threshold Elevation\")\\\n",
    "    .set(xlabel='Surround Contrast (C%)')\n",
    "plt.close('all')"
   ]
  },
  {
   "cell_type": "code",
   "execution_count": null,
   "metadata": {},
   "outputs": [],
   "source": [
    "sns.relplot(data=df_to_model, x=\"RelMaskContrast\", y=\"ThreshElev\", hue=\"Trace\",\n",
    "                        row=\"Orientation\",\n",
    "                        #col=\"Population\", col_order=[\"PWA\", \"NSP\"],\n",
    "                        col=\"Presentation\", col_order=[\"nMono\", \"nDicho\"],\n",
    "                        palette=pal4, style=\"Eye\", markers=['o','d'],\n",
    "                        height=4.5, aspect=1.3)\\\n",
    ".map(plt.axhline, y=1, linestyle='dotted', color='black')\\\n",
    ".map(plt.axvline, x=2, linestyle='dotted', color='grey')\\\n",
    ".map(plt.axvline, x=5, linestyle='dotted', color='grey')\\\n",
    ".map(plt.axvline, x=10, linestyle='dotted', color='grey')\\\n",
    ".set(ylabel=\"Threshold Elevation\")\\\n",
    ".set(xlabel='Relative surround contrast\\n (multiples of baseline)')\n",
    "plt.close('all')"
   ]
  },
  {
   "cell_type": "markdown",
   "metadata": {},
   "source": [
    "## Pick critical value and observations closest to that\n",
    "#### Everything after this must be repeated for different critical values to show robustness"
   ]
  },
  {
   "cell_type": "code",
   "execution_count": null,
   "metadata": {},
   "outputs": [],
   "source": [
    "def closest_obs(df, col, to):\n",
    "    co = (df.iloc[np.argmin(np.abs(df[col] - to))])\n",
    "    #print(co, co.name, co.index, sep='\\n')\n",
    "    return co\n",
    "\n",
    "def annotate(data, field=\"hue\", pos=(.05, .7), **kws):\n",
    "    #print(field, data[['Eye',field]], kws)\n",
    "    ax=plt.gca()\n",
    "    for (i, (gv, g)) in enumerate(data.groupby(field)):\n",
    "        print(i, gv)\n",
    "        pos_this=(pos[0], pos[1]+(.05*i))\n",
    "        annotation = f\"{gv} n={len(g)}\"\n",
    "        ax.text(*pos_this, annotation, transform=ax.transAxes)\n",
    "        \n"
   ]
  },
  {
   "cell_type": "code",
   "execution_count": null,
   "metadata": {},
   "outputs": [],
   "source": [
    "cv = 5\n",
    "print(f\"**Analysis at RelMaskContrast={cv}**\\n\")\n",
    "final_obs = df_to_model.groupby(pp_gvars).apply(closest_obs, 'RelMaskContrast', cv).reset_index(drop=True)\n",
    "sub_groups = final_obs.groupby(['Task','Orientation','Presentation','Population','Subject'], as_index=False)\n",
    "xdiffs = sub_groups.apply(utils.get_interocular_diff, \"RelMaskContrast\").dropna().drop_duplicates(['Task','Orientation','Presentation','Subject','ValueDiff'])\n",
    "\n",
    "#print(xdiffs)\n",
    "#     sns.catplot(kind='bar', data=xmeans, x='Trace', y='RelMaskContrast', order=traces4, row=\"Orientation\", col=\"Presentation\", palette=pal4)\\\n",
    "#         .set(ylabel='Mean of relative surround contrasts tested')\n",
    "g1 = sns.catplot(kind='box', data=xdiffs, x='Population', y='ValueDiff', order=[\"PWA\", \"NSP\"],\n",
    "            row=\"Orientation\", row_order=[\"Iso\", \"Cross\"],\n",
    "            col=\"Presentation\", col_order=[\"nMono\", \"nDicho\"],\n",
    "            height=4, aspect=1.1,\n",
    "            palette=colors2)\\\n",
    "    .map_dataframe(annotate, field='Population', pos=(.7, .1))\\\n",
    "    .set(ylabel=f\"Interocular difference (Nde-De) of tested\\nrelative surround contrasts at cv={cv}\")\n",
    "g1.fig.subplots_adjust(wspace=.2, hspace=.2)\n",
    "plt.show()\n",
    "sns.relplot(data=final_obs, x=\"RelMaskContrast\", y=\"ThreshElev\", hue=\"Trace\",\n",
    "            row=\"Orientation\", row_order=[\"Iso\", \"Cross\"],\n",
    "            col=\"Presentation\", col_order=[\"nMono\", \"nDicho\"],\n",
    "            palette=pal4, style=\"Eye\", markers=['o','d'],\n",
    "            height=4.5, aspect=1.2)\\\n",
    ".map_dataframe(annotate)\\\n",
    ".map(plt.axhline, y=1, linestyle='dotted', color='black')\\\n",
    ".map(plt.axvline, x=cv, linestyle='dotted', color='grey')\\\n",
    ".set(ylabel=f\"Threshold Elevation\\nat cv={cv}\")\\\n",
    ".set(xlabel='Relative surround contrast\\n (multiples of baseline)')\n",
    "plt.show()\n",
    "plt.close('all')"
   ]
  },
  {
   "cell_type": "code",
   "execution_count": null,
   "metadata": {},
   "outputs": [],
   "source": [
    "final_obs.groupby(['Task','Orientation','Presentation','Population','Eye'])[['RelMaskContrast','ThreshElev']].describe(percentiles=[.5])"
   ]
  },
  {
   "cell_type": "code",
   "execution_count": null,
   "metadata": {},
   "outputs": [],
   "source": [
    "#apply this to final_obs to get t-tests\n",
    "\n",
    "def test_eye_diffs(g, col):\n",
    "    ndes = np.unique(g[g.Eye=='Nde'][col])\n",
    "    des = np.unique(g[g.Eye=='De'][col])\n",
    "    #g.hist()\n",
    "    #print(\"nde mean: \", np.mean(ndes), \"de mean: \", np.mean(des))\n",
    "    res = st.ttest_ind(ndes, des)\n",
    "    #display(HTML(g.to_html()))\n",
    "    print(f\"({len(ndes)}, {len(des)}), t={res.statistic:.2f}, p={res.pvalue:.2f}\")\n",
    "    return st.ttest_ind(ndes, des)\n",
    "\n",
    "gs = final_obs.groupby(['Task','Orientation','Presentation','Population'])\n",
    "for gv, g in gs:\n",
    "    print(gv)\n",
    "    test_eye_diffs(g, \"ThreshElev\")"
   ]
  },
  {
   "cell_type": "markdown",
   "metadata": {},
   "source": [
    "### Make Figure 3, the modeling example"
   ]
  },
  {
   "cell_type": "code",
   "execution_count": null,
   "metadata": {},
   "outputs": [],
   "source": [
    "onecond = df_to_model[(df_to_model.Orientation==\"Iso\") & (df_to_model.Presentation==\"nDicho\")]\n",
    "ns_onecond = onecond.groupby(['Task','Orientation','Presentation','Population','Eye','Trace'])['Subject'].nunique().reset_index()\n",
    "\n",
    "fig, (ax1, ax2, ax3) = plt.subplots(3, 1, figsize=(7, 8), dpi=300)\n",
    "\n",
    "sns.scatterplot(data=onecond, ax=ax1, x=\"MaskContrast\", y=\"ThreshElev\", hue=\"Trace\",\n",
    "                        palette=pal4, legend=False)\n",
    "ax1.set(ylabel=\"Relative contrast\\ndiscrimination threshold\")\n",
    "ax1.set(xlabel='Surround Contrast')\n",
    "ax1.axhline(y=1, linestyle='dotted', color='grey')\n",
    "\n",
    "sns.scatterplot(data=onecond, ax=ax2, x=\"RelMaskContrast\", y=\"ThreshElev\", hue=\"Trace\",\n",
    "                        palette=pal4, legend=False)\n",
    "ax2.set(ylabel=\"Relative contrast\\ndiscrimination threshold\")\n",
    "ax2.set(xlabel='Relative surround contrast\\n (multiples of baseline)')\n",
    "ax2.axhline(y=1, linestyle='dotted', color='grey')\n",
    "ax2.axvline(x=5, linestyle='dotted', color='black')\n",
    "print()\n",
    "\n",
    "final_obs_onecond = onecond.groupby(pp_gvars).apply(closest_obs, 'RelMaskContrast', cv).reset_index(drop=True)\n",
    "\n",
    "sns.scatterplot(data=final_obs_onecond, ax=ax3, x=\"RelMaskContrast\", y=\"ThreshElev\", hue=\"Trace\",\n",
    "                        palette=pal4, legend=\"brief\")\n",
    "ax3.legend_.set_visible(False)\n",
    "ax3.set(xlim=ax2.get_xlim())\n",
    "ax3.set(ylabel=\"Relative contrast\\ndiscrimination threshold\")\n",
    "ax3.set(xlabel='Relative surround contrast\\n (multiples of baseline)')\n",
    "ax3.axhline(y=1, linestyle='dotted', color='grey')\n",
    "ax3.axvline(x=5, linestyle='dotted', color='black')\n",
    "handles, labels = ax3.get_legend_handles_labels()\n",
    "h_leg = []\n",
    "l_leg = []\n",
    "for (h, l) in zip(handles, labels):\n",
    "    if l in traces4:\n",
    "        i = traces4.index(l)\n",
    "        n = ns_onecond[ns_onecond.Trace==l]['Subject'].iloc[0]\n",
    "        print(h, l, i, n, traces_graph4[i])\n",
    "        h_leg.append(h)\n",
    "        l_leg.append(f\"{traces_graph4[i]}\\n(N={n})\")\n",
    "\n",
    "fig.legend(h_leg, l_leg, loc='center right')\n",
    "#fig.legend(pal4g)\n",
    "fig.subplots_adjust(hspace=.5, right=.7)\n",
    "plt.savefig(f\"{plot_dir}/figure_03.eps\")\n",
    "plt.close('all')"
   ]
  },
  {
   "cell_type": "markdown",
   "metadata": {},
   "source": [
    "## Subset to include only (GABA and psychophyics) subjects"
   ]
  },
  {
   "cell_type": "code",
   "execution_count": null,
   "metadata": {
    "ExecuteTime": {
     "end_time": "2021-01-08T21:56:13.645741Z",
     "start_time": "2021-01-08T21:56:13.598384Z"
    }
   },
   "outputs": [],
   "source": [
    "gaba_and_pp_subjs = list(np.intersect1d(pp_subjs, gaba_subjs))\n",
    "n_gaba_and_pp_subjs = len(gaba_and_pp_subjs)"
   ]
  },
  {
   "cell_type": "code",
   "execution_count": null,
   "metadata": {
    "ExecuteTime": {
     "end_time": "2021-01-08T21:56:13.721705Z",
     "start_time": "2021-01-08T21:56:13.648326Z"
    }
   },
   "outputs": [],
   "source": [
    "sdf = sdf[sdf.Subject.isin(gaba_and_pp_subjs)] # only subjects who did _the current_ pp task and GABA\n",
    "gaba_and_pp_subjs_thistask = np.unique(sdf.Subject)\n",
    "n_gaba_and_pp_subjs_thistask = len(gaba_and_pp_subjs_thistask)\n",
    "print(f\"Of the {n_gaba_and_pp_subjs} subjects with both GABA and psychophysics data, {n_gaba_and_pp_subjs_thistask} have both for task {task}.\\n{gaba_and_pp_subjs_thistask}\")"
   ]
  },
  {
   "cell_type": "markdown",
   "metadata": {},
   "source": [
    "### Remove subjects we don't have data on both GABA/PP for"
   ]
  },
  {
   "cell_type": "code",
   "execution_count": null,
   "metadata": {
    "ExecuteTime": {
     "end_time": "2021-01-18T18:09:47.274872Z",
     "start_time": "2021-01-18T18:09:47.214336Z"
    }
   },
   "outputs": [],
   "source": [
    "gdf = gdf[gdf.subjName.isin(sdf.Subject)] # only subjects who did both tasks\n",
    "amb_subjs = (gdf[gdf.Population=='PWA'])\n",
    "nsp_subjs = (gdf[gdf.Population==\"NSP\"])\n",
    "print(f'Of the {len(gdf)} subjects with GABA and {task} data, {len(amb_subjs)} are PWA.')\n",
    "n_this_task = len(gdf)"
   ]
  },
  {
   "cell_type": "code",
   "execution_count": null,
   "metadata": {},
   "outputs": [],
   "source": [
    "final_obs.head()"
   ]
  },
  {
   "cell_type": "code",
   "execution_count": null,
   "metadata": {},
   "outputs": [],
   "source": [
    "comb = final_obs.join(gdf.set_index(['subjName'])['GABA'], on=['Subject'])\n",
    "comb.drop_duplicates(inplace=True)\n",
    "\n",
    "#subset to include only those subjects with GABA data\n",
    "comb_gabappsub = comb[~np.isnan(comb['GABA'])]\n",
    "print(len(comb), len(comb_gabappsub))\n",
    "comb_gabappsub.Subject.unique()"
   ]
  },
  {
   "cell_type": "code",
   "execution_count": null,
   "metadata": {},
   "outputs": [],
   "source": [
    "comb.head()"
   ]
  },
  {
   "cell_type": "code",
   "execution_count": null,
   "metadata": {},
   "outputs": [],
   "source": [
    "print(pp_gvars)"
   ]
  },
  {
   "cell_type": "code",
   "execution_count": null,
   "metadata": {
    "scrolled": true,
    "tags": []
   },
   "outputs": [],
   "source": [
    "baz = pd.melt(comb, id_vars=(pp_gvars + ['RelMaskContrast','BaselineThresh','GABA']),\n",
    "              value_vars=[\"ThreshElev\"], var_name='measure')\n",
    "baz.dropna(subset=['GABA'], inplace=True)\n",
    "baz.Trace = baz.Trace.astype('category')\n",
    "baz_temp = baz.Trace.copy()\n",
    "baz.Trace.cat.reorder_categories(traces4, inplace=True)\n",
    "assert(baz_temp.equals(baz.Trace))\n",
    "baz.Trace.cat.rename_categories(traces_graph4, inplace=True)"
   ]
  },
  {
   "cell_type": "code",
   "execution_count": null,
   "metadata": {},
   "outputs": [],
   "source": [
    "pal4g"
   ]
  },
  {
   "cell_type": "markdown",
   "metadata": {},
   "source": [
    "#### Figures 8 and 9 and produced here"
   ]
  },
  {
   "cell_type": "code",
   "execution_count": null,
   "metadata": {
    "tags": []
   },
   "outputs": [],
   "source": [
    "%%time\n",
    "fig_groups = baz.groupby(['Task', 'Orientation', 'measure'])\n",
    "for fgv, fg in fig_groups:\n",
    "    #print(fg)\n",
    "    assert(fg['Orientation'].nunique()==1) # we're only looking at one surround orientation per figure\n",
    "    o = fg['Orientation'].iloc[0] # first element can be used for all\n",
    "    if o==\"Cross\":\n",
    "        # figure 8\n",
    "        outfile = f\"{plot_dir}/figure_08.pdf\"\n",
    "        ylim = (0.2,4)\n",
    "    elif o==\"Iso\":\n",
    "        # figure 9\n",
    "        outfile = f\"{plot_dir}/figure_09.pdf\"\n",
    "        ylim = (0.2, 6)\n",
    "    else:\n",
    "        # problem\n",
    "        raise Error\n",
    "    g = s.gaba_vs_psychophys_plot(fgv, fg, \n",
    "                legend_img = False,\n",
    "                legend = False,\n",
    "                log = True,\n",
    "                sharex=False, sharey=False,\n",
    "                truncate=False,\n",
    "                ylim = ylim,\n",
    "                row=\"Presentation\", row_order=[\"nDicho\", \"nMono\"],\n",
    "                col=\"Population\", col_order=[\"PWA\",\"NSP\"],\n",
    "                hue=\"Trace\",\n",
    "                palette=pal4g,\n",
    "                annotate=True, boot_func=utils.compare_rs, \n",
    "                n_boot=n_boot,\n",
    "                markers=['o','d','o','d'])#, legend=False)\n",
    "    g.set_titles(\"\") # top row is dichoptic\n",
    "    print(g.fig.get_size_inches(), g.fig.get_dpi())\n",
    "    g.fig.subplots_adjust(left=.1, right=.95, wspace=0.15)\n",
    "    g.fig.set_dpi(300)\n",
    "    g.fig.set_size_inches((7,7))\n",
    "    g.fig.savefig(outfile, dpi='figure')\n",
    "    plt.close('all')"
   ]
  },
  {
   "cell_type": "markdown",
   "metadata": {},
   "source": [
    "# Orientation-selective surround suppression analysis\n",
    " * 6/7/21 post MAS: made this analysis refer to final_obs, not baz, thus including psychophys subjects we don't have GABA for and necessatitating the removal of GABA - OSSS results"
   ]
  },
  {
   "cell_type": "code",
   "execution_count": null,
   "metadata": {},
   "outputs": [],
   "source": [
    "final_obs.head()"
   ]
  },
  {
   "cell_type": "code",
   "execution_count": null,
   "metadata": {},
   "outputs": [],
   "source": [
    "oss_gvars = [\"Task\", \"Presentation\", \"Population\", \"Subject\", \"Eye\", \"Trace\"]#, \"GABA\"]\n",
    "oss_gvars_combeyes = [\"Task\", \"Presentation\", \"Population\", \"Subject\", \"Trace\"]#, \"GABA\"]\n",
    "#oss_df = baz.groupby(oss_gvars).apply(utils.calculate_orientation_selective_suppression).reset_index().dropna()\n",
    "oss_df = final_obs.groupby(oss_gvars).apply(utils.calculate_orientation_selective_suppression, col='ThreshElev').reset_index().dropna()\n",
    "oss_df['measure'] = 'OSSSRatio'"
   ]
  },
  {
   "cell_type": "code",
   "execution_count": null,
   "metadata": {},
   "outputs": [],
   "source": [
    "oss_df.head(n=5)"
   ]
  },
  {
   "cell_type": "code",
   "execution_count": null,
   "metadata": {},
   "outputs": [],
   "source": [
    "oss_df.groupby(['Task', 'Presentation', 'Population','Eye'])['value'].agg(['mean', 'sem'])"
   ]
  },
  {
   "cell_type": "code",
   "execution_count": null,
   "metadata": {},
   "outputs": [],
   "source": [
    "for gv, g in oss_df.groupby(['Task', 'Presentation', 'Population','Eye']):\n",
    "    print(gv)#, g, sep='\\n')\n",
    "    ttres = st.ttest_1samp(g['value'], popmean=1, nan_policy='omit')\n",
    "    print(f\"N = {len(g)}, mean Iso/Cross ratio: {g['value'].mean():.2f}, t={ttres.statistic:.2f}, p={ttres.pvalue}\")\n",
    "    #print(st.spearmanr(g['GABA'], g['value']))"
   ]
  },
  {
   "cell_type": "code",
   "execution_count": null,
   "metadata": {},
   "outputs": [],
   "source": [
    "# # combine both eyes (omit 'Eye' from grouping vars)\n",
    "# def oss_mean_combeyes(df, **kwargs):\n",
    "#     if len(df.Eye.unique())==2:\n",
    "#         v1 = df[df.Eye=='Nde']['value'].iloc[0]\n",
    "#         v2 = df[df.Eye=='De']['value'].iloc[0]\n",
    "#         oss_mean_combeyes = np.mean([v1, v2])\n",
    "#     elif len(df.Eye.unique())==1:\n",
    "#         oss_mean_combeyes = df.value.iat[0]\n",
    "#     else:\n",
    "#         oss_mean_combeyes = np.nan\n",
    "#     #print(df)\n",
    "#     print(f\"OSS mean across eyes: {oss_mean_combeyes}\")\n",
    "#     return pd.Series(oss_mean_combeyes, ['value'])\n",
    "# oss_df_combeyes = oss_df.groupby(oss_gvars_combeyes).apply(oss_mean_combeyes).reset_index().dropna()\n",
    "# for gv, g in oss_df_combeyes.groupby(['Task', 'Presentation', 'Population']):\n",
    "#     print(gv, len(np.unique(g['Subject'])), np.unique(g['Subject']))#, g, sep='\\n')\n",
    "#     print(np.mean(g['value']), np.std(g['value']))\n",
    "#     print(st.ttest_1samp(g['value'], popmean=1, nan_policy='omit'))\n",
    "#     print(st.spearmanr(g['GABA'], g['value']))"
   ]
  },
  {
   "cell_type": "code",
   "execution_count": null,
   "metadata": {},
   "outputs": [],
   "source": [
    "# for gv, g in oss_df_combeyes.groupby(['Task', 'Presentation']):\n",
    "#     print(gv, len(np.unique(g['Subject'])), np.unique(g['Subject']))#, g, sep='\\n')\n",
    "#     pwa = g[g.Population=='PWA']\n",
    "#     nsp = g[g.Population=='NSP']\n",
    "#     print('NSP: ', st.ttest_1samp(nsp['value'], popmean=1, nan_policy='omit'), 'PWA: ', st.ttest_1samp(pwa['value'], popmean=1, nan_policy='omit'), sep='\\n')\n",
    "#     print('NSP vs PWA 2-samp: ', st.ttest_ind(nsp['value'], pwa['value']))\n",
    "#     for gv2, g2 in g.groupby(['Population']):\n",
    "#         print(st.spearmanr(g2['GABA'], g2['value']))"
   ]
  }
 ],
 "metadata": {
  "anaconda-cloud": {},
  "celltoolbar": "Raw Cell Format",
  "kernelspec": {
   "display_name": "Python 3",
   "language": "python",
   "name": "python3"
  },
  "language_info": {
   "codemirror_mode": {
    "name": "ipython",
    "version": 3
   },
   "file_extension": ".py",
   "mimetype": "text/x-python",
   "name": "python",
   "nbconvert_exporter": "python",
   "pygments_lexer": "ipython3",
   "version": "3.8.8"
  },
  "varInspector": {
   "cols": {
    "lenName": 16,
    "lenType": 16,
    "lenVar": 40
   },
   "kernels_config": {
    "python": {
     "delete_cmd_postfix": "",
     "delete_cmd_prefix": "del ",
     "library": "var_list.py",
     "varRefreshCmd": "print(var_dic_list())"
    },
    "r": {
     "delete_cmd_postfix": ") ",
     "delete_cmd_prefix": "rm(",
     "library": "var_list.r",
     "varRefreshCmd": "cat(var_dic_list()) "
    }
   },
   "types_to_exclude": [
    "module",
    "function",
    "builtin_function_or_method",
    "instance",
    "_Feature"
   ],
   "window_display": false
  }
 },
 "nbformat": 4,
 "nbformat_minor": 4
}
