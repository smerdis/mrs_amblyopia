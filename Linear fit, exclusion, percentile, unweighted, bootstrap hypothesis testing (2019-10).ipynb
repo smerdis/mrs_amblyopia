{
 "cells": [
  {
   "cell_type": "markdown",
   "metadata": {},
   "source": [
    "# The purpose of this notebook\n",
    "\n",
    "In discussion with Michael, I mentioned that we support our use of a linear model of the suppression data by showing that it has better mean and median R^2 than a linear fit to the log-logged data. However, both box plots of fits showed a group of curves (each being one eye of one patient viewing the target under a certain surround/presentation condition etc) that were very badly fit by either model, like near zero and enough to be outliers on a boxplot. So, we thought maybe we'd remove them and see if that changes the results. That's what I'm attempting to do here; The immediately previous notebook, whose graphs are in redo-201901, are the comparison (these are in redo-2901902-exclude_bad_fits)"
   ]
  },
  {
   "cell_type": "code",
   "execution_count": null,
   "metadata": {
    "ExecuteTime": {
     "end_time": "2019-10-01T22:01:45.150935Z",
     "start_time": "2019-10-01T22:01:45.089697Z"
    }
   },
   "outputs": [],
   "source": [
    "%load_ext autoreload\n",
    "%autoreload 2"
   ]
  },
  {
   "cell_type": "code",
   "execution_count": null,
   "metadata": {
    "ExecuteTime": {
     "end_time": "2019-10-01T22:01:46.109836Z",
     "start_time": "2019-10-01T22:01:45.158642Z"
    }
   },
   "outputs": [],
   "source": [
    "%matplotlib inline"
   ]
  },
  {
   "cell_type": "code",
   "execution_count": null,
   "metadata": {
    "ExecuteTime": {
     "end_time": "2019-10-01T22:01:47.397182Z",
     "start_time": "2019-10-01T22:01:46.114898Z"
    }
   },
   "outputs": [],
   "source": [
    "import string\n",
    "\n",
    "import numpy as np\n",
    "np.set_printoptions(precision=3)\n",
    "\n",
    "import pandas as pd\n",
    "import scipy.stats as st\n",
    "\n",
    "import matplotlib.pyplot as plt\n",
    "import seaborn as sns\n",
    "\n",
    "from scipy import stats\n",
    "\n",
    "import suppression as s\n",
    "import utils"
   ]
  },
  {
   "cell_type": "code",
   "execution_count": null,
   "metadata": {
    "ExecuteTime": {
     "end_time": "2019-10-01T22:01:47.517806Z",
     "start_time": "2019-10-01T22:01:47.400721Z"
    }
   },
   "outputs": [],
   "source": [
    "pd.__version__"
   ]
  },
  {
   "cell_type": "code",
   "execution_count": null,
   "metadata": {
    "ExecuteTime": {
     "end_time": "2019-10-01T22:01:47.659547Z",
     "start_time": "2019-10-01T22:01:47.545364Z"
    }
   },
   "outputs": [],
   "source": [
    "sns.__version__"
   ]
  },
  {
   "cell_type": "code",
   "execution_count": null,
   "metadata": {
    "ExecuteTime": {
     "end_time": "2019-10-01T22:01:47.739485Z",
     "start_time": "2019-10-01T22:01:47.670562Z"
    }
   },
   "outputs": [],
   "source": [
    "sns"
   ]
  },
  {
   "cell_type": "code",
   "execution_count": null,
   "metadata": {
    "ExecuteTime": {
     "end_time": "2019-10-01T22:01:47.811888Z",
     "start_time": "2019-10-01T22:01:47.741832Z"
    }
   },
   "outputs": [],
   "source": [
    "gaba_fn = 'gaba_data_2019.txt'\n",
    "supp_fn = 'supp_data_individual_20170427.txt'"
   ]
  },
  {
   "cell_type": "code",
   "execution_count": null,
   "metadata": {
    "ExecuteTime": {
     "end_time": "2019-10-01T22:01:48.036423Z",
     "start_time": "2019-10-01T22:01:47.821745Z"
    }
   },
   "outputs": [],
   "source": [
    "sdf = utils.load_psychophys(supp_fn)\n",
    "gaba_col = 'mean_occ_all' #'motor' # or 'occ_binoc', 'mean_occ_all', 'motor'\n",
    "gdf = utils.load_gaba(gaba_fn, gaba_col)"
   ]
  },
  {
   "cell_type": "code",
   "execution_count": null,
   "metadata": {
    "ExecuteTime": {
     "end_time": "2019-10-01T22:01:48.176945Z",
     "start_time": "2019-10-01T22:01:48.043097Z"
    }
   },
   "outputs": [],
   "source": [
    "gdf.Population = gdf.Population.astype('category')\n",
    "gdf.Population.cat.categories # 0 AMB 1 CON\n",
    "gdf.Population = gdf.Population.cat.rename_categories(['Persons with Amblyopia', 'Normally-sighted individuals'])"
   ]
  },
  {
   "cell_type": "markdown",
   "metadata": {},
   "source": [
    "### Set variables used for graphing"
   ]
  },
  {
   "cell_type": "code",
   "execution_count": null,
   "metadata": {
    "ExecuteTime": {
     "end_time": "2019-10-01T22:01:48.228871Z",
     "start_time": "2019-10-01T22:01:48.179985Z"
    }
   },
   "outputs": [],
   "source": [
    "colors_amb = [\"#3274a1\",\"#72b4e1\"]\n",
    "colors_con = [\"#e1812c\", \"#ffc68c\"]\n",
    "colors4 = colors_amb + colors_con\n",
    "traces4 = ['Amblyope-De', 'Amblyope-Nde', 'Control-De', 'Control-Nde']\n",
    "traces_graph4 = [f\"Persons with\\nAmblyopia, DE\", f\"Persons with\\nAmblyopia, NDE\", \\\n",
    "                 f\"Normally-sighted\\nindividuals, DE\", f\"Normally-sighted\\nindividuals, NDE\"]\n",
    "plot_dir = f\"plots/redo-201910-{gaba_col}-bootstrap\""
   ]
  },
  {
   "cell_type": "markdown",
   "metadata": {},
   "source": [
    "## Analyze tasks separately (before subsetting to include common subjects)##"
   ]
  },
  {
   "cell_type": "code",
   "execution_count": null,
   "metadata": {
    "ExecuteTime": {
     "end_time": "2019-10-01T22:01:48.289982Z",
     "start_time": "2019-10-01T22:01:48.232749Z"
    }
   },
   "outputs": [],
   "source": [
    "pp_subjs = np.unique(sdf.Subject)\n",
    "n_pp_subjs = len(pp_subjs)\n",
    "gaba_subjs = np.unique(gdf.subjName)\n",
    "n_gaba_subjs = len(gaba_subjs)\n",
    "print(f\"Psychophysics subjects (n={n_pp_subjs}):\\n\", pp_subjs)\n",
    "print(f\"GABA subjects (n={n_gaba_subjs}):\\n\", gaba_subjs)"
   ]
  },
  {
   "cell_type": "markdown",
   "metadata": {},
   "source": [
    "# GABA only analyses"
   ]
  },
  {
   "cell_type": "markdown",
   "metadata": {},
   "source": [
    "### GABA t-test, CON v AMB"
   ]
  },
  {
   "cell_type": "code",
   "execution_count": null,
   "metadata": {
    "ExecuteTime": {
     "end_time": "2019-10-01T22:01:48.367377Z",
     "start_time": "2019-10-01T22:01:48.293069Z"
    }
   },
   "outputs": [],
   "source": [
    "gdf"
   ]
  },
  {
   "cell_type": "code",
   "execution_count": null,
   "metadata": {
    "ExecuteTime": {
     "end_time": "2019-10-01T22:01:48.522645Z",
     "start_time": "2019-10-01T22:01:48.370316Z"
    }
   },
   "outputs": [],
   "source": [
    "pop_group = gdf.groupby(\"Population\")\n",
    "pop_group.describe(percentiles=[.5])"
   ]
  },
  {
   "cell_type": "code",
   "execution_count": null,
   "metadata": {
    "ExecuteTime": {
     "end_time": "2019-10-01T22:01:48.612565Z",
     "start_time": "2019-10-01T22:01:48.527778Z"
    }
   },
   "outputs": [],
   "source": [
    "gaba_per_group = [col for col_name, col in pop_group['GABA']]\n",
    "(tstat, pval) = st.ttest_ind(*gaba_per_group, nan_policy='omit')\n",
    "print(tstat, pval)"
   ]
  },
  {
   "cell_type": "markdown",
   "metadata": {},
   "source": [
    "**Thus we find no significant difference in GABA levels between CON and AMB.**"
   ]
  },
  {
   "cell_type": "markdown",
   "metadata": {},
   "source": [
    "### GABA violin plot, all subjects"
   ]
  },
  {
   "cell_type": "code",
   "execution_count": null,
   "metadata": {
    "ExecuteTime": {
     "end_time": "2019-10-01T22:01:49.228803Z",
     "start_time": "2019-10-01T22:01:48.623657Z"
    },
    "code_folding": []
   },
   "outputs": [],
   "source": [
    "with s.PdfPages(f\"{plot_dir}/gaba_diffs_n{n_gaba_subjs}_{gaba_col}.pdf\") as pdf:\n",
    "    fig = plt.figure(figsize=(8,8))  # create a figure object\n",
    "    ax = fig.add_subplot(1, 1, 1)\n",
    "    ax = sns.violinplot(y='GABA',x='Presentation',hue='Population',data=gdf,split=True,inner='stick',ax=ax,legend=False)\n",
    "    #ax.legend_.remove()\n",
    "    ax.xaxis.set_visible(False)\n",
    "    ax.set_ylabel('GABA:Creatine ratio')\n",
    "    #ax.set_yticklabels([])\n",
    "    plt.show(ax.figure)\n",
    "    pdf.savefig(ax.figure)\n",
    "    plt.close(ax.figure)\n",
    "    plt.close('all')"
   ]
  },
  {
   "cell_type": "markdown",
   "metadata": {},
   "source": [
    "### Note: the subject with the lowest GABA:Cr ('tt', .162) is not in the psychophysics data"
   ]
  },
  {
   "cell_type": "markdown",
   "metadata": {},
   "source": [
    "# Select one psychophysical task's data #"
   ]
  },
  {
   "cell_type": "code",
   "execution_count": null,
   "metadata": {
    "ExecuteTime": {
     "end_time": "2019-10-01T22:01:49.293350Z",
     "start_time": "2019-10-01T22:01:49.236496Z"
    }
   },
   "outputs": [],
   "source": [
    "task = 'SS'\n",
    "sdf = sdf[sdf['Task']==task]\n",
    "\n",
    "df_to_model = sdf.copy() # make a deep copy"
   ]
  },
  {
   "cell_type": "code",
   "execution_count": null,
   "metadata": {
    "ExecuteTime": {
     "end_time": "2019-10-01T22:01:49.370544Z",
     "start_time": "2019-10-01T22:01:49.301968Z"
    }
   },
   "outputs": [],
   "source": [
    "n_pp_subjs_thistask = len(np.unique(df_to_model.Subject))\n",
    "amb_subjs = np.unique(df_to_model[df_to_model[\"Population\"]==\"Amblyope\"][\"Subject\"])\n",
    "print(amb_subjs)\n",
    "n_amb_subjs_thistask = len(amb_subjs)\n",
    "print(f\"There are {n_pp_subjs_thistask} subjects for Task {task}, of which {n_amb_subjs_thistask} are Amblyopes.\")"
   ]
  },
  {
   "cell_type": "markdown",
   "metadata": {},
   "source": [
    "# Modeling"
   ]
  },
  {
   "cell_type": "code",
   "execution_count": null,
   "metadata": {
    "ExecuteTime": {
     "end_time": "2019-10-01T22:01:49.462185Z",
     "start_time": "2019-10-01T22:01:49.373583Z"
    }
   },
   "outputs": [],
   "source": [
    "df_to_model.head()"
   ]
  },
  {
   "cell_type": "markdown",
   "metadata": {},
   "source": [
    "### Begin grouping data into conditions to model Subject's ThreshElev as a function of logRelContrast #"
   ]
  },
  {
   "cell_type": "code",
   "execution_count": null,
   "metadata": {
    "ExecuteTime": {
     "end_time": "2019-10-01T22:01:49.694039Z",
     "start_time": "2019-10-01T22:01:49.465518Z"
    }
   },
   "outputs": [],
   "source": [
    "pp_gvars = ['Task','Orientation','Presentation','Population','Subject','Eye','Trace'] # One condition\n",
    "pp_gvars_base = pp_gvars + ['BaselineThresh']\n",
    "\n",
    "groups_with_baseline = df_to_model.groupby(pp_gvars_base)\n",
    "\n",
    "# Check if there are any conditions with only two data points\n",
    "for gv, gr in groups_with_baseline:\n",
    "    if len(gr)<=2:\n",
    "        print(gv, gr)"
   ]
  },
  {
   "cell_type": "markdown",
   "metadata": {},
   "source": [
    "#### BaselineThresh analysis before we exclude bad fits; since this is observed not modeled its ok"
   ]
  },
  {
   "cell_type": "code",
   "execution_count": null,
   "metadata": {
    "ExecuteTime": {
     "end_time": "2019-10-01T22:01:49.764760Z",
     "start_time": "2019-10-01T22:01:49.697073Z"
    }
   },
   "outputs": [],
   "source": [
    "print(pp_gvars_base)\n",
    "pp_gvars_base_agg = [v for v in pp_gvars if v != 'Subject']"
   ]
  },
  {
   "cell_type": "code",
   "execution_count": null,
   "metadata": {
    "ExecuteTime": {
     "end_time": "2019-10-01T22:01:49.837111Z",
     "start_time": "2019-10-01T22:01:49.770819Z"
    }
   },
   "outputs": [],
   "source": [
    "pp_gvars_base_agg"
   ]
  },
  {
   "cell_type": "code",
   "execution_count": null,
   "metadata": {
    "ExecuteTime": {
     "end_time": "2019-10-01T22:01:49.962641Z",
     "start_time": "2019-10-01T22:01:49.842362Z"
    }
   },
   "outputs": [],
   "source": [
    "for gv, g in df_to_model.groupby(pp_gvars_base_agg):\n",
    "    print(gv, len(np.unique(g['BaselineThresh'])))"
   ]
  },
  {
   "cell_type": "code",
   "execution_count": null,
   "metadata": {
    "ExecuteTime": {
     "end_time": "2019-10-01T22:01:50.200797Z",
     "start_time": "2019-10-01T22:01:49.977825Z"
    }
   },
   "outputs": [],
   "source": [
    "df_to_model.groupby(['Task', 'Orientation', 'Presentation', 'Population']).apply(utils.test_baseline_diffs)"
   ]
  },
  {
   "cell_type": "code",
   "execution_count": null,
   "metadata": {
    "ExecuteTime": {
     "end_time": "2019-10-01T22:01:50.305654Z",
     "start_time": "2019-10-01T22:01:50.208422Z"
    }
   },
   "outputs": [],
   "source": [
    "baseline_df = df_to_model.groupby(pp_gvars_base_agg).apply(utils.describe_baselines).reset_index()"
   ]
  },
  {
   "cell_type": "code",
   "execution_count": null,
   "metadata": {
    "ExecuteTime": {
     "end_time": "2019-10-01T22:01:50.389633Z",
     "start_time": "2019-10-01T22:01:50.308993Z"
    }
   },
   "outputs": [],
   "source": [
    "baseline_df_reduced = baseline_df[(baseline_df.Orientation=='Cross') & (baseline_df.Presentation=='nMono')]\n",
    "baseline_df_reduced"
   ]
  },
  {
   "cell_type": "code",
   "execution_count": null,
   "metadata": {
    "ExecuteTime": {
     "end_time": "2019-10-01T22:01:50.462551Z",
     "start_time": "2019-10-01T22:01:50.393524Z"
    }
   },
   "outputs": [],
   "source": [
    "baseline_plot_df = utils.make_baseline_df_to_plot(baseline_df_reduced)"
   ]
  },
  {
   "cell_type": "code",
   "execution_count": null,
   "metadata": {
    "ExecuteTime": {
     "end_time": "2019-10-01T22:01:50.624442Z",
     "start_time": "2019-10-01T22:01:50.478640Z"
    }
   },
   "outputs": [],
   "source": [
    "baseline_plot_df.head()"
   ]
  },
  {
   "cell_type": "code",
   "execution_count": null,
   "metadata": {
    "ExecuteTime": {
     "end_time": "2019-10-01T22:01:51.181071Z",
     "start_time": "2019-10-01T22:01:50.627973Z"
    }
   },
   "outputs": [],
   "source": [
    "with s.PdfPages(f\"{plot_dir}/{task}_baseline_diffs.pdf\") as pdf:\n",
    "    fig = plt.figure(figsize=(8,8))  # create a figure object\n",
    "    ax = fig.add_subplot(1, 1, 1)\n",
    "    x_pos = np.arange(len(baseline_plot_df['Trace']))\n",
    "    plt.bar(x_pos, baseline_plot_df['mean'], data=baseline_plot_df, yerr='SEM', color=colors4)\n",
    "    ax.set_xticks(x_pos)\n",
    "    ax.set_xticklabels(traces_graph4)\n",
    "    ax.set_ylabel('Baseline Contrast Threshold (C%)')\n",
    "    plt.show(ax.figure)\n",
    "    pdf.savefig(ax.figure)\n",
    "    plt.close(ax.figure)\n",
    "    plt.close('all')\n",
    "    "
   ]
  },
  {
   "cell_type": "markdown",
   "metadata": {},
   "source": [
    "### Linear model using statsmodels"
   ]
  },
  {
   "cell_type": "code",
   "execution_count": null,
   "metadata": {
    "ExecuteTime": {
     "end_time": "2019-10-01T22:01:54.813758Z",
     "start_time": "2019-10-01T22:01:51.186975Z"
    }
   },
   "outputs": [],
   "source": [
    "lin_results = groups_with_baseline.apply(utils.linear_fit_params, 'RelMaskContrast', 'ThreshElev').reset_index()"
   ]
  },
  {
   "cell_type": "code",
   "execution_count": null,
   "metadata": {
    "ExecuteTime": {
     "end_time": "2019-10-01T22:01:54.959733Z",
     "start_time": "2019-10-01T22:01:54.816632Z"
    }
   },
   "outputs": [],
   "source": [
    "lin_results.head(n=16)"
   ]
  },
  {
   "cell_type": "code",
   "execution_count": null,
   "metadata": {
    "ExecuteTime": {
     "end_time": "2019-10-01T22:01:55.381086Z",
     "start_time": "2019-10-01T22:01:54.962856Z"
    }
   },
   "outputs": [],
   "source": [
    "sns.distplot(lin_results.rsquared, kde=False, rug=True)"
   ]
  },
  {
   "cell_type": "code",
   "execution_count": null,
   "metadata": {
    "ExecuteTime": {
     "end_time": "2019-10-01T22:01:55.438604Z",
     "start_time": "2019-10-01T22:01:55.384824Z"
    }
   },
   "outputs": [],
   "source": [
    "np.count_nonzero(lin_results.rsquared>.999999)"
   ]
  },
  {
   "cell_type": "code",
   "execution_count": null,
   "metadata": {
    "ExecuteTime": {
     "end_time": "2019-10-01T22:01:55.526114Z",
     "start_time": "2019-10-01T22:01:55.443636Z"
    }
   },
   "outputs": [],
   "source": [
    "lin_results.rsquared.mean()"
   ]
  },
  {
   "cell_type": "code",
   "execution_count": null,
   "metadata": {
    "ExecuteTime": {
     "end_time": "2019-10-01T22:01:56.041814Z",
     "start_time": "2019-10-01T22:01:55.528818Z"
    }
   },
   "outputs": [],
   "source": [
    "lin_results.boxplot(column='rsquared', by=['Orientation', 'Presentation'], grid=False, figsize=(16, 4))"
   ]
  },
  {
   "cell_type": "code",
   "execution_count": null,
   "metadata": {
    "ExecuteTime": {
     "end_time": "2019-10-01T22:01:56.546053Z",
     "start_time": "2019-10-01T22:01:56.045952Z"
    }
   },
   "outputs": [],
   "source": [
    "lin_results.boxplot(column='rsquared', by=['Orientation', 'Population', 'Presentation'], grid=False, figsize=(16, 4))"
   ]
  },
  {
   "cell_type": "markdown",
   "metadata": {},
   "source": [
    "### Fit the log-logged data to see if that's better"
   ]
  },
  {
   "cell_type": "code",
   "execution_count": null,
   "metadata": {
    "ExecuteTime": {
     "end_time": "2019-10-01T22:02:00.132165Z",
     "start_time": "2019-10-01T22:01:56.549293Z"
    }
   },
   "outputs": [],
   "source": [
    "log_results = groups_with_baseline.apply(utils.linear_fit_params, 'logRelMaskContrast', 'logThreshElev').reset_index()\n",
    "\n",
    "log_results.rsquared.mean()"
   ]
  },
  {
   "cell_type": "code",
   "execution_count": null,
   "metadata": {
    "ExecuteTime": {
     "end_time": "2019-10-01T22:02:00.714883Z",
     "start_time": "2019-10-01T22:02:00.135766Z"
    }
   },
   "outputs": [],
   "source": [
    "log_results.boxplot(column='rsquared', by=['Orientation', 'Population', 'Presentation'], grid=False, figsize=(16, 4))"
   ]
  },
  {
   "cell_type": "markdown",
   "metadata": {},
   "source": [
    "## Conclusion: linear fits are overall better."
   ]
  },
  {
   "cell_type": "markdown",
   "metadata": {},
   "source": [
    "## Identify subjects with negative slope (for Jian)"
   ]
  },
  {
   "cell_type": "code",
   "execution_count": null,
   "metadata": {
    "ExecuteTime": {
     "end_time": "2019-10-01T22:02:00.849742Z",
     "start_time": "2019-10-01T22:02:00.724241Z"
    }
   },
   "outputs": [],
   "source": [
    "neg_slopes = lin_results[lin_results['slope']<0]\n",
    "neg_slopes"
   ]
  },
  {
   "cell_type": "code",
   "execution_count": null,
   "metadata": {
    "ExecuteTime": {
     "end_time": "2019-10-01T22:02:00.977217Z",
     "start_time": "2019-10-01T22:02:00.879732Z"
    }
   },
   "outputs": [],
   "source": [
    "neg_slopes.Subject.unique()"
   ]
  },
  {
   "cell_type": "markdown",
   "metadata": {},
   "source": [
    "## Exclude bad fits (new 2019-02-25)"
   ]
  },
  {
   "cell_type": "code",
   "execution_count": null,
   "metadata": {
    "ExecuteTime": {
     "end_time": "2019-10-01T22:02:01.105878Z",
     "start_time": "2019-10-01T22:02:00.980364Z"
    }
   },
   "outputs": [],
   "source": [
    "len(lin_results)"
   ]
  },
  {
   "cell_type": "code",
   "execution_count": null,
   "metadata": {
    "ExecuteTime": {
     "end_time": "2019-10-01T22:02:01.187547Z",
     "start_time": "2019-10-01T22:02:01.109073Z"
    }
   },
   "outputs": [],
   "source": [
    "lin_results_exc = lin_results.groupby(['Task', 'Population']).apply(utils.remove_outliers_halfvar).reset_index(drop=True)"
   ]
  },
  {
   "cell_type": "code",
   "execution_count": null,
   "metadata": {
    "ExecuteTime": {
     "end_time": "2019-10-01T22:02:01.254817Z",
     "start_time": "2019-10-01T22:02:01.190856Z"
    }
   },
   "outputs": [],
   "source": [
    "lin_results_exc.rsquared.min()"
   ]
  },
  {
   "cell_type": "code",
   "execution_count": null,
   "metadata": {
    "ExecuteTime": {
     "end_time": "2019-10-01T22:02:01.318823Z",
     "start_time": "2019-10-01T22:02:01.257418Z"
    }
   },
   "outputs": [],
   "source": [
    "lin_results_exc.Subject.value_counts().sum()"
   ]
  },
  {
   "cell_type": "code",
   "execution_count": null,
   "metadata": {
    "ExecuteTime": {
     "end_time": "2019-10-01T22:02:01.401490Z",
     "start_time": "2019-10-01T22:02:01.326755Z"
    }
   },
   "outputs": [],
   "source": [
    "231/256"
   ]
  },
  {
   "cell_type": "code",
   "execution_count": null,
   "metadata": {
    "ExecuteTime": {
     "end_time": "2019-10-01T22:02:01.498703Z",
     "start_time": "2019-10-01T22:02:01.407528Z"
    }
   },
   "outputs": [],
   "source": [
    "pp_subs_exc = lin_results_exc.Subject.unique()\n",
    "print(f'There are {len(pp_subs_exc)} unique subjects who have at least one condition of data.')"
   ]
  },
  {
   "cell_type": "markdown",
   "metadata": {},
   "source": [
    "## Actually use the linear model to predict thresholds"
   ]
  },
  {
   "cell_type": "code",
   "execution_count": null,
   "metadata": {
    "ExecuteTime": {
     "end_time": "2019-10-01T22:02:05.162699Z",
     "start_time": "2019-10-01T22:02:01.507165Z"
    }
   },
   "outputs": [],
   "source": [
    "lin_preds = groups_with_baseline.apply(utils.linear_fit_predictions, 'RelMaskContrast', 'ThreshElev').reset_index()"
   ]
  },
  {
   "cell_type": "code",
   "execution_count": null,
   "metadata": {
    "ExecuteTime": {
     "end_time": "2019-10-01T22:02:05.248080Z",
     "start_time": "2019-10-01T22:02:05.165538Z"
    }
   },
   "outputs": [],
   "source": [
    "lin_preds.columns"
   ]
  },
  {
   "cell_type": "code",
   "execution_count": null,
   "metadata": {
    "ExecuteTime": {
     "end_time": "2019-10-01T22:02:05.327592Z",
     "start_time": "2019-10-01T22:02:05.250698Z"
    }
   },
   "outputs": [],
   "source": [
    "lin_preds.head()"
   ]
  },
  {
   "cell_type": "code",
   "execution_count": null,
   "metadata": {
    "ExecuteTime": {
     "end_time": "2019-10-01T22:02:05.421310Z",
     "start_time": "2019-10-01T22:02:05.330474Z"
    }
   },
   "outputs": [],
   "source": [
    "plot_df = pd.merge(df_to_model, lin_preds, on=pp_gvars_base + ['RelMaskContrast'])\n",
    "\n",
    "plot_df.head()"
   ]
  },
  {
   "cell_type": "markdown",
   "metadata": {},
   "source": [
    "### Plot observed values and model fits"
   ]
  },
  {
   "cell_type": "code",
   "execution_count": null,
   "metadata": {
    "ExecuteTime": {
     "end_time": "2019-10-01T22:02:05.495079Z",
     "start_time": "2019-10-01T22:02:05.426314Z"
    }
   },
   "outputs": [],
   "source": [
    "#s.group_facet_plots(plot_df, s.subject_fit_plot,\n",
    "#                    f\"{plot_dir}/{task}_regressions_combinedplots_n{n_pp_subjs_thistask}_TOP.pdf\",\n",
    "#                    ['Task','Orientation','Presentation'], #each combo of this gets its own page\n",
    "#                    row='Population',col='Eye',# facet rows and columns\n",
    "#                    x=\"RelMaskContrast\", y=\"ThreshElev\", # x, y\n",
    "#                    hue=\"Subject\",yerr='ThreshElev_SE',fmt_obs='.',fmt_pred='x:',Ycol=\"ThreshPred\") "
   ]
  },
  {
   "cell_type": "code",
   "execution_count": null,
   "metadata": {
    "ExecuteTime": {
     "end_time": "2019-10-01T22:02:05.601375Z",
     "start_time": "2019-10-01T22:02:05.497635Z"
    }
   },
   "outputs": [],
   "source": [
    "#s.group_facet_plots(plot_df, s.population_fit_plot,\n",
    "#                    f\"{plot_dir}/{task}_regressions_combinedplots_n{n_pp_subjs_thistask}_TO.pdf\",\n",
    "#                    ['Task','Orientation'], #each combo of this gets its own page\n",
    "#                    row='Presentation',col='Eye',# facet rows and columns\n",
    "#                    x=\"RelMaskContrast\", y=\"ThreshElev\", # x, y\n",
    "#                    hue=\"Population\",yerr='ThreshElev_SE',fmt_obs='.',fmt_pred='x:',Ycol=\"ThreshPred\") "
   ]
  },
  {
   "cell_type": "markdown",
   "metadata": {},
   "source": [
    "## Now exclude the predictions for the bad fits"
   ]
  },
  {
   "cell_type": "code",
   "execution_count": null,
   "metadata": {
    "ExecuteTime": {
     "end_time": "2019-10-01T22:02:05.692925Z",
     "start_time": "2019-10-01T22:02:05.606847Z"
    }
   },
   "outputs": [],
   "source": [
    "lin_results.Orientation.value_counts()"
   ]
  },
  {
   "cell_type": "code",
   "execution_count": null,
   "metadata": {
    "ExecuteTime": {
     "end_time": "2019-10-01T22:02:05.772354Z",
     "start_time": "2019-10-01T22:02:05.697445Z"
    }
   },
   "outputs": [],
   "source": [
    "lin_results_exc.Orientation.value_counts()"
   ]
  },
  {
   "cell_type": "code",
   "execution_count": null,
   "metadata": {
    "ExecuteTime": {
     "end_time": "2019-10-01T22:02:05.857742Z",
     "start_time": "2019-10-01T22:02:05.782658Z"
    }
   },
   "outputs": [],
   "source": [
    "lin_results_exc.Population.value_counts()"
   ]
  },
  {
   "cell_type": "code",
   "execution_count": null,
   "metadata": {
    "ExecuteTime": {
     "end_time": "2019-10-01T22:02:05.961236Z",
     "start_time": "2019-10-01T22:02:05.863379Z"
    }
   },
   "outputs": [],
   "source": [
    "lin_results.Population.value_counts()"
   ]
  },
  {
   "cell_type": "code",
   "execution_count": null,
   "metadata": {
    "ExecuteTime": {
     "end_time": "2019-10-01T22:02:06.098383Z",
     "start_time": "2019-10-01T22:02:05.968662Z"
    }
   },
   "outputs": [],
   "source": [
    "comb_rsq_preds = pd.merge(lin_results_exc, lin_preds, on=pp_gvars_base)"
   ]
  },
  {
   "cell_type": "code",
   "execution_count": null,
   "metadata": {
    "ExecuteTime": {
     "end_time": "2019-10-01T22:02:06.149535Z",
     "start_time": "2019-10-01T22:02:06.102384Z"
    }
   },
   "outputs": [],
   "source": [
    "comb_rsq_preds.rsquared.min()"
   ]
  },
  {
   "cell_type": "code",
   "execution_count": null,
   "metadata": {
    "ExecuteTime": {
     "end_time": "2019-10-01T22:02:06.293374Z",
     "start_time": "2019-10-01T22:02:06.199650Z"
    }
   },
   "outputs": [],
   "source": [
    "comb_rsq_preds.head()"
   ]
  },
  {
   "cell_type": "markdown",
   "metadata": {},
   "source": [
    "### Pick an xvalue (RelMaskContrast) to evaluate models at"
   ]
  },
  {
   "cell_type": "markdown",
   "metadata": {},
   "source": [
    " * 2018-09-24: Abandoning Eunice's binning. Instead, try to figure out a good RelMaskContrast programatically.\n",
    "   * Just looking at it via describe(), i'd say somewhere between 5 and 10 -- probably 6 (for SS) and 10 (for OS)\n",
    " * 2018-10-08: My previous approach was too subjective. Instead, evaluate model at various percentiles...\n",
    "   * do this separately for Task, Orientation, Presentation (so pick 8 total numbers)\n",
    "   * At this point it's easier to just use the statsmodels.ols functions maybe? The way it's currently done is a legacy that allows different models to be swapped in... which I hope to god is not going to be the direction we go in again.\n",
    "   * nvm, used the lmfit solution since it returned a nicely formatted pfit df and is tested to work\n",
    "   * Here I want to take the slope and y-int and calculate the model prediction at the specified percentiles above (0-1, increments of 0.2). So, first calculate the RelMC at each of those percentiles, then apply it like below.\n"
   ]
  },
  {
   "cell_type": "code",
   "execution_count": null,
   "metadata": {
    "ExecuteTime": {
     "end_time": "2019-10-01T22:02:06.346546Z",
     "start_time": "2019-10-01T22:02:06.296822Z"
    }
   },
   "outputs": [],
   "source": [
    "percentile_bins = np.linspace(0, 1, num=11)"
   ]
  },
  {
   "cell_type": "code",
   "execution_count": null,
   "metadata": {
    "ExecuteTime": {
     "end_time": "2019-10-01T22:02:06.408950Z",
     "start_time": "2019-10-01T22:02:06.349891Z"
    }
   },
   "outputs": [],
   "source": [
    "percentile_bins"
   ]
  },
  {
   "cell_type": "markdown",
   "metadata": {},
   "source": [
    "#### Get the interpolated RelMaskContrasts for each regression line, i.e. the range of x-values"
   ]
  },
  {
   "cell_type": "code",
   "execution_count": null,
   "metadata": {
    "ExecuteTime": {
     "end_time": "2019-10-01T22:02:08.596106Z",
     "start_time": "2019-10-01T22:02:06.411916Z"
    }
   },
   "outputs": [],
   "source": [
    "relmc_pcts_df = comb_rsq_preds.groupby(pp_gvars_base)['RelMaskContrast'].describe(percentiles=percentile_bins)"
   ]
  },
  {
   "cell_type": "code",
   "execution_count": null,
   "metadata": {
    "ExecuteTime": {
     "end_time": "2019-10-01T22:02:08.709441Z",
     "start_time": "2019-10-01T22:02:08.598613Z"
    }
   },
   "outputs": [],
   "source": [
    "# fix stupid column naming from describe()\n",
    "relmc_pcts_df.columns = [f\"{int(float(col[:-1])):03d}\" if col[-1]==\"%\" else col for col in relmc_pcts_df.columns]"
   ]
  },
  {
   "cell_type": "code",
   "execution_count": null,
   "metadata": {
    "ExecuteTime": {
     "end_time": "2019-10-01T22:02:08.784457Z",
     "start_time": "2019-10-01T22:02:08.713187Z"
    }
   },
   "outputs": [],
   "source": [
    "relmc_pcts_df.columns"
   ]
  },
  {
   "cell_type": "code",
   "execution_count": null,
   "metadata": {
    "ExecuteTime": {
     "end_time": "2019-10-01T22:02:08.891331Z",
     "start_time": "2019-10-01T22:02:08.794391Z"
    }
   },
   "outputs": [],
   "source": [
    "relmc_pcts_df = relmc_pcts_df.filter(regex='0|1')\n",
    "relmc_pcts_df.head()"
   ]
  },
  {
   "cell_type": "code",
   "execution_count": null,
   "metadata": {
    "ExecuteTime": {
     "end_time": "2019-10-01T22:02:08.967361Z",
     "start_time": "2019-10-01T22:02:08.896025Z"
    }
   },
   "outputs": [],
   "source": [
    "relmc_pcts_df.columns"
   ]
  },
  {
   "cell_type": "code",
   "execution_count": null,
   "metadata": {
    "ExecuteTime": {
     "end_time": "2019-10-01T22:02:09.098705Z",
     "start_time": "2019-10-01T22:02:08.976945Z"
    }
   },
   "outputs": [],
   "source": [
    "relmc_pcts_df_melted = relmc_pcts_df.reset_index().melt(id_vars=pp_gvars_base, var_name='percentile', value_name='RelMaskContrast_pct')"
   ]
  },
  {
   "cell_type": "code",
   "execution_count": null,
   "metadata": {
    "ExecuteTime": {
     "end_time": "2019-10-01T22:02:09.186080Z",
     "start_time": "2019-10-01T22:02:09.102388Z"
    }
   },
   "outputs": [],
   "source": [
    "relmc_pcts_df_melted.head()"
   ]
  },
  {
   "cell_type": "code",
   "execution_count": null,
   "metadata": {
    "ExecuteTime": {
     "end_time": "2019-10-01T22:02:09.248964Z",
     "start_time": "2019-10-01T22:02:09.196449Z"
    }
   },
   "outputs": [],
   "source": [
    "predict_pcts_df = pd.merge(lin_results_exc, relmc_pcts_df_melted, on=pp_gvars_base)"
   ]
  },
  {
   "cell_type": "code",
   "execution_count": null,
   "metadata": {
    "ExecuteTime": {
     "end_time": "2019-10-01T22:02:09.328667Z",
     "start_time": "2019-10-01T22:02:09.253892Z"
    }
   },
   "outputs": [],
   "source": [
    "predict_pcts_df.head()"
   ]
  },
  {
   "cell_type": "code",
   "execution_count": null,
   "metadata": {
    "ExecuteTime": {
     "end_time": "2019-10-01T22:02:09.387921Z",
     "start_time": "2019-10-01T22:02:09.331114Z"
    }
   },
   "outputs": [],
   "source": [
    "predict_pcts_df['percentile'] = predict_pcts_df['percentile'].astype(int)\n",
    "predict_pcts_df['RelMaskContrast_pct'] = predict_pcts_df['RelMaskContrast_pct'].astype(float)\n",
    "predict_pcts_df['relmc_bin'] = (np.around(predict_pcts_df['RelMaskContrast_pct'])).astype(int)\n",
    "predict_pcts_df['ThreshElev_pct'] = (predict_pcts_df['y_int'] + (predict_pcts_df['RelMaskContrast_pct']*predict_pcts_df['slope'])).astype('float')"
   ]
  },
  {
   "cell_type": "code",
   "execution_count": null,
   "metadata": {
    "ExecuteTime": {
     "end_time": "2019-10-01T22:02:09.482195Z",
     "start_time": "2019-10-01T22:02:09.391514Z"
    }
   },
   "outputs": [],
   "source": [
    "predict_pcts_df.head()"
   ]
  },
  {
   "cell_type": "code",
   "execution_count": null,
   "metadata": {
    "ExecuteTime": {
     "end_time": "2019-10-01T22:02:09.564132Z",
     "start_time": "2019-10-01T22:02:09.485958Z"
    }
   },
   "outputs": [],
   "source": [
    "predict_pcts_df.rsquared.min()"
   ]
  },
  {
   "cell_type": "code",
   "execution_count": null,
   "metadata": {
    "ExecuteTime": {
     "end_time": "2019-10-01T22:02:11.185390Z",
     "start_time": "2019-10-01T22:02:09.568342Z"
    }
   },
   "outputs": [],
   "source": [
    "gvars_test = ['Task','Orientation','Presentation','Population']\n",
    "# equal_var=False makes it Welch's t-test, which does not assume the groups have equal variance\n",
    "selected_bin_df = utils.find_pct_to_predict(predict_pcts_df, gvars_test,\n",
    "                    'relmc_bin', 'ThreshElev_pct', test_func=st.ttest_ind, equal_var=False)"
   ]
  },
  {
   "cell_type": "code",
   "execution_count": null,
   "metadata": {
    "ExecuteTime": {
     "end_time": "2019-10-01T22:02:11.287940Z",
     "start_time": "2019-10-01T22:02:11.188046Z"
    }
   },
   "outputs": [],
   "source": [
    "g_TOP = selected_bin_df.groupby(['Task', 'Orientation', 'Presentation'])\n",
    "def set_relmctopred_to_amb_val(g):\n",
    "    ambs = g[g['Population']=='Amblyope']\n",
    "    assert(np.all(ambs['RelMCToPred']==ambs['RelMCToPred'].iat[0]))\n",
    "    assert(np.all(ambs['BinNumberToPred']==ambs['BinNumberToPred'].iat[0]))\n",
    "    g['RelMCToPred'] = ambs['RelMCToPred'].iat[0]\n",
    "    g['BinNumberToPred'] = ambs['BinNumberToPred'].iat[0]\n",
    "    return g\n",
    "selected_bin_df = g_TOP.apply(set_relmctopred_to_amb_val).reset_index()"
   ]
  },
  {
   "cell_type": "code",
   "execution_count": null,
   "metadata": {
    "ExecuteTime": {
     "end_time": "2019-10-01T22:02:11.488629Z",
     "start_time": "2019-10-01T22:02:11.292045Z"
    }
   },
   "outputs": [],
   "source": [
    "selected_bin_df.groupby(gvars_test)['RelMCToPred','ThreshElev_pct'].describe()"
   ]
  },
  {
   "cell_type": "code",
   "execution_count": null,
   "metadata": {
    "ExecuteTime": {
     "end_time": "2019-10-01T22:02:11.589090Z",
     "start_time": "2019-10-01T22:02:11.492028Z"
    }
   },
   "outputs": [],
   "source": [
    "selected_bin_df['ThreshPredCritical'] = selected_bin_df['y_int'] + selected_bin_df['slope'] * selected_bin_df['RelMCToPred']\n",
    "selected_bin_df['ThreshPredCriticalUnnorm'] = selected_bin_df['ThreshPredCritical'] * selected_bin_df['BaselineThresh']"
   ]
  },
  {
   "cell_type": "code",
   "execution_count": null,
   "metadata": {
    "ExecuteTime": {
     "end_time": "2019-10-01T22:02:11.798302Z",
     "start_time": "2019-10-01T22:02:11.592138Z"
    }
   },
   "outputs": [],
   "source": [
    "selected_bin_df"
   ]
  },
  {
   "cell_type": "markdown",
   "metadata": {},
   "source": [
    "### Melt the result of the modeling into long format for plotting"
   ]
  },
  {
   "cell_type": "code",
   "execution_count": null,
   "metadata": {
    "ExecuteTime": {
     "end_time": "2019-10-01T22:02:11.917537Z",
     "start_time": "2019-10-01T22:02:11.802053Z"
    }
   },
   "outputs": [],
   "source": [
    "pfit_all_ppsub = pd.melt(selected_bin_df, id_vars=[*pp_gvars, 'rsquared'],\n",
    "                    value_vars=['BaselineThresh', 'y_int', 'slope', 'ThreshPredCritical', 'ThreshPredCriticalUnnorm'],\n",
    "                    var_name='measure')\n",
    "pfit_all_ppsub.head()"
   ]
  },
  {
   "cell_type": "code",
   "execution_count": null,
   "metadata": {
    "ExecuteTime": {
     "end_time": "2019-10-01T22:02:12.019341Z",
     "start_time": "2019-10-01T22:02:11.923353Z"
    }
   },
   "outputs": [],
   "source": [
    "pp_stats = pfit_all_ppsub[(pfit_all_ppsub.measure==\"ThreshPredCritical\") | \n",
    "                          (pfit_all_ppsub.measure==\"slope\")].drop_duplicates()"
   ]
  },
  {
   "cell_type": "code",
   "execution_count": null,
   "metadata": {
    "ExecuteTime": {
     "end_time": "2019-10-01T22:02:12.112640Z",
     "start_time": "2019-10-01T22:02:12.022737Z"
    }
   },
   "outputs": [],
   "source": [
    "pp_slopes = pfit_all_ppsub[pfit_all_ppsub.measure==\"slope\"].drop_duplicates()"
   ]
  },
  {
   "cell_type": "code",
   "execution_count": null,
   "metadata": {
    "ExecuteTime": {
     "end_time": "2019-10-01T22:02:12.452327Z",
     "start_time": "2019-10-01T22:02:12.117008Z"
    }
   },
   "outputs": [],
   "source": [
    "pp_stats.groupby(['Task', 'Orientation', 'Presentation', 'Population', 'Eye', 'Trace','measure'])['value'].describe(percentiles=[.5])"
   ]
  },
  {
   "cell_type": "code",
   "execution_count": null,
   "metadata": {
    "ExecuteTime": {
     "end_time": "2019-10-01T22:02:12.654955Z",
     "start_time": "2019-10-01T22:02:12.455510Z"
    }
   },
   "outputs": [],
   "source": [
    "def test_suppression_diffs(g):\n",
    "    ndes = np.unique(g[g.Eye=='Nde']['value'])\n",
    "    des = np.unique(g[g.Eye=='De']['value'])\n",
    "    #g.hist()\n",
    "    print(len(ndes), ' ', len(des))\n",
    "    print(st.ttest_ind(ndes, des))\n",
    "    return st.ttest_ind(ndes, des)\n",
    "\n",
    "gs = pp_stats.groupby(['Task', 'Orientation', 'Presentation', 'Population', 'measure'])\n",
    "for gv, g in gs:\n",
    "    print(gv)\n",
    "    test_suppression_diffs(g)"
   ]
  },
  {
   "cell_type": "markdown",
   "metadata": {},
   "source": [
    "## Subset to include only (GABA and psychophyics) subjects"
   ]
  },
  {
   "cell_type": "code",
   "execution_count": null,
   "metadata": {
    "ExecuteTime": {
     "end_time": "2019-10-01T22:02:12.731805Z",
     "start_time": "2019-10-01T22:02:12.665467Z"
    }
   },
   "outputs": [],
   "source": [
    "gaba_and_pp_subjs = list(np.intersect1d(pp_subjs, gaba_subjs))\n",
    "n_gaba_and_pp_subjs = len(gaba_and_pp_subjs)"
   ]
  },
  {
   "cell_type": "code",
   "execution_count": null,
   "metadata": {
    "ExecuteTime": {
     "end_time": "2019-10-01T22:02:12.818080Z",
     "start_time": "2019-10-01T22:02:12.735301Z"
    }
   },
   "outputs": [],
   "source": [
    "sdf = sdf[sdf.Subject.isin(gaba_and_pp_subjs)] # only subjects who did _the current_ pp task and GABA\n",
    "gaba_and_pp_subjs_thistask = np.unique(sdf.Subject)\n",
    "n_gaba_and_pp_subjs_thistask = len(gaba_and_pp_subjs_thistask)\n",
    "print(f\"Of the {n_gaba_and_pp_subjs} subjects with both GABA and psychophysics data, {n_gaba_and_pp_subjs_thistask} have both for task {task}.\\n{gaba_and_pp_subjs_thistask}\")"
   ]
  },
  {
   "cell_type": "markdown",
   "metadata": {},
   "source": [
    "### Remove subjects we don't have data on both GABA/PP for"
   ]
  },
  {
   "cell_type": "code",
   "execution_count": null,
   "metadata": {
    "ExecuteTime": {
     "end_time": "2019-10-01T22:02:12.886758Z",
     "start_time": "2019-10-01T22:02:12.821893Z"
    }
   },
   "outputs": [],
   "source": [
    "gdf = gdf[gdf.subjName.isin(sdf.Subject)] # only subjects who did both tasks\n",
    "amb_subjs = (gdf[gdf.Population=='Persons with Amblyopia'])\n",
    "print(f'Of the {len(gdf)} subjects with GABA and {task} data, {len(amb_subjs)} are Amblyopes.')\n",
    "n_this_task = len(gdf)"
   ]
  },
  {
   "cell_type": "code",
   "execution_count": null,
   "metadata": {
    "ExecuteTime": {
     "end_time": "2019-10-01T22:02:13.127279Z",
     "start_time": "2019-10-01T22:02:12.903030Z"
    }
   },
   "outputs": [],
   "source": [
    "stats_thistask = lin_results_exc[lin_results_exc.Subject.isin(gaba_and_pp_subjs_thistask)].groupby(['Subject'])['rsquared'].describe()"
   ]
  },
  {
   "cell_type": "code",
   "execution_count": null,
   "metadata": {
    "ExecuteTime": {
     "end_time": "2019-10-01T22:02:13.194699Z",
     "start_time": "2019-10-01T22:02:13.130440Z"
    }
   },
   "outputs": [],
   "source": [
    "stats_thistask"
   ]
  },
  {
   "cell_type": "code",
   "execution_count": null,
   "metadata": {
    "ExecuteTime": {
     "end_time": "2019-10-01T22:02:13.247530Z",
     "start_time": "2019-10-01T22:02:13.198620Z"
    }
   },
   "outputs": [],
   "source": [
    "n_gaba_and_pp_subjs_thistask * 8 - stats_thistask['count'].sum()"
   ]
  },
  {
   "cell_type": "markdown",
   "metadata": {},
   "source": [
    "## Combine Psychophysics and GABA below"
   ]
  },
  {
   "cell_type": "code",
   "execution_count": null,
   "metadata": {
    "ExecuteTime": {
     "end_time": "2019-10-01T22:02:13.336928Z",
     "start_time": "2019-10-01T22:02:13.250692Z"
    }
   },
   "outputs": [],
   "source": [
    "#Grab the GABA measure for each subject and append it to each observation for easy plotting\n",
    "comb = pfit_all_ppsub.join(gdf.set_index(['subjName'])['GABA'], on=['Subject'])\n",
    "comb.drop_duplicates(inplace=True)\n",
    "\n",
    "#subset to include only those subjects with GABA data\n",
    "comb_gabappsub = comb[~np.isnan(comb['GABA'])]\n",
    "print(len(comb), len(comb_gabappsub))\n"
   ]
  },
  {
   "cell_type": "code",
   "execution_count": null,
   "metadata": {
    "ExecuteTime": {
     "end_time": "2019-10-01T22:02:13.423953Z",
     "start_time": "2019-10-01T22:02:13.341610Z"
    }
   },
   "outputs": [],
   "source": [
    "comb_gabappsub.head(n=10)"
   ]
  },
  {
   "cell_type": "markdown",
   "metadata": {},
   "source": [
    "### Add copies of rows to simulate weighting by rsquared\n",
    "\n",
    " * (bypassed by modifying seaborn's bootstrap, 2019-08-22)\n",
    " * (weighting dropped 2019-08-26 after MAS meeting)"
   ]
  },
  {
   "cell_type": "code",
   "execution_count": null,
   "metadata": {
    "ExecuteTime": {
     "end_time": "2019-10-01T22:02:13.500093Z",
     "start_time": "2019-10-01T22:02:13.429950Z"
    }
   },
   "outputs": [],
   "source": [
    "#rep = np.ones(len(comb_gabappsub))\n",
    "#times = np.around(comb_gabappsub['rsquared']*10)\n",
    "#.iloc[np.arange(len(comb_gabappsub))]\n",
    "#print(rep, times, rep*times)\n",
    "#comb_gabappsub_weighted = comb_gabappsub.iloc[np.arange(len(comb_gabappsub)).repeat(times)]"
   ]
  },
  {
   "cell_type": "markdown",
   "metadata": {},
   "source": [
    "### Do Spearman's R"
   ]
  },
  {
   "cell_type": "code",
   "execution_count": null,
   "metadata": {
    "ExecuteTime": {
     "end_time": "2019-10-01T22:02:13.590295Z",
     "start_time": "2019-10-01T22:02:13.503001Z"
    }
   },
   "outputs": [],
   "source": [
    "spearman_df = comb_gabappsub[(comb_gabappsub.measure == 'BaselineThresh') | \n",
    "                             (comb_gabappsub.measure == 'ThreshPredCritical')]"
   ]
  },
  {
   "cell_type": "code",
   "execution_count": null,
   "metadata": {
    "ExecuteTime": {
     "end_time": "2019-10-01T22:02:13.762906Z",
     "start_time": "2019-10-01T22:02:13.599237Z"
    }
   },
   "outputs": [],
   "source": [
    "plot_groups = spearman_df.groupby(['Task','Orientation','Presentation','Population','measure','Eye','Trace'])\n",
    "for gv, gr in plot_groups:\n",
    "    #if 'nDicho' in gv:\n",
    "    print(gv)\n",
    "    print(stats.spearmanr(gr.GABA, gr.value))"
   ]
  },
  {
   "cell_type": "code",
   "execution_count": null,
   "metadata": {
    "ExecuteTime": {
     "end_time": "2019-10-01T22:02:22.623680Z",
     "start_time": "2019-10-01T22:02:13.766529Z"
    }
   },
   "outputs": [],
   "source": [
    "#graphs!\n",
    "colors_a = [\"#3274a1\",\"#72b4e1\"]\n",
    "colors_c = [\"#e1812c\", \"#ffc68c\"]\n",
    "with s.PdfPages(f\"{plot_dir}/gaba_vs_{task}_n{n_this_task}_{gaba_col}.pdf\") as pdf:\n",
    "    plot_groups = spearman_df.groupby(['Task','Orientation','Presentation','Population','measure'])\n",
    "    plot_groups_eacheye = spearman_df.groupby(['Task','Orientation','Presentation','Population','measure','Eye'])\n",
    "    for gv, gr in plot_groups:\n",
    "        #if gv[2] == 'nDicho':\n",
    "        print(gv, np.all(np.isnan(gr['value'])), len(gr['value']))\n",
    "        pal = [colors_a if 'Amblyope' in gv else colors_c]\n",
    "        g2 = s.gaba_vs_psychophys_plot_2line_nofacet(gv, gr, palette=pal[0], aspect=1.2)\n",
    "        pdf.savefig(g2.fig)\n",
    "\n",
    "plt.close('all')"
   ]
  },
  {
   "cell_type": "code",
   "execution_count": null,
   "metadata": {
    "ExecuteTime": {
     "end_time": "2019-10-01T22:02:32.287204Z",
     "start_time": "2019-10-01T22:02:22.625962Z"
    }
   },
   "outputs": [],
   "source": [
    "with s.PdfPages(f\"{plot_dir}/gaba_vs_{task}_n{n_this_task}_{gaba_col}_ind.pdf\") as pdf:\n",
    "    for gv, gr in plot_groups:\n",
    "        print(gv)\n",
    "        g = s.gaba_vs_psychophys_plot(gv, gr, hue=\"Eye\",\n",
    "                    palette=dict(De=\"g\", Nde=\"m\"),\n",
    "                    n_boot=1000, height=8, aspect=1, legend_out=True, truncate=True)\n",
    "        g.fig.suptitle(f\"{gv} unweighted\", fontsize=10, y=0.999)\n",
    "        pdf.savefig(g.fig)\n",
    "        plt.close('all')"
   ]
  },
  {
   "cell_type": "code",
   "execution_count": null,
   "metadata": {
    "ExecuteTime": {
     "end_time": "2019-10-01T22:02:41.097690Z",
     "start_time": "2019-10-01T22:02:32.291121Z"
    }
   },
   "outputs": [],
   "source": [
    "facet_groups = spearman_df.groupby(['Task','Orientation','Presentation','measure'])\n",
    "with s.PdfPages(f\"{plot_dir}/gaba_vs_{task}_n{n_this_task}_{gaba_col}_facet.pdf\") as pdf:\n",
    "    for gv, gr in facet_groups:\n",
    "        print(gv)\n",
    "        g = s.gaba_vs_psychophys_plot(gv, gr, \n",
    "                    legend_box=[0.89, 0.60, 0.1, 0.1],\n",
    "                    col=\"Population\", hue=\"Eye\",\n",
    "                    palette=dict(De=\"g\", Nde=\"m\"),\n",
    "                    n_boot=1000, truncate=True)#, legend=False)\n",
    "        g.fig.suptitle(f\"{gv}\", fontsize=10, y=0.999)\n",
    "        pdf.savefig(g.fig)\n",
    "        plt.close('all')"
   ]
  },
  {
   "cell_type": "code",
   "execution_count": null,
   "metadata": {
    "ExecuteTime": {
     "end_time": "2019-10-01T22:04:54.413136Z",
     "start_time": "2019-10-01T22:02:41.101064Z"
    }
   },
   "outputs": [],
   "source": [
    "rdiffs_nores = facet_groups.apply(utils.compare_rs, n_boot=1000, resample=False).reset_index()\\\n",
    "            .rename(columns={\"level_4\":\"iteration\"})"
   ]
  },
  {
   "cell_type": "code",
   "execution_count": null,
   "metadata": {
    "ExecuteTime": {
     "end_time": "2019-10-01T22:04:54.543367Z",
     "start_time": "2019-10-01T22:04:54.417870Z"
    }
   },
   "outputs": [],
   "source": [
    "rdiffs = rdiffs_nores\n",
    "rdiffs.head()"
   ]
  },
  {
   "cell_type": "code",
   "execution_count": null,
   "metadata": {
    "ExecuteTime": {
     "end_time": "2019-10-01T22:04:54.602197Z",
     "start_time": "2019-10-01T22:04:54.548147Z"
    }
   },
   "outputs": [],
   "source": [
    "rdiffs_supp = rdiffs[rdiffs['measure']==\"ThreshPredCritical\"]"
   ]
  },
  {
   "cell_type": "code",
   "execution_count": null,
   "metadata": {
    "ExecuteTime": {
     "end_time": "2019-10-01T22:04:55.042130Z",
     "start_time": "2019-10-01T22:04:54.606663Z"
    }
   },
   "outputs": [],
   "source": [
    "rdiffs_supp.boxplot(column='amb_rdiff', by=['Task','Orientation','Presentation','measure'],\n",
    "               grid=False, figsize=(16, 4))"
   ]
  },
  {
   "cell_type": "code",
   "execution_count": null,
   "metadata": {
    "ExecuteTime": {
     "end_time": "2019-10-01T22:04:55.983030Z",
     "start_time": "2019-10-01T22:04:55.045487Z"
    }
   },
   "outputs": [],
   "source": [
    "rdiffs_supp.hist(column='amb_rdiff', by=['Task','Orientation','Presentation','measure'],\n",
    "               grid=False, figsize=(16, 4))"
   ]
  },
  {
   "cell_type": "code",
   "execution_count": null,
   "metadata": {
    "ExecuteTime": {
     "end_time": "2019-10-01T22:04:56.384188Z",
     "start_time": "2019-10-01T22:04:55.987090Z"
    }
   },
   "outputs": [],
   "source": [
    "rdiffs_supp.boxplot(column='con_rdiff', by=['Task','Orientation','Presentation','measure'],\n",
    "               grid=False, figsize=(16, 4))"
   ]
  },
  {
   "cell_type": "code",
   "execution_count": null,
   "metadata": {
    "ExecuteTime": {
     "end_time": "2019-10-01T22:04:56.749871Z",
     "start_time": "2019-10-01T22:04:56.388597Z"
    }
   },
   "outputs": [],
   "source": [
    "rdiffs_supp.boxplot(column='pop_rdiff', by=['Task','Orientation','Presentation','measure'],\n",
    "               grid=False, figsize=(16, 4))"
   ]
  },
  {
   "cell_type": "code",
   "execution_count": null,
   "metadata": {
    "ExecuteTime": {
     "end_time": "2019-10-01T22:04:56.823244Z",
     "start_time": "2019-10-01T22:04:56.754626Z"
    }
   },
   "outputs": [],
   "source": [
    "comb_gabappsub.head()"
   ]
  },
  {
   "cell_type": "code",
   "execution_count": null,
   "metadata": {
    "ExecuteTime": {
     "end_time": "2019-10-01T22:04:56.877427Z",
     "start_time": "2019-10-01T22:04:56.830256Z"
    }
   },
   "outputs": [],
   "source": [
    "spearman_df.measure.unique()"
   ]
  },
  {
   "cell_type": "code",
   "execution_count": null,
   "metadata": {
    "ExecuteTime": {
     "end_time": "2019-10-01T22:04:56.944979Z",
     "start_time": "2019-10-01T22:04:56.882311Z"
    }
   },
   "outputs": [],
   "source": [
    "kelly_file = f\"{plot_dir}/{task}_data_frame.csv\"\n",
    "spearman_df.to_csv(kelly_file)"
   ]
  },
  {
   "cell_type": "markdown",
   "metadata": {},
   "source": [
    "### Orientation Selective Suppression"
   ]
  },
  {
   "cell_type": "code",
   "execution_count": null,
   "metadata": {
    "ExecuteTime": {
     "end_time": "2019-10-01T22:04:57.001375Z",
     "start_time": "2019-10-01T22:04:56.948367Z"
    }
   },
   "outputs": [],
   "source": [
    "oss_gvars = [\"Task\", \"Presentation\", \"Population\", \"Subject\", \"Eye\", \"Trace\",\n",
    "             \"measure\", \"GABA\"]\n",
    "oss_gvars_combeyes = [\"Task\", \"Presentation\", \"Population\", \"Subject\", \n",
    "             \"measure\", \"GABA\"]"
   ]
  },
  {
   "cell_type": "code",
   "execution_count": null,
   "metadata": {
    "ExecuteTime": {
     "end_time": "2019-10-01T22:04:57.291798Z",
     "start_time": "2019-10-01T22:04:57.005039Z"
    }
   },
   "outputs": [],
   "source": [
    "for gv, g in spearman_df.groupby(oss_gvars):\n",
    "    print(gv, g.Orientation.unique())"
   ]
  },
  {
   "cell_type": "code",
   "execution_count": null,
   "metadata": {
    "ExecuteTime": {
     "end_time": "2019-10-01T22:04:57.651192Z",
     "start_time": "2019-10-01T22:04:57.297742Z"
    }
   },
   "outputs": [],
   "source": [
    "oss_df = spearman_df[spearman_df.measure=='ThreshPredCritical'].groupby(oss_gvars).apply(utils.calculate_orientation_selective_suppression).reset_index()"
   ]
  },
  {
   "cell_type": "code",
   "execution_count": null,
   "metadata": {
    "ExecuteTime": {
     "end_time": "2019-10-01T22:04:57.706058Z",
     "start_time": "2019-10-01T22:04:57.654484Z"
    }
   },
   "outputs": [],
   "source": [
    "print(np.count_nonzero(np.isnan(oss_df.value)), len(oss_df.value))"
   ]
  },
  {
   "cell_type": "code",
   "execution_count": null,
   "metadata": {
    "ExecuteTime": {
     "end_time": "2019-10-01T22:04:57.784170Z",
     "start_time": "2019-10-01T22:04:57.709935Z"
    }
   },
   "outputs": [],
   "source": [
    "oss_df.head(n=15)"
   ]
  },
  {
   "cell_type": "code",
   "execution_count": null,
   "metadata": {
    "ExecuteTime": {
     "end_time": "2019-10-01T22:04:57.836872Z",
     "start_time": "2019-10-01T22:04:57.788582Z"
    }
   },
   "outputs": [],
   "source": [
    "def oss_mean_combeyes(df, **kwargs):\n",
    "    if len(df.Eye.unique())==2:\n",
    "        v1 = df[df.Eye=='Nde']['value'].iloc[0]\n",
    "        v2 = df[df.Eye=='De']['value'].iloc[0]\n",
    "        oss_mean_combeyes = np.mean([v1, v2])\n",
    "    else:\n",
    "        oss_mean_combeyes = np.nan\n",
    "    print(f\"OSS mean across eyes: {oss_mean_combeyes}\")\n",
    "    return pd.Series(oss_mean_combeyes, ['value'])"
   ]
  },
  {
   "cell_type": "code",
   "execution_count": null,
   "metadata": {
    "ExecuteTime": {
     "end_time": "2019-10-01T22:04:58.172004Z",
     "start_time": "2019-10-01T22:04:57.839769Z"
    }
   },
   "outputs": [],
   "source": [
    "for gv, g in oss_df.groupby(oss_gvars_combeyes):\n",
    "    print(gv, g, sep=\"\\n\")"
   ]
  },
  {
   "cell_type": "code",
   "execution_count": null,
   "metadata": {
    "ExecuteTime": {
     "end_time": "2019-10-01T22:04:58.418203Z",
     "start_time": "2019-10-01T22:04:58.176720Z"
    }
   },
   "outputs": [],
   "source": [
    "oss_df_combeyes = oss_df.groupby(oss_gvars_combeyes).apply(oss_mean_combeyes).reset_index()"
   ]
  },
  {
   "cell_type": "code",
   "execution_count": null,
   "metadata": {
    "ExecuteTime": {
     "end_time": "2019-10-01T22:04:58.493986Z",
     "start_time": "2019-10-01T22:04:58.420804Z"
    }
   },
   "outputs": [],
   "source": [
    "oss_df_combeyes"
   ]
  },
  {
   "cell_type": "code",
   "execution_count": null,
   "metadata": {
    "ExecuteTime": {
     "end_time": "2019-10-01T22:05:00.404534Z",
     "start_time": "2019-10-01T22:04:58.497869Z"
    }
   },
   "outputs": [],
   "source": [
    "with s.PdfPages(f\"{plot_dir}/gaba_vs_{task}_n{n_this_task}_oss.pdf\") as pdf:\n",
    "    temp_df = oss_df.copy()\n",
    "    temp_df['Eye'] = temp_df['Eye'].astype('category')\n",
    "    plot_groups = temp_df.groupby(['Task', 'Presentation', 'Population','measure'])\n",
    "    for gv, gr in plot_groups:\n",
    "        #if \"BaselineThresh\" in gv: continue\n",
    "        if \"Amblyope\" in gv:\n",
    "            pal = colors_a\n",
    "        elif \"Control\" in gv:\n",
    "            pal = colors_c\n",
    "        else:\n",
    "            print('Error! neither amb nor con!')\n",
    "        print(gv, np.all(np.isnan(gr['value'])))\n",
    "        g2 = s.gaba_vs_psychophys_plot_2line_nofacet(gv, gr, palette=pal)\n",
    "        pdf.savefig(g2.fig)\n",
    "        \n",
    "    plt.close('all')"
   ]
  },
  {
   "cell_type": "code",
   "execution_count": null,
   "metadata": {
    "ExecuteTime": {
     "end_time": "2019-10-01T22:05:01.835075Z",
     "start_time": "2019-10-01T22:05:00.407732Z"
    }
   },
   "outputs": [],
   "source": [
    "with s.PdfPages(f\"{plot_dir}/gaba_vs_{task}_n{n_this_task}_oss_combeyes.pdf\") as pdf:\n",
    "    temp_df = oss_df_combeyes.copy()\n",
    "    plot_groups = temp_df.groupby(['Task', 'Presentation', 'Population','measure'])\n",
    "    for gv, gr in plot_groups:\n",
    "        #if \"BaselineThresh\" in gv: continue\n",
    "        if \"Amblyope\" in gv:\n",
    "            pal = colors_a\n",
    "            print(gv, np.all(np.isnan(gr['value'])))\n",
    "        elif \"Control\" in gv:\n",
    "            pal = colors_c\n",
    "            print(gv, np.all(np.isnan(gr['value'])),\n",
    "                  stats.spearmanr(gr.GABA, gr.value, nan_policy='omit'), sep='\\n')\n",
    "        else:\n",
    "            print('Error! neither amb nor con!')\n",
    "        g2 = s.oss_plot_2eye(gv, gr, palette=pal)\n",
    "        pdf.savefig(g2.fig)\n",
    "        \n",
    "    plt.close('all')"
   ]
  },
  {
   "cell_type": "markdown",
   "metadata": {},
   "source": [
    "### Combine measures across the two eyes"
   ]
  },
  {
   "cell_type": "markdown",
   "metadata": {},
   "source": [
    " * Does it make sense to combine all measures across both eyes (i.e. by subtracting?) For example, ThreshElev is in units of baseline, and the baseline varies by eye. So perhaps only a few measures should be combined -- say, slope/yint, ThreshPredCriticalUnnorm. "
   ]
  },
  {
   "cell_type": "code",
   "execution_count": null,
   "metadata": {
    "ExecuteTime": {
     "end_time": "2019-10-01T22:05:01.931546Z",
     "start_time": "2019-10-01T22:05:01.838246Z"
    }
   },
   "outputs": [],
   "source": [
    "measures = comb_gabappsub[comb_gabappsub[\"measure\"].isin([\"BaselineThresh\",\"ThreshPredCritical\"])]"
   ]
  },
  {
   "cell_type": "code",
   "execution_count": null,
   "metadata": {
    "ExecuteTime": {
     "end_time": "2019-10-01T22:05:01.985635Z",
     "start_time": "2019-10-01T22:05:01.934544Z"
    }
   },
   "outputs": [],
   "source": [
    "np.unique(measures.measure)"
   ]
  },
  {
   "cell_type": "code",
   "execution_count": null,
   "metadata": {
    "ExecuteTime": {
     "end_time": "2019-10-01T22:05:02.039054Z",
     "start_time": "2019-10-01T22:05:01.988467Z"
    }
   },
   "outputs": [],
   "source": [
    "paired_obs = measures.groupby(['Task', 'Orientation', 'Population', 'Presentation', 'Subject', 'measure'])\n",
    "\n",
    "def get_eyediff_value(g):\n",
    "    if len(g)==2: # this will exclude paired observations where there was no data for one eye\n",
    "        value_diff = g[g['Eye']=='Nde'].value.iat[0] - g[g['Eye']=='De'].value.iat[0]\n",
    "        #print(g.name, value_diff)\n",
    "        return pd.Series([value_diff], ['Nde-De'])\n",
    "    else:\n",
    "        print(f\"Skipping because one eye is missing...\")"
   ]
  },
  {
   "cell_type": "code",
   "execution_count": null,
   "metadata": {
    "ExecuteTime": {
     "end_time": "2019-10-01T22:05:02.491989Z",
     "start_time": "2019-10-01T22:05:02.044446Z"
    }
   },
   "outputs": [],
   "source": [
    "obs_diff = paired_obs.apply(get_eyediff_value).reset_index()"
   ]
  },
  {
   "cell_type": "code",
   "execution_count": null,
   "metadata": {
    "ExecuteTime": {
     "end_time": "2019-10-01T22:05:02.564118Z",
     "start_time": "2019-10-01T22:05:02.495494Z"
    }
   },
   "outputs": [],
   "source": [
    "obs_diff[obs_diff.Subject=='em']"
   ]
  },
  {
   "cell_type": "code",
   "execution_count": null,
   "metadata": {
    "ExecuteTime": {
     "end_time": "2019-10-01T22:05:02.620369Z",
     "start_time": "2019-10-01T22:05:02.566879Z"
    }
   },
   "outputs": [],
   "source": [
    "comb_botheyes = obs_diff.join(gdf.set_index(['subjName'])['GABA'], on=['Subject'])"
   ]
  },
  {
   "cell_type": "code",
   "execution_count": null,
   "metadata": {
    "ExecuteTime": {
     "end_time": "2019-10-01T22:05:02.718302Z",
     "start_time": "2019-10-01T22:05:02.623962Z"
    }
   },
   "outputs": [],
   "source": [
    "comb_botheyes"
   ]
  },
  {
   "cell_type": "code",
   "execution_count": null,
   "metadata": {
    "ExecuteTime": {
     "end_time": "2019-10-01T22:05:02.767616Z",
     "start_time": "2019-10-01T22:05:02.722994Z"
    }
   },
   "outputs": [],
   "source": [
    "print(len(np.unique(comb_botheyes.Subject)))"
   ]
  },
  {
   "cell_type": "code",
   "execution_count": null,
   "metadata": {
    "ExecuteTime": {
     "end_time": "2019-10-01T22:05:02.845570Z",
     "start_time": "2019-10-01T22:05:02.770926Z"
    }
   },
   "outputs": [],
   "source": [
    "test_groups = comb_botheyes.groupby(['Task','Orientation','Presentation','Population','measure'])\n",
    "for gv, gr in test_groups:\n",
    "    #print(gr.head())\n",
    "    if gv[-1]==\"ThreshPredCritical\":\n",
    "        print(gv)\n",
    "        print(stats.spearmanr(gr.GABA, gr['Nde-De']))"
   ]
  },
  {
   "cell_type": "code",
   "execution_count": null,
   "metadata": {
    "ExecuteTime": {
     "end_time": "2019-10-01T22:05:06.646725Z",
     "start_time": "2019-10-01T22:05:02.848268Z"
    },
    "scrolled": true
   },
   "outputs": [],
   "source": [
    "#graphs!\n",
    "with s.PdfPages(f\"{plot_dir}/gaba_vs_{task}_combeyes_n{n_this_task}.pdf\") as pdf:\n",
    "    plot_groups = comb_botheyes.groupby(['Task','Orientation','measure'])\n",
    "    for gv, gr in plot_groups:\n",
    "        print(gv)\n",
    "        g2 = s.gaba_vs_psychophys_plot_2line_2eye(gv, gr)\n",
    "        pdf.savefig(g2.fig)\n",
    "        \n",
    "    plt.close('all')"
   ]
  },
  {
   "cell_type": "code",
   "execution_count": null,
   "metadata": {
    "ExecuteTime": {
     "end_time": "2019-10-01T22:05:08.609490Z",
     "start_time": "2019-10-01T22:05:06.649985Z"
    }
   },
   "outputs": [],
   "source": [
    "# more graphs for presentation!\n",
    "with s.PdfPages(f\"{plot_dir}/gaba_vs_{task}_combeyes_n{n_this_task}_poster.pdf\") as pdf:\n",
    "    plot_groups = comb_botheyes.groupby(['Task','Orientation','Presentation','measure'])\n",
    "    for gv, gr in plot_groups:\n",
    "        if gv[-2] in [\"nDicho\"]: # use this line to exclude measures we don't want\n",
    "            print(gv)\n",
    "            g2 = s.gaba_vs_psychophys_plot_2line_2eye_nofacet(gv, gr, hue=\"Population\", height=5, aspect=1.2, legend=False)\n",
    "            #print(g2.axes)\n",
    "            pdf.savefig(g2.fig)\n",
    "        \n",
    "    plt.close('all')"
   ]
  }
 ],
 "metadata": {
  "anaconda-cloud": {},
  "celltoolbar": "Raw Cell Format",
  "kernelspec": {
   "display_name": "Python 3",
   "language": "python",
   "name": "python3"
  },
  "language_info": {
   "codemirror_mode": {
    "name": "ipython",
    "version": 3
   },
   "file_extension": ".py",
   "mimetype": "text/x-python",
   "name": "python",
   "nbconvert_exporter": "python",
   "pygments_lexer": "ipython3",
   "version": "3.6.8"
  },
  "varInspector": {
   "cols": {
    "lenName": 16,
    "lenType": 16,
    "lenVar": 40
   },
   "kernels_config": {
    "python": {
     "delete_cmd_postfix": "",
     "delete_cmd_prefix": "del ",
     "library": "var_list.py",
     "varRefreshCmd": "print(var_dic_list())"
    },
    "r": {
     "delete_cmd_postfix": ") ",
     "delete_cmd_prefix": "rm(",
     "library": "var_list.r",
     "varRefreshCmd": "cat(var_dic_list()) "
    }
   },
   "types_to_exclude": [
    "module",
    "function",
    "builtin_function_or_method",
    "instance",
    "_Feature"
   ],
   "window_display": false
  }
 },
 "nbformat": 4,
 "nbformat_minor": 1
}
