{
 "cells": [
  {
   "cell_type": "code",
   "execution_count": 1,
   "metadata": {
    "collapsed": false
   },
   "outputs": [],
   "source": [
    "%load_ext autoreload\n",
    "#%load_ext memory_profiler\n",
    "%autoreload 2"
   ]
  },
  {
   "cell_type": "code",
   "execution_count": 2,
   "metadata": {
    "collapsed": false
   },
   "outputs": [
    {
     "name": "stderr",
     "output_type": "stream",
     "text": [
      "//anaconda/lib/python2.7/site-packages/IPython/html.py:14: ShimWarning: The `IPython.html` package has been deprecated. You should import from `notebook` instead. `IPython.html.widgets` has moved to `ipywidgets`.\n",
      "  \"`IPython.html.widgets` has moved to `ipywidgets`.\", ShimWarning)\n"
     ]
    }
   ],
   "source": [
    "from suppression import *"
   ]
  },
  {
   "cell_type": "code",
   "execution_count": 3,
   "metadata": {
    "collapsed": true
   },
   "outputs": [],
   "source": [
    "df = load_psychophys('supp_data.txt')"
   ]
  },
  {
   "cell_type": "markdown",
   "metadata": {},
   "source": [
    "## Various plots ##"
   ]
  },
  {
   "cell_type": "code",
   "execution_count": null,
   "metadata": {
    "collapsed": false
   },
   "outputs": [],
   "source": [
    "%%prun -s cumulative -q -l 10 -T prun0\n",
    "#%mprun -T mprof0 -f group_facet_plot\n",
    "group_facet_plots(df, scaterror_plot, 'plots/supp_scatters.pdf',\n",
    "                  ['Task','Orientation','Presentation'], #each combo of this gets its own page\n",
    "                  row='Eye',col='Population', # facet rows and columns\n",
    "                  x=\"logRelContrast\", y=\"ThreshElev\", # x, y\n",
    "                  hue='subjName',yerr='ThreshElev_SE',fmt='o',legend=False) #coloring of points, error column"
   ]
  },
  {
   "cell_type": "code",
   "execution_count": null,
   "metadata": {
    "collapsed": false
   },
   "outputs": [],
   "source": [
    "print(open('prun0', 'r').read())"
   ]
  },
  {
   "cell_type": "code",
   "execution_count": null,
   "metadata": {
    "collapsed": false
   },
   "outputs": [],
   "source": [
    "%%prun -s cumulative -q -l 10 -T prun0\n",
    "group_facet_plots(df, sns.regplot, 'plots/subj_linregs.pdf',\n",
    "                  ['Task','Orientation','Presentation','Population'], #each combo of this gets its own page\n",
    "                  row=None, col='subjName', # no row because we will use col_wrap\n",
    "                  x=\"logRelContrast\", y=\"ThreshElev\", # x, y\n",
    "                  col_wrap=5, hue='Eye', #other variables accepted by facet\n",
    "                  ci=None) #arguments to be passed to the plotting function"
   ]
  },
  {
   "cell_type": "code",
   "execution_count": null,
   "metadata": {
    "collapsed": false
   },
   "outputs": [],
   "source": [
    "print(open('prun0', 'r').read())"
   ]
  },
  {
   "cell_type": "code",
   "execution_count": 10,
   "metadata": {
    "collapsed": false
   },
   "outputs": [
    {
     "name": "stdout",
     "output_type": "stream",
     "text": [
      "Plots saved at plots/subj_resids.pdf\n"
     ]
    }
   ],
   "source": [
    "#%%prun -s cumulative -q -l 10 -T prun0\n",
    "group_facet_plots(df, sns.residplot, 'plots/subj_resids.pdf',\n",
    "                  ['Task','Orientation','Presentation'], #each combo of this gets its own page\n",
    "                  col='Eye', row=None, # no row because we will use col_wrap\n",
    "                  x=\"logRelContrast\", y=\"ThreshElev\", # x, y\n",
    "                  hue='Population', #other variables accepted by facet\n",
    "                  lowess=True) #arguments to be passed to the plotting function"
   ]
  },
  {
   "cell_type": "code",
   "execution_count": null,
   "metadata": {
    "collapsed": false
   },
   "outputs": [],
   "source": [
    "print(open('prun0', 'r').read())"
   ]
  },
  {
   "cell_type": "code",
   "execution_count": null,
   "metadata": {
    "collapsed": true
   },
   "outputs": [],
   "source": []
  }
 ],
 "metadata": {
  "kernelspec": {
   "display_name": "Python 2",
   "language": "python",
   "name": "python2"
  },
  "language_info": {
   "codemirror_mode": {
    "name": "ipython",
    "version": 2
   },
   "file_extension": ".py",
   "mimetype": "text/x-python",
   "name": "python",
   "nbconvert_exporter": "python",
   "pygments_lexer": "ipython2",
   "version": "2.7.11"
  }
 },
 "nbformat": 4,
 "nbformat_minor": 0
}
