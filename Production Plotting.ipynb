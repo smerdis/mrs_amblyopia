{
 "cells": [
  {
   "cell_type": "code",
   "execution_count": 45,
   "metadata": {
    "collapsed": false
   },
   "outputs": [
    {
     "name": "stdout",
     "output_type": "stream",
     "text": [
      "The autoreload extension is already loaded. To reload it, use:\n",
      "  %reload_ext autoreload\n"
     ]
    }
   ],
   "source": [
    "%load_ext autoreload\n",
    "#%load_ext memory_profiler\n",
    "%autoreload 2"
   ]
  },
  {
   "cell_type": "code",
   "execution_count": 46,
   "metadata": {
    "collapsed": false
   },
   "outputs": [],
   "source": [
    "from suppression import *"
   ]
  },
  {
   "cell_type": "code",
   "execution_count": 47,
   "metadata": {
    "collapsed": true
   },
   "outputs": [],
   "source": [
    "df = load_psychophys('supp_data.txt')"
   ]
  },
  {
   "cell_type": "markdown",
   "metadata": {},
   "source": [
    "## Various plots ##"
   ]
  },
  {
   "cell_type": "code",
   "execution_count": 58,
   "metadata": {
    "collapsed": false
   },
   "outputs": [
    {
     "name": "stdout",
     "output_type": "stream",
     "text": [
      "Plots saved at plots/supp_scatters.pdf\n",
      " \n",
      "*** Profile printout saved to text file u'prun0'. \n"
     ]
    }
   ],
   "source": [
    "%%prun -s cumulative -q -l 10 -T prun0\n",
    "#%mprun -T mprof0 -f group_facet_plot\n",
    "group_facet_plots(df, scaterror_plot, 'plots/supp_scatters.pdf',\n",
    "                  ['Task','Orientation','Presentation'], #each combo of this gets its own page\n",
    "                  row='Eye',col='Population', # facet rows and columns\n",
    "                  x=\"logRelContrast\", y=\"ThreshElev\", # x, y\n",
    "                  hue='subjName',yerr='ThreshElev_SE',fmt='o',legend=False) #coloring of points, error column"
   ]
  },
  {
   "cell_type": "code",
   "execution_count": 49,
   "metadata": {
    "collapsed": false
   },
   "outputs": [
    {
     "name": "stdout",
     "output_type": "stream",
     "text": [
      "         14833728 function calls (14549790 primitive calls) in 21.985 seconds\n",
      "\n",
      "   Ordered by: cumulative time\n",
      "   List reduced from 1575 to 10 due to restriction <10>\n",
      "\n",
      "   ncalls  tottime  percall  cumtime  percall filename:lineno(function)\n",
      "        1    0.000    0.000   21.987   21.987 <string>:3(<module>)\n",
      "        1    0.001    0.001   21.987   21.987 suppression.py:29(group_facet_plots)\n",
      "        8    0.021    0.003   11.553    1.444 axisgrid.py:734(map_dataframe)\n",
      "      512    0.004    0.000    7.078    0.014 axisgrid.py:808(_facet_plot)\n",
      "      512    0.006    0.000    6.939    0.014 suppression.py:18(scaterror_plot)\n",
      "      512    0.008    0.000    6.888    0.013 pyplot.py:2813(errorbar)\n",
      " 2560/512    0.027    0.000    6.873    0.013 __init__.py:1732(inner)\n",
      "      512    0.046    0.000    6.781    0.013 _axes.py:2657(errorbar)\n",
      "        8    0.000    0.000    6.193    0.774 backend_pdf.py:2456(savefig)\n",
      "        8    0.000    0.000    6.193    0.774 figure.py:1435(savefig)\n"
     ]
    }
   ],
   "source": [
    "print(open('prun0', 'r').read())"
   ]
  },
  {
   "cell_type": "code",
   "execution_count": 50,
   "metadata": {
    "collapsed": false
   },
   "outputs": [
    {
     "name": "stdout",
     "output_type": "stream",
     "text": [
      "Plots saved at plots/subj_linregs.pdf\n",
      " \n",
      "*** Profile printout saved to text file u'prun0'. \n"
     ]
    }
   ],
   "source": [
    "%%prun -s cumulative -q -l 10 -T prun0\n",
    "group_facet_plots(df, sns.regplot, 'plots/subj_linregs.pdf',\n",
    "                  ['Task','Orientation','Presentation','Population'], #each combo of this gets its own page\n",
    "                  row=None, col='subjName', # no row because we will use col_wrap\n",
    "                  x=\"logRelContrast\", y=\"ThreshElev\", # x, y\n",
    "                  col_wrap=5, hue='Eye', #other variables accepted by facet\n",
    "                  ci=None) #arguments to be passed to the plotting function"
   ]
  },
  {
   "cell_type": "code",
   "execution_count": 51,
   "metadata": {
    "collapsed": false
   },
   "outputs": [
    {
     "name": "stdout",
     "output_type": "stream",
     "text": [
      "         34778769 function calls (34072557 primitive calls) in 56.107 seconds\n",
      "\n",
      "   Ordered by: cumulative time\n",
      "   List reduced from 1570 to 10 due to restriction <10>\n",
      "\n",
      "   ncalls  tottime  percall  cumtime  percall filename:lineno(function)\n",
      "        1    0.000    0.000   56.108   56.108 <string>:2(<module>)\n",
      "        1    0.002    0.002   56.108   56.108 suppression.py:29(group_facet_plots)\n",
      "       16    0.007    0.000   29.110    1.819 axisgrid.py:218(__init__)\n",
      "12451/10179    0.285    0.000   23.801    0.002 axis.py:67(__init__)\n",
      "      284    0.009    0.000   21.904    0.077 figure.py:924(add_subplot)\n",
      "      284    0.005    0.000   21.849    0.077 _subplots.py:23(__init__)\n",
      "      284    0.018    0.000   21.779    0.077 _base.py:411(__init__)\n",
      "     3408    0.076    0.000   18.280    0.005 axis.py:711(cla)\n",
      "4544/3408    0.059    0.000   17.856    0.005 axis.py:749(reset_ticks)\n",
      "    37865    1.058    0.000   14.646    0.000 lines.py:251(__init__)\n"
     ]
    }
   ],
   "source": [
    "print(open('prun0', 'r').read())"
   ]
  },
  {
   "cell_type": "code",
   "execution_count": 66,
   "metadata": {
    "collapsed": false
   },
   "outputs": [
    {
     "name": "stdout",
     "output_type": "stream",
     "text": [
      "Plots saved at plots/subj_resids.pdf\n",
      " \n",
      "*** Profile printout saved to text file u'prun0'. \n"
     ]
    }
   ],
   "source": [
    "%%prun -s cumulative -q -l 10 -T prun0\n",
    "group_facet_plots(df, sns.residplot, 'plots/subj_resids.pdf',\n",
    "                  ['Task','Orientation'], #each combo of this gets its own page\n",
    "                  col='Presentation', row='Eye', # no row because we will use col_wrap\n",
    "                  x=\"logRelContrast\", y=\"ThreshElev\", # x, y\n",
    "                  hue='Population', #other variables accepted by facet\n",
    "                  lowess=False) #arguments to be passed to the plotting function"
   ]
  },
  {
   "cell_type": "code",
   "execution_count": 64,
   "metadata": {
    "collapsed": false
   },
   "outputs": [
    {
     "name": "stdout",
     "output_type": "stream",
     "text": [
      "         2167901 function calls (2130513 primitive calls) in 2.960 seconds\n",
      "\n",
      "   Ordered by: cumulative time\n",
      "   List reduced from 1572 to 10 due to restriction <10>\n",
      "\n",
      "   ncalls  tottime  percall  cumtime  percall filename:lineno(function)\n",
      "        1    0.000    0.000    2.960    2.960 <string>:2(<module>)\n",
      "        1    0.000    0.000    2.960    2.960 suppression.py:29(group_facet_plots)\n",
      "        4    0.000    0.000    1.571    0.393 axisgrid.py:218(__init__)\n",
      "        4    0.001    0.000    1.337    0.334 pyplot.py:1034(subplots)\n",
      "       16    0.000    0.000    1.198    0.075 figure.py:924(add_subplot)\n",
      "       16    0.000    0.000    1.195    0.075 _subplots.py:23(__init__)\n",
      "       16    0.001    0.000    1.192    0.074 _base.py:411(__init__)\n",
      "  668/540    0.014    0.000    1.151    0.002 axis.py:67(__init__)\n",
      "      192    0.004    0.000    0.981    0.005 axis.py:711(cla)\n",
      "  256/192    0.002    0.000    0.961    0.005 axis.py:749(reset_ticks)\n"
     ]
    }
   ],
   "source": [
    "print(open('prun0', 'r').read())"
   ]
  },
  {
   "cell_type": "code",
   "execution_count": null,
   "metadata": {
    "collapsed": true
   },
   "outputs": [],
   "source": []
  }
 ],
 "metadata": {
  "kernelspec": {
   "display_name": "Python 2",
   "language": "python",
   "name": "python2"
  },
  "language_info": {
   "codemirror_mode": {
    "name": "ipython",
    "version": 2
   },
   "file_extension": ".py",
   "mimetype": "text/x-python",
   "name": "python",
   "nbconvert_exporter": "python",
   "pygments_lexer": "ipython2",
   "version": "2.7.11"
  }
 },
 "nbformat": 4,
 "nbformat_minor": 0
}
