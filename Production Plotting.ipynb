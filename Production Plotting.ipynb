{
 "cells": [
  {
   "cell_type": "code",
   "execution_count": 30,
   "metadata": {
    "collapsed": false
   },
   "outputs": [
    {
     "name": "stdout",
     "output_type": "stream",
     "text": [
      "The autoreload extension is already loaded. To reload it, use:\n",
      "  %reload_ext autoreload\n"
     ]
    }
   ],
   "source": [
    "%load_ext autoreload\n",
    "#%load_ext memory_profiler\n",
    "%autoreload 2"
   ]
  },
  {
   "cell_type": "code",
   "execution_count": 4,
   "metadata": {
    "collapsed": false
   },
   "outputs": [],
   "source": [
    "from suppression import *"
   ]
  },
  {
   "cell_type": "code",
   "execution_count": 5,
   "metadata": {
    "collapsed": true
   },
   "outputs": [],
   "source": [
    "df = load_psychophys('supp_data.txt')"
   ]
  },
  {
   "cell_type": "markdown",
   "metadata": {},
   "source": [
    "## Various plots ##"
   ]
  },
  {
   "cell_type": "code",
   "execution_count": 41,
   "metadata": {
    "collapsed": false
   },
   "outputs": [
    {
     "name": "stdout",
     "output_type": "stream",
     "text": [
      "Plots saved at plots/supp_scatters.pdf\n",
      " \n",
      "*** Profile printout saved to text file u'prun0'. \n"
     ]
    }
   ],
   "source": [
    "%%prun -s cumulative -q -l 10 -T prun0\n",
    "#%mprun -T mprof0 -f group_facet_plot\n",
    "group_facet_plots(df, scaterror_plot, 'plots/supp_scatters.pdf',\n",
    "                  ['Task','Orientation','Presentation'], #each combo of this gets its own page\n",
    "                  row='Eye',col='Population', # facet rows and columns\n",
    "                  x=\"logRelContrast\", y=\"ThreshElev\", # x, y\n",
    "                  hue='subjName',yerr='ThreshElev_SE',marker='o') #coloring of points, error column"
   ]
  },
  {
   "cell_type": "code",
   "execution_count": 42,
   "metadata": {
    "collapsed": false
   },
   "outputs": [
    {
     "name": "stdout",
     "output_type": "stream",
     "text": [
      "         14835319 function calls (14551425 primitive calls) in 25.147 seconds\n",
      "\n",
      "   Ordered by: cumulative time\n",
      "   List reduced from 1574 to 10 due to restriction <10>\n",
      "\n",
      "   ncalls  tottime  percall  cumtime  percall filename:lineno(function)\n",
      "        1    0.000    0.000   25.149   25.149 <string>:3(<module>)\n",
      "        1    0.001    0.001   25.149   25.149 suppression.py:25(group_facet_plots)\n",
      "        8    0.027    0.003   12.441    1.555 axisgrid.py:733(map_dataframe)\n",
      "        8    0.000    0.000    8.289    1.036 backend_pdf.py:2456(savefig)\n",
      "        8    0.000    0.000    8.289    1.036 figure.py:1435(savefig)\n",
      "        8    0.000    0.000    8.288    1.036 backend_bases.py:2081(print_figure)\n",
      "        8    0.000    0.000    8.200    1.025 backend_pdf.py:2521(print_pdf)\n",
      "   6640/8    0.031    0.000    8.192    1.024 artist.py:59(draw_wrapper)\n",
      "        8    0.000    0.000    8.192    1.024 figure.py:1049(draw)\n",
      "      512    0.005    0.000    7.953    0.016 axisgrid.py:807(_facet_plot)\n"
     ]
    }
   ],
   "source": [
    "print(open('prun0', 'r').read())"
   ]
  },
  {
   "cell_type": "code",
   "execution_count": 37,
   "metadata": {
    "collapsed": false
   },
   "outputs": [
    {
     "name": "stdout",
     "output_type": "stream",
     "text": [
      "Plots saved at plots/subj_linregs.pdf\n",
      " \n",
      "*** Profile printout saved to text file u'prun0'. \n"
     ]
    }
   ],
   "source": [
    "%%prun -s cumulative -q -l 10 -T prun0\n",
    "group_facet_plots(df, sns.regplot, 'plots/subj_linregs.pdf',\n",
    "                  ['Task','Orientation','Presentation','Population'], #each combo of this gets its own page\n",
    "                  row=None, col='subjName', # no row because we will use col_wrap\n",
    "                  x=\"logRelContrast\", y=\"ThreshElev\", # x, y\n",
    "                  col_wrap=5, hue='Eye', #other variables accepted by facet\n",
    "                  ci=None) #arguments to be passed to the plotting function"
   ]
  },
  {
   "cell_type": "code",
   "execution_count": 38,
   "metadata": {
    "collapsed": false
   },
   "outputs": [
    {
     "name": "stdout",
     "output_type": "stream",
     "text": [
      "         34917377 function calls (34210615 primitive calls) in 56.584 seconds\n",
      "\n",
      "   Ordered by: cumulative time\n",
      "   List reduced from 1602 to 10 due to restriction <10>\n",
      "\n",
      "   ncalls  tottime  percall  cumtime  percall filename:lineno(function)\n",
      "        1    0.000    0.000   56.585   56.585 <string>:2(<module>)\n",
      "        1    0.002    0.002   56.585   56.585 suppression.py:25(group_facet_plots)\n",
      "       16    0.008    0.001   30.844    1.928 axisgrid.py:218(__init__)\n",
      "12451/10179    0.302    0.000   24.430    0.002 axis.py:67(__init__)\n",
      "      284    0.005    0.000   22.036    0.078 figure.py:924(add_subplot)\n",
      "      284    0.005    0.000   21.979    0.077 _subplots.py:23(__init__)\n",
      "      284    0.018    0.000   21.915    0.077 _base.py:411(__init__)\n",
      "     3408    0.071    0.000   17.974    0.005 axis.py:711(cla)\n",
      "4544/3408    0.045    0.000   17.578    0.005 axis.py:749(reset_ticks)\n",
      "    37865    1.085    0.000   15.477    0.000 lines.py:251(__init__)\n"
     ]
    }
   ],
   "source": [
    "print(open('prun0', 'r').read())"
   ]
  },
  {
   "cell_type": "code",
   "execution_count": 39,
   "metadata": {
    "collapsed": false
   },
   "outputs": [
    {
     "name": "stdout",
     "output_type": "stream",
     "text": [
      "Plots saved at plots/subj_resids.pdf\n",
      " \n",
      "*** Profile printout saved to text file u'prun0'. \n"
     ]
    }
   ],
   "source": [
    "%%prun -s cumulative -q -l 10 -T prun0\n",
    "group_facet_plots(df, sns.residplot, 'plots/subj_resids.pdf',\n",
    "                  ['Task','Orientation','Presentation','Population'], #each combo of this gets its own page\n",
    "                  row=None, col='subjName', # no row because we will use col_wrap\n",
    "                  x=\"logRelContrast\", y=\"ThreshElev\", # x, y\n",
    "                  col_wrap=5, hue='Eye', #other variables accepted by facet\n",
    "                  lowess=True) #arguments to be passed to the plotting function"
   ]
  },
  {
   "cell_type": "code",
   "execution_count": 40,
   "metadata": {
    "collapsed": false
   },
   "outputs": [
    {
     "name": "stdout",
     "output_type": "stream",
     "text": [
      "         35829018 function calls (35095851 primitive calls) in 71.092 seconds\n",
      "\n",
      "   Ordered by: cumulative time\n",
      "   List reduced from 1635 to 10 due to restriction <10>\n",
      "\n",
      "   ncalls  tottime  percall  cumtime  percall filename:lineno(function)\n",
      "        1    0.000    0.000   71.093   71.093 <string>:2(<module>)\n",
      "        1    0.002    0.002   71.093   71.093 suppression.py:25(group_facet_plots)\n",
      "       16    0.012    0.001   34.888    2.180 axisgrid.py:218(__init__)\n",
      "12404/10132    0.386    0.000   29.162    0.003 axis.py:67(__init__)\n",
      "      284    0.006    0.000   23.873    0.084 figure.py:924(add_subplot)\n",
      "      284    0.005    0.000   23.818    0.084 _subplots.py:23(__init__)\n",
      "      284    0.023    0.000   23.746    0.084 _base.py:411(__init__)\n",
      "       16    0.039    0.002   20.905    1.307 axisgrid.py:733(map_dataframe)\n",
      "     3408    0.085    0.000   19.836    0.006 axis.py:711(cla)\n",
      "4544/3408    0.053    0.000   19.291    0.006 axis.py:749(reset_ticks)\n"
     ]
    }
   ],
   "source": [
    "print(open('prun0', 'r').read())"
   ]
  },
  {
   "cell_type": "code",
   "execution_count": null,
   "metadata": {
    "collapsed": true
   },
   "outputs": [],
   "source": []
  }
 ],
 "metadata": {
  "kernelspec": {
   "display_name": "Python 2",
   "language": "python",
   "name": "python2"
  },
  "language_info": {
   "codemirror_mode": {
    "name": "ipython",
    "version": 2
   },
   "file_extension": ".py",
   "mimetype": "text/x-python",
   "name": "python",
   "nbconvert_exporter": "python",
   "pygments_lexer": "ipython2",
   "version": "2.7.11"
  }
 },
 "nbformat": 4,
 "nbformat_minor": 0
}
